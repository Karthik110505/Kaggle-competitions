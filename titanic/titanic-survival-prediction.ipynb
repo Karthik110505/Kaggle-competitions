{
 "cells": [
  {
   "cell_type": "markdown",
   "id": "67cf965a",
   "metadata": {
    "papermill": {
     "duration": 0.018086,
     "end_time": "2024-02-29T04:30:34.689538",
     "exception": false,
     "start_time": "2024-02-29T04:30:34.671452",
     "status": "completed"
    },
    "tags": []
   },
   "source": [
    "# Importing libraries"
   ]
  },
  {
   "cell_type": "code",
   "execution_count": 1,
   "id": "d52df5d1",
   "metadata": {
    "_cell_guid": "b1076dfc-b9ad-4769-8c92-a6c4dae69d19",
    "_uuid": "8f2839f25d086af736a60e9eeb907d3b93b6e0e5",
    "execution": {
     "iopub.execute_input": "2024-02-29T04:30:34.726266Z",
     "iopub.status.busy": "2024-02-29T04:30:34.725642Z",
     "iopub.status.idle": "2024-02-29T04:30:37.023758Z",
     "shell.execute_reply": "2024-02-29T04:30:37.022723Z"
    },
    "papermill": {
     "duration": 2.319479,
     "end_time": "2024-02-29T04:30:37.026445",
     "exception": false,
     "start_time": "2024-02-29T04:30:34.706966",
     "status": "completed"
    },
    "tags": []
   },
   "outputs": [],
   "source": [
    "import numpy as np\n",
    "import pandas as pd\n",
    "import matplotlib.pyplot as plt\n",
    "import seaborn as sns"
   ]
  },
  {
   "cell_type": "code",
   "execution_count": 2,
   "id": "45cca50d",
   "metadata": {
    "execution": {
     "iopub.execute_input": "2024-02-29T04:30:37.064174Z",
     "iopub.status.busy": "2024-02-29T04:30:37.063420Z",
     "iopub.status.idle": "2024-02-29T04:30:37.067893Z",
     "shell.execute_reply": "2024-02-29T04:30:37.066802Z"
    },
    "papermill": {
     "duration": 0.02651,
     "end_time": "2024-02-29T04:30:37.070449",
     "exception": false,
     "start_time": "2024-02-29T04:30:37.043939",
     "status": "completed"
    },
    "tags": []
   },
   "outputs": [],
   "source": [
    "import warnings\n",
    "\n",
    "# Ignore all warnings\n",
    "warnings.filterwarnings(\"ignore\")"
   ]
  },
  {
   "cell_type": "markdown",
   "id": "069c27cd",
   "metadata": {
    "papermill": {
     "duration": 0.017094,
     "end_time": "2024-02-29T04:30:37.106556",
     "exception": false,
     "start_time": "2024-02-29T04:30:37.089462",
     "status": "completed"
    },
    "tags": []
   },
   "source": [
    "# Importing dataset"
   ]
  },
  {
   "cell_type": "code",
   "execution_count": 3,
   "id": "f80972e3",
   "metadata": {
    "execution": {
     "iopub.execute_input": "2024-02-29T04:30:37.145303Z",
     "iopub.status.busy": "2024-02-29T04:30:37.144221Z",
     "iopub.status.idle": "2024-02-29T04:30:37.151886Z",
     "shell.execute_reply": "2024-02-29T04:30:37.150672Z"
    },
    "papermill": {
     "duration": 0.030355,
     "end_time": "2024-02-29T04:30:37.155497",
     "exception": false,
     "start_time": "2024-02-29T04:30:37.125142",
     "status": "completed"
    },
    "tags": []
   },
   "outputs": [
    {
     "name": "stdout",
     "output_type": "stream",
     "text": [
      "/kaggle/input/titanic/train.csv\n",
      "/kaggle/input/titanic/test.csv\n",
      "/kaggle/input/titanic/gender_submission.csv\n"
     ]
    }
   ],
   "source": [
    "import os\n",
    "for dirname, _, filenames in os.walk('/kaggle/input'):\n",
    "    for filename in filenames:\n",
    "        print(os.path.join(dirname, filename))\n"
   ]
  },
  {
   "cell_type": "code",
   "execution_count": 4,
   "id": "56e8d9ca",
   "metadata": {
    "execution": {
     "iopub.execute_input": "2024-02-29T04:30:37.193613Z",
     "iopub.status.busy": "2024-02-29T04:30:37.193197Z",
     "iopub.status.idle": "2024-02-29T04:30:37.223729Z",
     "shell.execute_reply": "2024-02-29T04:30:37.222596Z"
    },
    "papermill": {
     "duration": 0.052781,
     "end_time": "2024-02-29T04:30:37.226350",
     "exception": false,
     "start_time": "2024-02-29T04:30:37.173569",
     "status": "completed"
    },
    "tags": []
   },
   "outputs": [],
   "source": [
    "df = pd.read_csv(\"/kaggle/input/titanic/train.csv\")\n",
    "test = pd.read_csv(\"/kaggle/input/titanic/test.csv\")\n"
   ]
  },
  {
   "cell_type": "markdown",
   "id": "d507eb68",
   "metadata": {
    "papermill": {
     "duration": 0.017506,
     "end_time": "2024-02-29T04:30:37.262258",
     "exception": false,
     "start_time": "2024-02-29T04:30:37.244752",
     "status": "completed"
    },
    "tags": []
   },
   "source": [
    "# Data Exploration and Cleaning"
   ]
  },
  {
   "cell_type": "code",
   "execution_count": 5,
   "id": "b4ec7846",
   "metadata": {
    "execution": {
     "iopub.execute_input": "2024-02-29T04:30:37.300030Z",
     "iopub.status.busy": "2024-02-29T04:30:37.299260Z",
     "iopub.status.idle": "2024-02-29T04:30:37.322642Z",
     "shell.execute_reply": "2024-02-29T04:30:37.321424Z"
    },
    "papermill": {
     "duration": 0.045093,
     "end_time": "2024-02-29T04:30:37.325389",
     "exception": false,
     "start_time": "2024-02-29T04:30:37.280296",
     "status": "completed"
    },
    "tags": []
   },
   "outputs": [
    {
     "data": {
      "text/html": [
       "<div>\n",
       "<style scoped>\n",
       "    .dataframe tbody tr th:only-of-type {\n",
       "        vertical-align: middle;\n",
       "    }\n",
       "\n",
       "    .dataframe tbody tr th {\n",
       "        vertical-align: top;\n",
       "    }\n",
       "\n",
       "    .dataframe thead th {\n",
       "        text-align: right;\n",
       "    }\n",
       "</style>\n",
       "<table border=\"1\" class=\"dataframe\">\n",
       "  <thead>\n",
       "    <tr style=\"text-align: right;\">\n",
       "      <th></th>\n",
       "      <th>PassengerId</th>\n",
       "      <th>Survived</th>\n",
       "      <th>Pclass</th>\n",
       "      <th>Name</th>\n",
       "      <th>Sex</th>\n",
       "      <th>Age</th>\n",
       "      <th>SibSp</th>\n",
       "      <th>Parch</th>\n",
       "      <th>Ticket</th>\n",
       "      <th>Fare</th>\n",
       "      <th>Cabin</th>\n",
       "      <th>Embarked</th>\n",
       "    </tr>\n",
       "  </thead>\n",
       "  <tbody>\n",
       "    <tr>\n",
       "      <th>0</th>\n",
       "      <td>1</td>\n",
       "      <td>0</td>\n",
       "      <td>3</td>\n",
       "      <td>Braund, Mr. Owen Harris</td>\n",
       "      <td>male</td>\n",
       "      <td>22.0</td>\n",
       "      <td>1</td>\n",
       "      <td>0</td>\n",
       "      <td>A/5 21171</td>\n",
       "      <td>7.2500</td>\n",
       "      <td>NaN</td>\n",
       "      <td>S</td>\n",
       "    </tr>\n",
       "    <tr>\n",
       "      <th>1</th>\n",
       "      <td>2</td>\n",
       "      <td>1</td>\n",
       "      <td>1</td>\n",
       "      <td>Cumings, Mrs. John Bradley (Florence Briggs Th...</td>\n",
       "      <td>female</td>\n",
       "      <td>38.0</td>\n",
       "      <td>1</td>\n",
       "      <td>0</td>\n",
       "      <td>PC 17599</td>\n",
       "      <td>71.2833</td>\n",
       "      <td>C85</td>\n",
       "      <td>C</td>\n",
       "    </tr>\n",
       "    <tr>\n",
       "      <th>2</th>\n",
       "      <td>3</td>\n",
       "      <td>1</td>\n",
       "      <td>3</td>\n",
       "      <td>Heikkinen, Miss. Laina</td>\n",
       "      <td>female</td>\n",
       "      <td>26.0</td>\n",
       "      <td>0</td>\n",
       "      <td>0</td>\n",
       "      <td>STON/O2. 3101282</td>\n",
       "      <td>7.9250</td>\n",
       "      <td>NaN</td>\n",
       "      <td>S</td>\n",
       "    </tr>\n",
       "  </tbody>\n",
       "</table>\n",
       "</div>"
      ],
      "text/plain": [
       "   PassengerId  Survived  Pclass  \\\n",
       "0            1         0       3   \n",
       "1            2         1       1   \n",
       "2            3         1       3   \n",
       "\n",
       "                                                Name     Sex   Age  SibSp  \\\n",
       "0                            Braund, Mr. Owen Harris    male  22.0      1   \n",
       "1  Cumings, Mrs. John Bradley (Florence Briggs Th...  female  38.0      1   \n",
       "2                             Heikkinen, Miss. Laina  female  26.0      0   \n",
       "\n",
       "   Parch            Ticket     Fare Cabin Embarked  \n",
       "0      0         A/5 21171   7.2500   NaN        S  \n",
       "1      0          PC 17599  71.2833   C85        C  \n",
       "2      0  STON/O2. 3101282   7.9250   NaN        S  "
      ]
     },
     "execution_count": 5,
     "metadata": {},
     "output_type": "execute_result"
    }
   ],
   "source": [
    "df.head(3)"
   ]
  },
  {
   "cell_type": "code",
   "execution_count": 6,
   "id": "162359ed",
   "metadata": {
    "execution": {
     "iopub.execute_input": "2024-02-29T04:30:37.362819Z",
     "iopub.status.busy": "2024-02-29T04:30:37.362421Z",
     "iopub.status.idle": "2024-02-29T04:30:37.369186Z",
     "shell.execute_reply": "2024-02-29T04:30:37.368049Z"
    },
    "papermill": {
     "duration": 0.028403,
     "end_time": "2024-02-29T04:30:37.371660",
     "exception": false,
     "start_time": "2024-02-29T04:30:37.343257",
     "status": "completed"
    },
    "tags": []
   },
   "outputs": [
    {
     "data": {
      "text/plain": [
       "(891, 12)"
      ]
     },
     "execution_count": 6,
     "metadata": {},
     "output_type": "execute_result"
    }
   ],
   "source": [
    "df.shape"
   ]
  },
  {
   "cell_type": "code",
   "execution_count": 7,
   "id": "f7d01deb",
   "metadata": {
    "execution": {
     "iopub.execute_input": "2024-02-29T04:30:37.409365Z",
     "iopub.status.busy": "2024-02-29T04:30:37.408960Z",
     "iopub.status.idle": "2024-02-29T04:30:37.438800Z",
     "shell.execute_reply": "2024-02-29T04:30:37.437465Z"
    },
    "papermill": {
     "duration": 0.052024,
     "end_time": "2024-02-29T04:30:37.441501",
     "exception": false,
     "start_time": "2024-02-29T04:30:37.389477",
     "status": "completed"
    },
    "tags": []
   },
   "outputs": [
    {
     "name": "stdout",
     "output_type": "stream",
     "text": [
      "<class 'pandas.core.frame.DataFrame'>\n",
      "RangeIndex: 891 entries, 0 to 890\n",
      "Data columns (total 12 columns):\n",
      " #   Column       Non-Null Count  Dtype  \n",
      "---  ------       --------------  -----  \n",
      " 0   PassengerId  891 non-null    int64  \n",
      " 1   Survived     891 non-null    int64  \n",
      " 2   Pclass       891 non-null    int64  \n",
      " 3   Name         891 non-null    object \n",
      " 4   Sex          891 non-null    object \n",
      " 5   Age          714 non-null    float64\n",
      " 6   SibSp        891 non-null    int64  \n",
      " 7   Parch        891 non-null    int64  \n",
      " 8   Ticket       891 non-null    object \n",
      " 9   Fare         891 non-null    float64\n",
      " 10  Cabin        204 non-null    object \n",
      " 11  Embarked     889 non-null    object \n",
      "dtypes: float64(2), int64(5), object(5)\n",
      "memory usage: 83.7+ KB\n"
     ]
    }
   ],
   "source": [
    "df.info()"
   ]
  },
  {
   "cell_type": "code",
   "execution_count": 8,
   "id": "2d41a60f",
   "metadata": {
    "execution": {
     "iopub.execute_input": "2024-02-29T04:30:37.480026Z",
     "iopub.status.busy": "2024-02-29T04:30:37.479185Z",
     "iopub.status.idle": "2024-02-29T04:30:37.511054Z",
     "shell.execute_reply": "2024-02-29T04:30:37.509890Z"
    },
    "papermill": {
     "duration": 0.05388,
     "end_time": "2024-02-29T04:30:37.513547",
     "exception": false,
     "start_time": "2024-02-29T04:30:37.459667",
     "status": "completed"
    },
    "tags": []
   },
   "outputs": [
    {
     "data": {
      "text/html": [
       "<div>\n",
       "<style scoped>\n",
       "    .dataframe tbody tr th:only-of-type {\n",
       "        vertical-align: middle;\n",
       "    }\n",
       "\n",
       "    .dataframe tbody tr th {\n",
       "        vertical-align: top;\n",
       "    }\n",
       "\n",
       "    .dataframe thead th {\n",
       "        text-align: right;\n",
       "    }\n",
       "</style>\n",
       "<table border=\"1\" class=\"dataframe\">\n",
       "  <thead>\n",
       "    <tr style=\"text-align: right;\">\n",
       "      <th></th>\n",
       "      <th>PassengerId</th>\n",
       "      <th>Survived</th>\n",
       "      <th>Pclass</th>\n",
       "      <th>Age</th>\n",
       "      <th>SibSp</th>\n",
       "      <th>Parch</th>\n",
       "      <th>Fare</th>\n",
       "    </tr>\n",
       "  </thead>\n",
       "  <tbody>\n",
       "    <tr>\n",
       "      <th>count</th>\n",
       "      <td>891.000000</td>\n",
       "      <td>891.000000</td>\n",
       "      <td>891.000000</td>\n",
       "      <td>714.000000</td>\n",
       "      <td>891.000000</td>\n",
       "      <td>891.000000</td>\n",
       "      <td>891.000000</td>\n",
       "    </tr>\n",
       "    <tr>\n",
       "      <th>mean</th>\n",
       "      <td>446.000000</td>\n",
       "      <td>0.383838</td>\n",
       "      <td>2.308642</td>\n",
       "      <td>29.699118</td>\n",
       "      <td>0.523008</td>\n",
       "      <td>0.381594</td>\n",
       "      <td>32.204208</td>\n",
       "    </tr>\n",
       "    <tr>\n",
       "      <th>std</th>\n",
       "      <td>257.353842</td>\n",
       "      <td>0.486592</td>\n",
       "      <td>0.836071</td>\n",
       "      <td>14.526497</td>\n",
       "      <td>1.102743</td>\n",
       "      <td>0.806057</td>\n",
       "      <td>49.693429</td>\n",
       "    </tr>\n",
       "    <tr>\n",
       "      <th>min</th>\n",
       "      <td>1.000000</td>\n",
       "      <td>0.000000</td>\n",
       "      <td>1.000000</td>\n",
       "      <td>0.420000</td>\n",
       "      <td>0.000000</td>\n",
       "      <td>0.000000</td>\n",
       "      <td>0.000000</td>\n",
       "    </tr>\n",
       "    <tr>\n",
       "      <th>25%</th>\n",
       "      <td>223.500000</td>\n",
       "      <td>0.000000</td>\n",
       "      <td>2.000000</td>\n",
       "      <td>20.125000</td>\n",
       "      <td>0.000000</td>\n",
       "      <td>0.000000</td>\n",
       "      <td>7.910400</td>\n",
       "    </tr>\n",
       "    <tr>\n",
       "      <th>50%</th>\n",
       "      <td>446.000000</td>\n",
       "      <td>0.000000</td>\n",
       "      <td>3.000000</td>\n",
       "      <td>28.000000</td>\n",
       "      <td>0.000000</td>\n",
       "      <td>0.000000</td>\n",
       "      <td>14.454200</td>\n",
       "    </tr>\n",
       "    <tr>\n",
       "      <th>75%</th>\n",
       "      <td>668.500000</td>\n",
       "      <td>1.000000</td>\n",
       "      <td>3.000000</td>\n",
       "      <td>38.000000</td>\n",
       "      <td>1.000000</td>\n",
       "      <td>0.000000</td>\n",
       "      <td>31.000000</td>\n",
       "    </tr>\n",
       "    <tr>\n",
       "      <th>max</th>\n",
       "      <td>891.000000</td>\n",
       "      <td>1.000000</td>\n",
       "      <td>3.000000</td>\n",
       "      <td>80.000000</td>\n",
       "      <td>8.000000</td>\n",
       "      <td>6.000000</td>\n",
       "      <td>512.329200</td>\n",
       "    </tr>\n",
       "  </tbody>\n",
       "</table>\n",
       "</div>"
      ],
      "text/plain": [
       "       PassengerId    Survived      Pclass         Age       SibSp  \\\n",
       "count   891.000000  891.000000  891.000000  714.000000  891.000000   \n",
       "mean    446.000000    0.383838    2.308642   29.699118    0.523008   \n",
       "std     257.353842    0.486592    0.836071   14.526497    1.102743   \n",
       "min       1.000000    0.000000    1.000000    0.420000    0.000000   \n",
       "25%     223.500000    0.000000    2.000000   20.125000    0.000000   \n",
       "50%     446.000000    0.000000    3.000000   28.000000    0.000000   \n",
       "75%     668.500000    1.000000    3.000000   38.000000    1.000000   \n",
       "max     891.000000    1.000000    3.000000   80.000000    8.000000   \n",
       "\n",
       "            Parch        Fare  \n",
       "count  891.000000  891.000000  \n",
       "mean     0.381594   32.204208  \n",
       "std      0.806057   49.693429  \n",
       "min      0.000000    0.000000  \n",
       "25%      0.000000    7.910400  \n",
       "50%      0.000000   14.454200  \n",
       "75%      0.000000   31.000000  \n",
       "max      6.000000  512.329200  "
      ]
     },
     "execution_count": 8,
     "metadata": {},
     "output_type": "execute_result"
    }
   ],
   "source": [
    "df.describe()"
   ]
  },
  {
   "cell_type": "code",
   "execution_count": 9,
   "id": "6355b57d",
   "metadata": {
    "execution": {
     "iopub.execute_input": "2024-02-29T04:30:37.551906Z",
     "iopub.status.busy": "2024-02-29T04:30:37.551489Z",
     "iopub.status.idle": "2024-02-29T04:30:37.560906Z",
     "shell.execute_reply": "2024-02-29T04:30:37.559857Z"
    },
    "papermill": {
     "duration": 0.031572,
     "end_time": "2024-02-29T04:30:37.563325",
     "exception": false,
     "start_time": "2024-02-29T04:30:37.531753",
     "status": "completed"
    },
    "tags": []
   },
   "outputs": [
    {
     "data": {
      "text/plain": [
       "PassengerId      0\n",
       "Survived         0\n",
       "Pclass           0\n",
       "Name             0\n",
       "Sex              0\n",
       "Age            177\n",
       "SibSp            0\n",
       "Parch            0\n",
       "Ticket           0\n",
       "Fare             0\n",
       "Cabin          687\n",
       "Embarked         2\n",
       "dtype: int64"
      ]
     },
     "execution_count": 9,
     "metadata": {},
     "output_type": "execute_result"
    }
   ],
   "source": [
    "df.isnull().sum()"
   ]
  },
  {
   "cell_type": "code",
   "execution_count": 10,
   "id": "075e7964",
   "metadata": {
    "execution": {
     "iopub.execute_input": "2024-02-29T04:30:37.602169Z",
     "iopub.status.busy": "2024-02-29T04:30:37.601737Z",
     "iopub.status.idle": "2024-02-29T04:30:37.610783Z",
     "shell.execute_reply": "2024-02-29T04:30:37.609617Z"
    },
    "papermill": {
     "duration": 0.031496,
     "end_time": "2024-02-29T04:30:37.613256",
     "exception": false,
     "start_time": "2024-02-29T04:30:37.581760",
     "status": "completed"
    },
    "tags": []
   },
   "outputs": [
    {
     "data": {
      "text/plain": [
       "PassengerId      0\n",
       "Pclass           0\n",
       "Name             0\n",
       "Sex              0\n",
       "Age             86\n",
       "SibSp            0\n",
       "Parch            0\n",
       "Ticket           0\n",
       "Fare             1\n",
       "Cabin          327\n",
       "Embarked         0\n",
       "dtype: int64"
      ]
     },
     "execution_count": 10,
     "metadata": {},
     "output_type": "execute_result"
    }
   ],
   "source": [
    "test.isnull().sum()"
   ]
  },
  {
   "cell_type": "code",
   "execution_count": 11,
   "id": "c5d4deea",
   "metadata": {
    "execution": {
     "iopub.execute_input": "2024-02-29T04:30:37.652213Z",
     "iopub.status.busy": "2024-02-29T04:30:37.651805Z",
     "iopub.status.idle": "2024-02-29T04:30:37.658497Z",
     "shell.execute_reply": "2024-02-29T04:30:37.657220Z"
    },
    "papermill": {
     "duration": 0.029586,
     "end_time": "2024-02-29T04:30:37.661224",
     "exception": false,
     "start_time": "2024-02-29T04:30:37.631638",
     "status": "completed"
    },
    "tags": []
   },
   "outputs": [],
   "source": [
    "df[\"Cabin\"].fillna('N',inplace=True)\n",
    "test[\"Cabin\"].fillna('N',inplace=True)"
   ]
  },
  {
   "cell_type": "code",
   "execution_count": 12,
   "id": "64d0af6f",
   "metadata": {
    "execution": {
     "iopub.execute_input": "2024-02-29T04:30:37.701767Z",
     "iopub.status.busy": "2024-02-29T04:30:37.700610Z",
     "iopub.status.idle": "2024-02-29T04:30:37.706443Z",
     "shell.execute_reply": "2024-02-29T04:30:37.705296Z"
    },
    "papermill": {
     "duration": 0.02887,
     "end_time": "2024-02-29T04:30:37.708886",
     "exception": false,
     "start_time": "2024-02-29T04:30:37.680016",
     "status": "completed"
    },
    "tags": []
   },
   "outputs": [],
   "source": [
    "def extract_first_letter(row):\n",
    "    return row['Cabin'][0]"
   ]
  },
  {
   "cell_type": "code",
   "execution_count": 13,
   "id": "75743b18",
   "metadata": {
    "execution": {
     "iopub.execute_input": "2024-02-29T04:30:37.748280Z",
     "iopub.status.busy": "2024-02-29T04:30:37.747373Z",
     "iopub.status.idle": "2024-02-29T04:30:37.775885Z",
     "shell.execute_reply": "2024-02-29T04:30:37.774993Z"
    },
    "papermill": {
     "duration": 0.050365,
     "end_time": "2024-02-29T04:30:37.777857",
     "exception": false,
     "start_time": "2024-02-29T04:30:37.727492",
     "status": "completed"
    },
    "tags": []
   },
   "outputs": [
    {
     "data": {
      "text/plain": [
       "0      N\n",
       "1      C\n",
       "2      N\n",
       "3      C\n",
       "4      N\n",
       "      ..\n",
       "886    N\n",
       "887    B\n",
       "888    N\n",
       "889    C\n",
       "890    N\n",
       "Name: Cabin, Length: 891, dtype: object"
      ]
     },
     "execution_count": 13,
     "metadata": {},
     "output_type": "execute_result"
    }
   ],
   "source": [
    "df['Cabin'] = df.apply(extract_first_letter, axis=1)\n",
    "test['Cabin'] = test.apply(extract_first_letter, axis=1)\n",
    "df['Cabin']"
   ]
  },
  {
   "cell_type": "code",
   "execution_count": 14,
   "id": "eda3a5bb",
   "metadata": {
    "execution": {
     "iopub.execute_input": "2024-02-29T04:30:37.817651Z",
     "iopub.status.busy": "2024-02-29T04:30:37.816856Z",
     "iopub.status.idle": "2024-02-29T04:30:37.824566Z",
     "shell.execute_reply": "2024-02-29T04:30:37.823332Z"
    },
    "papermill": {
     "duration": 0.030478,
     "end_time": "2024-02-29T04:30:37.827082",
     "exception": false,
     "start_time": "2024-02-29T04:30:37.796604",
     "status": "completed"
    },
    "tags": []
   },
   "outputs": [],
   "source": [
    "df[\"Age\"].fillna(df[\"Age\"].mean(),inplace = True)\n",
    "test[\"Age\"].fillna(test[\"Age\"].mean(),inplace = True)\n",
    "test[\"Fare\"].fillna(test[\"Fare\"].mean(),inplace = True)"
   ]
  },
  {
   "cell_type": "code",
   "execution_count": 15,
   "id": "58c3bf3e",
   "metadata": {
    "execution": {
     "iopub.execute_input": "2024-02-29T04:30:37.866599Z",
     "iopub.status.busy": "2024-02-29T04:30:37.866211Z",
     "iopub.status.idle": "2024-02-29T04:30:37.875732Z",
     "shell.execute_reply": "2024-02-29T04:30:37.874715Z"
    },
    "papermill": {
     "duration": 0.032138,
     "end_time": "2024-02-29T04:30:37.877978",
     "exception": false,
     "start_time": "2024-02-29T04:30:37.845840",
     "status": "completed"
    },
    "tags": []
   },
   "outputs": [
    {
     "data": {
      "text/plain": [
       "PassengerId    0\n",
       "Survived       0\n",
       "Pclass         0\n",
       "Name           0\n",
       "Sex            0\n",
       "Age            0\n",
       "SibSp          0\n",
       "Parch          0\n",
       "Ticket         0\n",
       "Fare           0\n",
       "Cabin          0\n",
       "Embarked       2\n",
       "dtype: int64"
      ]
     },
     "execution_count": 15,
     "metadata": {},
     "output_type": "execute_result"
    }
   ],
   "source": [
    "df.isna().sum()\n"
   ]
  },
  {
   "cell_type": "code",
   "execution_count": 16,
   "id": "72b1c810",
   "metadata": {
    "execution": {
     "iopub.execute_input": "2024-02-29T04:30:37.918375Z",
     "iopub.status.busy": "2024-02-29T04:30:37.917618Z",
     "iopub.status.idle": "2024-02-29T04:30:37.927367Z",
     "shell.execute_reply": "2024-02-29T04:30:37.926329Z"
    },
    "papermill": {
     "duration": 0.033327,
     "end_time": "2024-02-29T04:30:37.930362",
     "exception": false,
     "start_time": "2024-02-29T04:30:37.897035",
     "status": "completed"
    },
    "tags": []
   },
   "outputs": [],
   "source": [
    "df.dropna(inplace=True)"
   ]
  },
  {
   "cell_type": "code",
   "execution_count": 17,
   "id": "ed43dd85",
   "metadata": {
    "execution": {
     "iopub.execute_input": "2024-02-29T04:30:37.971012Z",
     "iopub.status.busy": "2024-02-29T04:30:37.970252Z",
     "iopub.status.idle": "2024-02-29T04:30:37.979132Z",
     "shell.execute_reply": "2024-02-29T04:30:37.978047Z"
    },
    "papermill": {
     "duration": 0.031501,
     "end_time": "2024-02-29T04:30:37.981311",
     "exception": false,
     "start_time": "2024-02-29T04:30:37.949810",
     "status": "completed"
    },
    "tags": []
   },
   "outputs": [
    {
     "data": {
      "text/plain": [
       "PassengerId    0\n",
       "Survived       0\n",
       "Pclass         0\n",
       "Name           0\n",
       "Sex            0\n",
       "Age            0\n",
       "SibSp          0\n",
       "Parch          0\n",
       "Ticket         0\n",
       "Fare           0\n",
       "Cabin          0\n",
       "Embarked       0\n",
       "dtype: int64"
      ]
     },
     "execution_count": 17,
     "metadata": {},
     "output_type": "execute_result"
    }
   ],
   "source": [
    "df.isna().sum()"
   ]
  },
  {
   "cell_type": "markdown",
   "id": "ca2d09bf",
   "metadata": {
    "papermill": {
     "duration": 0.018868,
     "end_time": "2024-02-29T04:30:38.019675",
     "exception": false,
     "start_time": "2024-02-29T04:30:38.000807",
     "status": "completed"
    },
    "tags": []
   },
   "source": [
    "# Data Visualizations"
   ]
  },
  {
   "cell_type": "code",
   "execution_count": 18,
   "id": "c5f25cff",
   "metadata": {
    "execution": {
     "iopub.execute_input": "2024-02-29T04:30:38.122699Z",
     "iopub.status.busy": "2024-02-29T04:30:38.121905Z",
     "iopub.status.idle": "2024-02-29T04:30:39.385606Z",
     "shell.execute_reply": "2024-02-29T04:30:39.384306Z"
    },
    "papermill": {
     "duration": 1.349965,
     "end_time": "2024-02-29T04:30:39.388943",
     "exception": false,
     "start_time": "2024-02-29T04:30:38.038978",
     "status": "completed"
    },
    "tags": []
   },
   "outputs": [
    {
     "data": {
      "image/png": "[encoded data removed]",
      "text/plain": [
       "<Figure size 1500x1000 with 7 Axes>"
      ]
     },
     "metadata": {},
     "output_type": "display_data"
    }
   ],
   "source": [
    "plt.figure(figsize=(15, 10))\n",
    "\n",
    "plt.subplot(3, 3, 1)\n",
    "sns.countplot(x='Pclass', data=df)\n",
    "\n",
    "plt.subplot(3, 3, 2)\n",
    "sns.countplot(x='Sex', data=df)\n",
    "\n",
    "plt.subplot(3, 3, 3)\n",
    "sns.histplot(x='Age', data=df)\n",
    "\n",
    "plt.subplot(3, 3, 4)\n",
    "sns.countplot(x='SibSp', data=df)\n",
    "\n",
    "plt.subplot(3, 3, 5)\n",
    "sns.countplot(x='Parch', data=df)\n",
    "\n",
    "plt.subplot(3, 3, 6)\n",
    "sns.countplot(x='Embarked', data=df)\n",
    "\n",
    "plt.subplot(3, 3, 7)\n",
    "sns.countplot(x='Cabin', data=df.sort_values(by='Cabin'))\n",
    "\n",
    "plt.show()"
   ]
  },
  {
   "cell_type": "markdown",
   "id": "85c5fe20",
   "metadata": {
    "papermill": {
     "duration": 0.020662,
     "end_time": "2024-02-29T04:30:39.430838",
     "exception": false,
     "start_time": "2024-02-29T04:30:39.410176",
     "status": "completed"
    },
    "tags": []
   },
   "source": [
    "# Label Encoding and Features Scaling"
   ]
  },
  {
   "cell_type": "code",
   "execution_count": 19,
   "id": "45c321d1",
   "metadata": {
    "execution": {
     "iopub.execute_input": "2024-02-29T04:30:39.473504Z",
     "iopub.status.busy": "2024-02-29T04:30:39.473061Z",
     "iopub.status.idle": "2024-02-29T04:30:39.480002Z",
     "shell.execute_reply": "2024-02-29T04:30:39.479169Z"
    },
    "papermill": {
     "duration": 0.030859,
     "end_time": "2024-02-29T04:30:39.482172",
     "exception": false,
     "start_time": "2024-02-29T04:30:39.451313",
     "status": "completed"
    },
    "tags": []
   },
   "outputs": [
    {
     "data": {
      "text/plain": [
       "Index(['PassengerId', 'Survived', 'Pclass', 'Name', 'Sex', 'Age', 'SibSp',\n",
       "       'Parch', 'Ticket', 'Fare', 'Cabin', 'Embarked'],\n",
       "      dtype='object')"
      ]
     },
     "execution_count": 19,
     "metadata": {},
     "output_type": "execute_result"
    }
   ],
   "source": [
    "df.columns"
   ]
  },
  {
   "cell_type": "code",
   "execution_count": 20,
   "id": "1ba36bb8",
   "metadata": {
    "execution": {
     "iopub.execute_input": "2024-02-29T04:30:39.525353Z",
     "iopub.status.busy": "2024-02-29T04:30:39.524910Z",
     "iopub.status.idle": "2024-02-29T04:30:39.677857Z",
     "shell.execute_reply": "2024-02-29T04:30:39.676713Z"
    },
    "papermill": {
     "duration": 0.177893,
     "end_time": "2024-02-29T04:30:39.680521",
     "exception": false,
     "start_time": "2024-02-29T04:30:39.502628",
     "status": "completed"
    },
    "tags": []
   },
   "outputs": [],
   "source": [
    "from sklearn.preprocessing import LabelEncoder\n",
    "encoder = LabelEncoder()"
   ]
  },
  {
   "cell_type": "code",
   "execution_count": 21,
   "id": "7b861695",
   "metadata": {
    "execution": {
     "iopub.execute_input": "2024-02-29T04:30:39.725184Z",
     "iopub.status.busy": "2024-02-29T04:30:39.724257Z",
     "iopub.status.idle": "2024-02-29T04:30:39.728694Z",
     "shell.execute_reply": "2024-02-29T04:30:39.727894Z"
    },
    "papermill": {
     "duration": 0.029556,
     "end_time": "2024-02-29T04:30:39.730999",
     "exception": false,
     "start_time": "2024-02-29T04:30:39.701443",
     "status": "completed"
    },
    "tags": []
   },
   "outputs": [],
   "source": [
    "df1 = df"
   ]
  },
  {
   "cell_type": "code",
   "execution_count": 22,
   "id": "b888ed23",
   "metadata": {
    "execution": {
     "iopub.execute_input": "2024-02-29T04:30:39.774780Z",
     "iopub.status.busy": "2024-02-29T04:30:39.773554Z",
     "iopub.status.idle": "2024-02-29T04:30:39.780268Z",
     "shell.execute_reply": "2024-02-29T04:30:39.779429Z"
    },
    "papermill": {
     "duration": 0.030435,
     "end_time": "2024-02-29T04:30:39.782310",
     "exception": false,
     "start_time": "2024-02-29T04:30:39.751875",
     "status": "completed"
    },
    "tags": []
   },
   "outputs": [],
   "source": [
    "df1.drop(columns = ['PassengerId', 'Name', 'Ticket'], axis=1, inplace=True)"
   ]
  },
  {
   "cell_type": "code",
   "execution_count": 23,
   "id": "a70585af",
   "metadata": {
    "execution": {
     "iopub.execute_input": "2024-02-29T04:30:39.824552Z",
     "iopub.status.busy": "2024-02-29T04:30:39.824127Z",
     "iopub.status.idle": "2024-02-29T04:30:39.839730Z",
     "shell.execute_reply": "2024-02-29T04:30:39.838538Z"
    },
    "papermill": {
     "duration": 0.039696,
     "end_time": "2024-02-29T04:30:39.842296",
     "exception": false,
     "start_time": "2024-02-29T04:30:39.802600",
     "status": "completed"
    },
    "tags": []
   },
   "outputs": [
    {
     "data": {
      "text/html": [
       "<div>\n",
       "<style scoped>\n",
       "    .dataframe tbody tr th:only-of-type {\n",
       "        vertical-align: middle;\n",
       "    }\n",
       "\n",
       "    .dataframe tbody tr th {\n",
       "        vertical-align: top;\n",
       "    }\n",
       "\n",
       "    .dataframe thead th {\n",
       "        text-align: right;\n",
       "    }\n",
       "</style>\n",
       "<table border=\"1\" class=\"dataframe\">\n",
       "  <thead>\n",
       "    <tr style=\"text-align: right;\">\n",
       "      <th></th>\n",
       "      <th>Survived</th>\n",
       "      <th>Pclass</th>\n",
       "      <th>Sex</th>\n",
       "      <th>Age</th>\n",
       "      <th>SibSp</th>\n",
       "      <th>Parch</th>\n",
       "      <th>Fare</th>\n",
       "      <th>Cabin</th>\n",
       "      <th>Embarked</th>\n",
       "    </tr>\n",
       "  </thead>\n",
       "  <tbody>\n",
       "    <tr>\n",
       "      <th>0</th>\n",
       "      <td>0</td>\n",
       "      <td>3</td>\n",
       "      <td>male</td>\n",
       "      <td>22.0</td>\n",
       "      <td>1</td>\n",
       "      <td>0</td>\n",
       "      <td>7.2500</td>\n",
       "      <td>N</td>\n",
       "      <td>S</td>\n",
       "    </tr>\n",
       "    <tr>\n",
       "      <th>1</th>\n",
       "      <td>1</td>\n",
       "      <td>1</td>\n",
       "      <td>female</td>\n",
       "      <td>38.0</td>\n",
       "      <td>1</td>\n",
       "      <td>0</td>\n",
       "      <td>71.2833</td>\n",
       "      <td>C</td>\n",
       "      <td>C</td>\n",
       "    </tr>\n",
       "    <tr>\n",
       "      <th>2</th>\n",
       "      <td>1</td>\n",
       "      <td>3</td>\n",
       "      <td>female</td>\n",
       "      <td>26.0</td>\n",
       "      <td>0</td>\n",
       "      <td>0</td>\n",
       "      <td>7.9250</td>\n",
       "      <td>N</td>\n",
       "      <td>S</td>\n",
       "    </tr>\n",
       "  </tbody>\n",
       "</table>\n",
       "</div>"
      ],
      "text/plain": [
       "   Survived  Pclass     Sex   Age  SibSp  Parch     Fare Cabin Embarked\n",
       "0         0       3    male  22.0      1      0   7.2500     N        S\n",
       "1         1       1  female  38.0      1      0  71.2833     C        C\n",
       "2         1       3  female  26.0      0      0   7.9250     N        S"
      ]
     },
     "execution_count": 23,
     "metadata": {},
     "output_type": "execute_result"
    }
   ],
   "source": [
    "df1.head(3)"
   ]
  },
  {
   "cell_type": "code",
   "execution_count": 24,
   "id": "00082179",
   "metadata": {
    "execution": {
     "iopub.execute_input": "2024-02-29T04:30:39.894012Z",
     "iopub.status.busy": "2024-02-29T04:30:39.893642Z",
     "iopub.status.idle": "2024-02-29T04:30:39.903150Z",
     "shell.execute_reply": "2024-02-29T04:30:39.901753Z"
    },
    "papermill": {
     "duration": 0.040998,
     "end_time": "2024-02-29T04:30:39.905590",
     "exception": false,
     "start_time": "2024-02-29T04:30:39.864592",
     "status": "completed"
    },
    "tags": []
   },
   "outputs": [],
   "source": [
    "categorical_columns = [\"Sex\",\"Embarked\", \"Cabin\"]\n",
    "for i in categorical_columns:\n",
    "    df1[i] = encoder.fit_transform(df1[i])\n",
    "    test[i] = encoder.fit_transform(test[i])"
   ]
  },
  {
   "cell_type": "code",
   "execution_count": 25,
   "id": "817548e5",
   "metadata": {
    "execution": {
     "iopub.execute_input": "2024-02-29T04:30:39.949386Z",
     "iopub.status.busy": "2024-02-29T04:30:39.948959Z",
     "iopub.status.idle": "2024-02-29T04:30:39.962958Z",
     "shell.execute_reply": "2024-02-29T04:30:39.961640Z"
    },
    "papermill": {
     "duration": 0.039081,
     "end_time": "2024-02-29T04:30:39.965568",
     "exception": false,
     "start_time": "2024-02-29T04:30:39.926487",
     "status": "completed"
    },
    "tags": []
   },
   "outputs": [
    {
     "data": {
      "text/html": [
       "<div>\n",
       "<style scoped>\n",
       "    .dataframe tbody tr th:only-of-type {\n",
       "        vertical-align: middle;\n",
       "    }\n",
       "\n",
       "    .dataframe tbody tr th {\n",
       "        vertical-align: top;\n",
       "    }\n",
       "\n",
       "    .dataframe thead th {\n",
       "        text-align: right;\n",
       "    }\n",
       "</style>\n",
       "<table border=\"1\" class=\"dataframe\">\n",
       "  <thead>\n",
       "    <tr style=\"text-align: right;\">\n",
       "      <th></th>\n",
       "      <th>Survived</th>\n",
       "      <th>Pclass</th>\n",
       "      <th>Sex</th>\n",
       "      <th>Age</th>\n",
       "      <th>SibSp</th>\n",
       "      <th>Parch</th>\n",
       "      <th>Fare</th>\n",
       "      <th>Cabin</th>\n",
       "      <th>Embarked</th>\n",
       "    </tr>\n",
       "  </thead>\n",
       "  <tbody>\n",
       "    <tr>\n",
       "      <th>0</th>\n",
       "      <td>0</td>\n",
       "      <td>3</td>\n",
       "      <td>1</td>\n",
       "      <td>22.0</td>\n",
       "      <td>1</td>\n",
       "      <td>0</td>\n",
       "      <td>7.2500</td>\n",
       "      <td>7</td>\n",
       "      <td>2</td>\n",
       "    </tr>\n",
       "    <tr>\n",
       "      <th>1</th>\n",
       "      <td>1</td>\n",
       "      <td>1</td>\n",
       "      <td>0</td>\n",
       "      <td>38.0</td>\n",
       "      <td>1</td>\n",
       "      <td>0</td>\n",
       "      <td>71.2833</td>\n",
       "      <td>2</td>\n",
       "      <td>0</td>\n",
       "    </tr>\n",
       "    <tr>\n",
       "      <th>2</th>\n",
       "      <td>1</td>\n",
       "      <td>3</td>\n",
       "      <td>0</td>\n",
       "      <td>26.0</td>\n",
       "      <td>0</td>\n",
       "      <td>0</td>\n",
       "      <td>7.9250</td>\n",
       "      <td>7</td>\n",
       "      <td>2</td>\n",
       "    </tr>\n",
       "  </tbody>\n",
       "</table>\n",
       "</div>"
      ],
      "text/plain": [
       "   Survived  Pclass  Sex   Age  SibSp  Parch     Fare  Cabin  Embarked\n",
       "0         0       3    1  22.0      1      0   7.2500      7         2\n",
       "1         1       1    0  38.0      1      0  71.2833      2         0\n",
       "2         1       3    0  26.0      0      0   7.9250      7         2"
      ]
     },
     "execution_count": 25,
     "metadata": {},
     "output_type": "execute_result"
    }
   ],
   "source": [
    "df1.head(3)"
   ]
  },
  {
   "cell_type": "code",
   "execution_count": 26,
   "id": "f1f3f433",
   "metadata": {
    "execution": {
     "iopub.execute_input": "2024-02-29T04:30:40.009750Z",
     "iopub.status.busy": "2024-02-29T04:30:40.009355Z",
     "iopub.status.idle": "2024-02-29T04:30:40.022791Z",
     "shell.execute_reply": "2024-02-29T04:30:40.021573Z"
    },
    "papermill": {
     "duration": 0.038865,
     "end_time": "2024-02-29T04:30:40.025533",
     "exception": false,
     "start_time": "2024-02-29T04:30:39.986668",
     "status": "completed"
    },
    "tags": []
   },
   "outputs": [],
   "source": [
    "from sklearn.preprocessing import MinMaxScaler\n",
    "\n",
    "scaler = MinMaxScaler()\n",
    "numeric_columns = [\"Age\",\"Fare\", \"Cabin\"]\n",
    "for i in numeric_columns:\n",
    "    df1[i] = scaler.fit_transform(np.array(df1[i]).reshape(-1,1))\n",
    "    test[i] = scaler.fit_transform(np.array(test[i]).reshape(-1,1))\n"
   ]
  },
  {
   "cell_type": "markdown",
   "id": "a2f1d7f4",
   "metadata": {
    "papermill": {
     "duration": 0.029123,
     "end_time": "2024-02-29T04:30:40.079512",
     "exception": false,
     "start_time": "2024-02-29T04:30:40.050389",
     "status": "completed"
    },
    "tags": []
   },
   "source": [
    "# Model Training"
   ]
  },
  {
   "cell_type": "code",
   "execution_count": 27,
   "id": "57c12ba9",
   "metadata": {
    "execution": {
     "iopub.execute_input": "2024-02-29T04:30:40.142093Z",
     "iopub.status.busy": "2024-02-29T04:30:40.141599Z",
     "iopub.status.idle": "2024-02-29T04:30:40.154181Z",
     "shell.execute_reply": "2024-02-29T04:30:40.152891Z"
    },
    "papermill": {
     "duration": 0.04722,
     "end_time": "2024-02-29T04:30:40.157364",
     "exception": false,
     "start_time": "2024-02-29T04:30:40.110144",
     "status": "completed"
    },
    "tags": []
   },
   "outputs": [
    {
     "data": {
      "text/plain": [
       "PassengerId    0\n",
       "Pclass         0\n",
       "Name           0\n",
       "Sex            0\n",
       "Age            0\n",
       "SibSp          0\n",
       "Parch          0\n",
       "Ticket         0\n",
       "Fare           0\n",
       "Cabin          0\n",
       "Embarked       0\n",
       "dtype: int64"
      ]
     },
     "execution_count": 27,
     "metadata": {},
     "output_type": "execute_result"
    }
   ],
   "source": [
    "test.isna().sum()"
   ]
  },
  {
   "cell_type": "code",
   "execution_count": 28,
   "id": "d0fe1dd8",
   "metadata": {
    "execution": {
     "iopub.execute_input": "2024-02-29T04:30:40.218330Z",
     "iopub.status.busy": "2024-02-29T04:30:40.217926Z",
     "iopub.status.idle": "2024-02-29T04:30:40.228450Z",
     "shell.execute_reply": "2024-02-29T04:30:40.227231Z"
    },
    "papermill": {
     "duration": 0.041795,
     "end_time": "2024-02-29T04:30:40.231247",
     "exception": false,
     "start_time": "2024-02-29T04:30:40.189452",
     "status": "completed"
    },
    "tags": []
   },
   "outputs": [],
   "source": [
    "x = df1.drop([\"Survived\", \"Embarked\"],axis = 1)\n",
    "y = df1[\"Survived\"]\n",
    "test = test.drop(['PassengerId', 'Name', 'Ticket', \"Embarked\"],axis = 1)"
   ]
  },
  {
   "cell_type": "code",
   "execution_count": 29,
   "id": "6ac2573a",
   "metadata": {
    "execution": {
     "iopub.execute_input": "2024-02-29T04:30:40.288774Z",
     "iopub.status.busy": "2024-02-29T04:30:40.288365Z",
     "iopub.status.idle": "2024-02-29T04:30:40.302293Z",
     "shell.execute_reply": "2024-02-29T04:30:40.301391Z"
    },
    "papermill": {
     "duration": 0.043519,
     "end_time": "2024-02-29T04:30:40.304930",
     "exception": false,
     "start_time": "2024-02-29T04:30:40.261411",
     "status": "completed"
    },
    "tags": []
   },
   "outputs": [
    {
     "data": {
      "text/html": [
       "<div>\n",
       "<style scoped>\n",
       "    .dataframe tbody tr th:only-of-type {\n",
       "        vertical-align: middle;\n",
       "    }\n",
       "\n",
       "    .dataframe tbody tr th {\n",
       "        vertical-align: top;\n",
       "    }\n",
       "\n",
       "    .dataframe thead th {\n",
       "        text-align: right;\n",
       "    }\n",
       "</style>\n",
       "<table border=\"1\" class=\"dataframe\">\n",
       "  <thead>\n",
       "    <tr style=\"text-align: right;\">\n",
       "      <th></th>\n",
       "      <th>Pclass</th>\n",
       "      <th>Sex</th>\n",
       "      <th>Age</th>\n",
       "      <th>SibSp</th>\n",
       "      <th>Parch</th>\n",
       "      <th>Fare</th>\n",
       "      <th>Cabin</th>\n",
       "    </tr>\n",
       "  </thead>\n",
       "  <tbody>\n",
       "    <tr>\n",
       "      <th>0</th>\n",
       "      <td>3</td>\n",
       "      <td>1</td>\n",
       "      <td>0.271174</td>\n",
       "      <td>1</td>\n",
       "      <td>0</td>\n",
       "      <td>0.014151</td>\n",
       "      <td>0.875</td>\n",
       "    </tr>\n",
       "    <tr>\n",
       "      <th>1</th>\n",
       "      <td>1</td>\n",
       "      <td>0</td>\n",
       "      <td>0.472229</td>\n",
       "      <td>1</td>\n",
       "      <td>0</td>\n",
       "      <td>0.139136</td>\n",
       "      <td>0.250</td>\n",
       "    </tr>\n",
       "    <tr>\n",
       "      <th>2</th>\n",
       "      <td>3</td>\n",
       "      <td>0</td>\n",
       "      <td>0.321438</td>\n",
       "      <td>0</td>\n",
       "      <td>0</td>\n",
       "      <td>0.015469</td>\n",
       "      <td>0.875</td>\n",
       "    </tr>\n",
       "    <tr>\n",
       "      <th>3</th>\n",
       "      <td>1</td>\n",
       "      <td>0</td>\n",
       "      <td>0.434531</td>\n",
       "      <td>1</td>\n",
       "      <td>0</td>\n",
       "      <td>0.103644</td>\n",
       "      <td>0.250</td>\n",
       "    </tr>\n",
       "    <tr>\n",
       "      <th>4</th>\n",
       "      <td>3</td>\n",
       "      <td>1</td>\n",
       "      <td>0.434531</td>\n",
       "      <td>0</td>\n",
       "      <td>0</td>\n",
       "      <td>0.015713</td>\n",
       "      <td>0.875</td>\n",
       "    </tr>\n",
       "  </tbody>\n",
       "</table>\n",
       "</div>"
      ],
      "text/plain": [
       "   Pclass  Sex       Age  SibSp  Parch      Fare  Cabin\n",
       "0       3    1  0.271174      1      0  0.014151  0.875\n",
       "1       1    0  0.472229      1      0  0.139136  0.250\n",
       "2       3    0  0.321438      0      0  0.015469  0.875\n",
       "3       1    0  0.434531      1      0  0.103644  0.250\n",
       "4       3    1  0.434531      0      0  0.015713  0.875"
      ]
     },
     "execution_count": 29,
     "metadata": {},
     "output_type": "execute_result"
    }
   ],
   "source": [
    "x.head()"
   ]
  },
  {
   "cell_type": "code",
   "execution_count": 30,
   "id": "84949fc1",
   "metadata": {
    "execution": {
     "iopub.execute_input": "2024-02-29T04:30:40.351779Z",
     "iopub.status.busy": "2024-02-29T04:30:40.351390Z",
     "iopub.status.idle": "2024-02-29T04:30:40.468897Z",
     "shell.execute_reply": "2024-02-29T04:30:40.467632Z"
    },
    "papermill": {
     "duration": 0.143151,
     "end_time": "2024-02-29T04:30:40.472188",
     "exception": false,
     "start_time": "2024-02-29T04:30:40.329037",
     "status": "completed"
    },
    "tags": []
   },
   "outputs": [],
   "source": [
    "from sklearn.model_selection import train_test_split\n",
    "x_train,x_test,y_train,y_test = train_test_split(x,y,test_size = 0.2, random_state=42)"
   ]
  },
  {
   "cell_type": "code",
   "execution_count": 31,
   "id": "06c74b4a",
   "metadata": {
    "execution": {
     "iopub.execute_input": "2024-02-29T04:30:40.520893Z",
     "iopub.status.busy": "2024-02-29T04:30:40.520399Z",
     "iopub.status.idle": "2024-02-29T04:30:42.384673Z",
     "shell.execute_reply": "2024-02-29T04:30:42.383468Z"
    },
    "papermill": {
     "duration": 1.892232,
     "end_time": "2024-02-29T04:30:42.387407",
     "exception": false,
     "start_time": "2024-02-29T04:30:40.495175",
     "status": "completed"
    },
    "tags": []
   },
   "outputs": [],
   "source": [
    "from sklearn.ensemble import RandomForestClassifier\n",
    "from lightgbm import LGBMClassifier\n",
    "from xgboost import XGBClassifier\n",
    "from sklearn.ensemble import AdaBoostClassifier\n",
    "from sklearn.svm import SVC"
   ]
  },
  {
   "cell_type": "code",
   "execution_count": 32,
   "id": "fb35c444",
   "metadata": {
    "execution": {
     "iopub.execute_input": "2024-02-29T04:30:42.433060Z",
     "iopub.status.busy": "2024-02-29T04:30:42.432264Z",
     "iopub.status.idle": "2024-02-29T04:30:42.463520Z",
     "shell.execute_reply": "2024-02-29T04:30:42.461927Z"
    },
    "papermill": {
     "duration": 0.057144,
     "end_time": "2024-02-29T04:30:42.466324",
     "exception": false,
     "start_time": "2024-02-29T04:30:42.409180",
     "status": "completed"
    },
    "tags": []
   },
   "outputs": [
    {
     "name": "stdout",
     "output_type": "stream",
     "text": [
      "0.7921348314606742\n"
     ]
    }
   ],
   "source": [
    "svm = SVC()\n",
    "svm.fit(x_train, y_train)\n",
    "svm_score = svm.score(x_test, y_test)\n",
    "print(svm_score)"
   ]
  },
  {
   "cell_type": "code",
   "execution_count": 33,
   "id": "c8f492c9",
   "metadata": {
    "execution": {
     "iopub.execute_input": "2024-02-29T04:30:42.511527Z",
     "iopub.status.busy": "2024-02-29T04:30:42.510785Z",
     "iopub.status.idle": "2024-02-29T04:30:42.651035Z",
     "shell.execute_reply": "2024-02-29T04:30:42.649798Z"
    },
    "papermill": {
     "duration": 0.165551,
     "end_time": "2024-02-29T04:30:42.653450",
     "exception": false,
     "start_time": "2024-02-29T04:30:42.487899",
     "status": "completed"
    },
    "tags": []
   },
   "outputs": [
    {
     "name": "stdout",
     "output_type": "stream",
     "text": [
      "0.8146067415730337\n"
     ]
    }
   ],
   "source": [
    "ada = AdaBoostClassifier(random_state=42)\n",
    "ada.fit(x_train, y_train)\n",
    "ada_score = ada.score(x_test, y_test)\n",
    "print(ada_score)"
   ]
  },
  {
   "cell_type": "code",
   "execution_count": 34,
   "id": "26f8c82d",
   "metadata": {
    "execution": {
     "iopub.execute_input": "2024-02-29T04:30:42.698931Z",
     "iopub.status.busy": "2024-02-29T04:30:42.698158Z",
     "iopub.status.idle": "2024-02-29T04:30:43.001397Z",
     "shell.execute_reply": "2024-02-29T04:30:43.000005Z"
    },
    "papermill": {
     "duration": 0.329122,
     "end_time": "2024-02-29T04:30:43.004109",
     "exception": false,
     "start_time": "2024-02-29T04:30:42.674987",
     "status": "completed"
    },
    "tags": []
   },
   "outputs": [
    {
     "name": "stdout",
     "output_type": "stream",
     "text": [
      "0.7640449438202247\n"
     ]
    }
   ],
   "source": [
    "random = RandomForestClassifier(random_state=42, verbose=0)\n",
    "random.fit(x_train, y_train)\n",
    "random_score = random.score(x_test, y_test)\n",
    "print(random_score)"
   ]
  },
  {
   "cell_type": "code",
   "execution_count": 35,
   "id": "cdb83a62",
   "metadata": {
    "execution": {
     "iopub.execute_input": "2024-02-29T04:30:43.050732Z",
     "iopub.status.busy": "2024-02-29T04:30:43.049770Z",
     "iopub.status.idle": "2024-02-29T04:30:43.350299Z",
     "shell.execute_reply": "2024-02-29T04:30:43.348762Z"
    },
    "papermill": {
     "duration": 0.326544,
     "end_time": "2024-02-29T04:30:43.352834",
     "exception": false,
     "start_time": "2024-02-29T04:30:43.026290",
     "status": "completed"
    },
    "tags": []
   },
   "outputs": [
    {
     "name": "stdout",
     "output_type": "stream",
     "text": [
      "0.7921348314606742\n"
     ]
    }
   ],
   "source": [
    "lgbm = LGBMClassifier(verbose=-1)\n",
    "lgbm.fit(x_train, y_train)\n",
    "lgbm_score = lgbm.score(x_test, y_test)\n",
    "print(lgbm_score)"
   ]
  },
  {
   "cell_type": "code",
   "execution_count": 36,
   "id": "13e6cdec",
   "metadata": {
    "execution": {
     "iopub.execute_input": "2024-02-29T04:30:43.399163Z",
     "iopub.status.busy": "2024-02-29T04:30:43.397851Z",
     "iopub.status.idle": "2024-02-29T04:30:43.508720Z",
     "shell.execute_reply": "2024-02-29T04:30:43.507562Z"
    },
    "papermill": {
     "duration": 0.136994,
     "end_time": "2024-02-29T04:30:43.511740",
     "exception": false,
     "start_time": "2024-02-29T04:30:43.374746",
     "status": "completed"
    },
    "tags": []
   },
   "outputs": [
    {
     "name": "stdout",
     "output_type": "stream",
     "text": [
      "0.8089887640449438\n"
     ]
    }
   ],
   "source": [
    "xgb = XGBClassifier(verbosity=0)\n",
    "xgb.fit(x_train, y_train)\n",
    "xgb_score = xgb.score(x_test, y_test)\n",
    "print(xgb_score)"
   ]
  },
  {
   "cell_type": "markdown",
   "id": "fc8ee418",
   "metadata": {
    "papermill": {
     "duration": 0.021693,
     "end_time": "2024-02-29T04:30:43.555290",
     "exception": false,
     "start_time": "2024-02-29T04:30:43.533597",
     "status": "completed"
    },
    "tags": []
   },
   "source": [
    "# Hyperparamter tuning\n"
   ]
  },
  {
   "cell_type": "code",
   "execution_count": 37,
   "id": "f0e82440",
   "metadata": {
    "execution": {
     "iopub.execute_input": "2024-02-29T04:30:43.600913Z",
     "iopub.status.busy": "2024-02-29T04:30:43.600526Z",
     "iopub.status.idle": "2024-02-29T04:30:43.605288Z",
     "shell.execute_reply": "2024-02-29T04:30:43.604186Z"
    },
    "papermill": {
     "duration": 0.030468,
     "end_time": "2024-02-29T04:30:43.607640",
     "exception": false,
     "start_time": "2024-02-29T04:30:43.577172",
     "status": "completed"
    },
    "tags": []
   },
   "outputs": [],
   "source": [
    "from sklearn.model_selection import GridSearchCV \n",
    "from sklearn.metrics import accuracy_score\n",
    "from sklearn.model_selection import RandomizedSearchCV\n"
   ]
  },
  {
   "cell_type": "code",
   "execution_count": 38,
   "id": "75cf7de9",
   "metadata": {
    "execution": {
     "iopub.execute_input": "2024-02-29T04:30:43.653026Z",
     "iopub.status.busy": "2024-02-29T04:30:43.652648Z",
     "iopub.status.idle": "2024-02-29T04:30:45.284831Z",
     "shell.execute_reply": "2024-02-29T04:30:45.283601Z"
    },
    "papermill": {
     "duration": 1.658198,
     "end_time": "2024-02-29T04:30:45.287543",
     "exception": false,
     "start_time": "2024-02-29T04:30:43.629345",
     "status": "completed"
    },
    "tags": []
   },
   "outputs": [
    {
     "name": "stdout",
     "output_type": "stream",
     "text": [
      "{'C': 10, 'gamma': 0.1, 'kernel': 'rbf'}\n"
     ]
    },
    {
     "data": {
      "text/plain": [
       "0.8089887640449438"
      ]
     },
     "execution_count": 38,
     "metadata": {},
     "output_type": "execute_result"
    }
   ],
   "source": [
    "param_grid = {\n",
    "    'C': [0.1, 1, 10],\n",
    "    'gamma': [0.1, 1, 10],\n",
    "    'kernel': ['rbf', 'linear']\n",
    "}\n",
    "\n",
    "svm_grid = GridSearchCV(SVC(),param_grid=param_grid,cv=5)\n",
    "svm_grid.fit(x_train,y_train)\n",
    "print(svm_grid.best_params_)\n",
    "svm_best = svm_grid.best_estimator_\n",
    "accuracy_score(svm_best.predict(x_test),y_test)"
   ]
  },
  {
   "cell_type": "code",
   "execution_count": 39,
   "id": "d2973dff",
   "metadata": {
    "execution": {
     "iopub.execute_input": "2024-02-29T04:30:45.336564Z",
     "iopub.status.busy": "2024-02-29T04:30:45.336188Z",
     "iopub.status.idle": "2024-02-29T04:31:46.048459Z",
     "shell.execute_reply": "2024-02-29T04:31:46.047092Z"
    },
    "papermill": {
     "duration": 60.761932,
     "end_time": "2024-02-29T04:31:46.072149",
     "exception": false,
     "start_time": "2024-02-29T04:30:45.310217",
     "status": "completed"
    },
    "tags": []
   },
   "outputs": [
    {
     "name": "stdout",
     "output_type": "stream",
     "text": [
      "{'learning_rate': 0.01, 'n_estimators': 500}\n"
     ]
    },
    {
     "data": {
      "text/plain": [
       "0.8033707865168539"
      ]
     },
     "execution_count": 39,
     "metadata": {},
     "output_type": "execute_result"
    }
   ],
   "source": [
    "ada_param = {\n",
    "    'n_estimators':[100,1000,500,1500],\n",
    "    'learning_rate':[0.01,0.1,1,10]\n",
    "}\n",
    "ada_grid = GridSearchCV(AdaBoostClassifier(),param_grid=ada_param,cv=2)\n",
    "ada_grid.fit(x_train,y_train)\n",
    "print(ada_grid.best_params_)\n",
    "ada_Best = ada_grid.best_estimator_\n",
    "accuracy_score(ada_Best.predict(x_test),y_test)"
   ]
  },
  {
   "cell_type": "code",
   "execution_count": 40,
   "id": "9efeac30",
   "metadata": {
    "execution": {
     "iopub.execute_input": "2024-02-29T04:31:46.118796Z",
     "iopub.status.busy": "2024-02-29T04:31:46.118373Z",
     "iopub.status.idle": "2024-02-29T04:32:41.405163Z",
     "shell.execute_reply": "2024-02-29T04:32:41.403910Z"
    },
    "papermill": {
     "duration": 55.335754,
     "end_time": "2024-02-29T04:32:41.430020",
     "exception": false,
     "start_time": "2024-02-29T04:31:46.094266",
     "status": "completed"
    },
    "tags": []
   },
   "outputs": [
    {
     "name": "stdout",
     "output_type": "stream",
     "text": [
      "{'n_estimators': 200, 'min_samples_split': 5, 'min_samples_leaf': 2, 'max_features': 'log2', 'max_depth': 10}\n"
     ]
    },
    {
     "data": {
      "text/plain": [
       "0.797752808988764"
      ]
     },
     "execution_count": 40,
     "metadata": {},
     "output_type": "execute_result"
    }
   ],
   "source": [
    "rand_param = {\n",
    "    'n_estimators': [100, 200, 300],\n",
    "    'max_depth': [None, 10, 20],\n",
    "    'min_samples_split': [2, 5, 10],\n",
    "    'min_samples_leaf': [1, 2, 4],\n",
    "    'max_features': [ 'sqrt', 'log2']\n",
    "}\n",
    "\n",
    "rand_grid = RandomizedSearchCV(RandomForestClassifier(), param_distributions=rand_param, cv=5, n_iter=20, random_state=42)\n",
    "rand_grid.fit(x_train,y_train)\n",
    "print(rand_grid.best_params_)\n",
    "rand_Best = rand_grid.best_estimator_\n",
    "accuracy_score(rand_Best.predict(x_test),y_test)"
   ]
  },
  {
   "cell_type": "code",
   "execution_count": 41,
   "id": "f2a0506f",
   "metadata": {
    "execution": {
     "iopub.execute_input": "2024-02-29T04:32:41.477439Z",
     "iopub.status.busy": "2024-02-29T04:32:41.476999Z",
     "iopub.status.idle": "2024-02-29T04:32:41.506669Z",
     "shell.execute_reply": "2024-02-29T04:32:41.505018Z"
    },
    "papermill": {
     "duration": 0.056714,
     "end_time": "2024-02-29T04:32:41.509264",
     "exception": false,
     "start_time": "2024-02-29T04:32:41.452550",
     "status": "completed"
    },
    "tags": []
   },
   "outputs": [
    {
     "name": "stdout",
     "output_type": "stream",
     "text": [
      "0.797752808988764\n"
     ]
    }
   ],
   "source": [
    "print(accuracy_score(rand_Best.predict(x_test),y_test))"
   ]
  },
  {
   "cell_type": "code",
   "execution_count": 42,
   "id": "6121849e",
   "metadata": {
    "execution": {
     "iopub.execute_input": "2024-02-29T04:32:41.556772Z",
     "iopub.status.busy": "2024-02-29T04:32:41.556398Z",
     "iopub.status.idle": "2024-02-29T04:32:53.667515Z",
     "shell.execute_reply": "2024-02-29T04:32:53.666286Z"
    },
    "papermill": {
     "duration": 12.138685,
     "end_time": "2024-02-29T04:32:53.670636",
     "exception": false,
     "start_time": "2024-02-29T04:32:41.531951",
     "status": "completed"
    },
    "tags": []
   },
   "outputs": [
    {
     "name": "stdout",
     "output_type": "stream",
     "text": [
      "{'subsample': 0.9, 'min_child_weight': 1, 'max_depth': 7, 'learning_rate': 0.01, 'gamma': 0.1, 'colsample_bytree': 0.9}\n"
     ]
    },
    {
     "data": {
      "text/plain": [
       "0.8033707865168539"
      ]
     },
     "execution_count": 42,
     "metadata": {},
     "output_type": "execute_result"
    }
   ],
   "source": [
    "xgb_param = {\n",
    "    'learning_rate': [0.01, 0.1, 0.3],\n",
    "    'max_depth': [3, 5, 7],\n",
    "    'min_child_weight': [1, 3, 5],\n",
    "    'subsample': [0.5, 0.7, 0.9],\n",
    "    'colsample_bytree': [0.5, 0.7, 0.9],\n",
    "    'gamma': [0, 0.1, 0.2]\n",
    "}\n",
    "\n",
    "\n",
    "xgb_grid = RandomizedSearchCV(XGBClassifier(), param_distributions=xgb_param, cv=5, n_iter=50, random_state=42)\n",
    "xgb_grid.fit(x_train,y_train)\n",
    "print(xgb_grid.best_params_)\n",
    "xgb_Best = xgb_grid.best_estimator_\n",
    "accuracy_score(xgb_Best.predict(x_test),y_test)\n"
   ]
  },
  {
   "cell_type": "code",
   "execution_count": 43,
   "id": "4d30b6ad",
   "metadata": {
    "execution": {
     "iopub.execute_input": "2024-02-29T04:32:53.718536Z",
     "iopub.status.busy": "2024-02-29T04:32:53.718158Z",
     "iopub.status.idle": "2024-02-29T04:32:53.723095Z",
     "shell.execute_reply": "2024-02-29T04:32:53.721892Z"
    },
    "papermill": {
     "duration": 0.031522,
     "end_time": "2024-02-29T04:32:53.725230",
     "exception": false,
     "start_time": "2024-02-29T04:32:53.693708",
     "status": "completed"
    },
    "tags": []
   },
   "outputs": [],
   "source": [
    "# I am comenting this because this is generating lot of unwanted warnings that take up lot\n",
    "# of the space in viewing the results\n",
    "\n",
    "#lgbm_param = {\n",
    "#    'num_leaves': [20, 30, 40],\n",
    "#   'learning_rate': [0.01, 0.1, 0.3],\n",
    "#    'max_depth': [3, 5, 7],\n",
    "#   'min_child_samples': [20, 30, 40],\n",
    "#    'subsample': [0.6, 0.8, 1.0],\n",
    "#    'colsample_bytree': [0.6, 0.8, 1.0],\n",
    "#    'reg_alpha': [0, 0.1, 0.5],\n",
    "#    'reg_lambda': [0, 0.1, 0.5]\n",
    "#}\n",
    "\n",
    "\n",
    "#lgbm_grid = RandomizedSearchCV(LGBMClassifier(), param_distributions=lgbm_param, cv=5, n_iter=50, random_state=42)\n",
    "#lgbm_grid.fit(x_train,y_train)\n"
   ]
  },
  {
   "cell_type": "code",
   "execution_count": 44,
   "id": "83d84b76",
   "metadata": {
    "execution": {
     "iopub.execute_input": "2024-02-29T04:32:53.773528Z",
     "iopub.status.busy": "2024-02-29T04:32:53.773136Z",
     "iopub.status.idle": "2024-02-29T04:32:53.777646Z",
     "shell.execute_reply": "2024-02-29T04:32:53.776467Z"
    },
    "papermill": {
     "duration": 0.031568,
     "end_time": "2024-02-29T04:32:53.779990",
     "exception": false,
     "start_time": "2024-02-29T04:32:53.748422",
     "status": "completed"
    },
    "tags": []
   },
   "outputs": [],
   "source": [
    "#print(lgbm_grid.best_params_)\n"
   ]
  },
  {
   "cell_type": "code",
   "execution_count": 45,
   "id": "39f1b1c2",
   "metadata": {
    "execution": {
     "iopub.execute_input": "2024-02-29T04:32:53.828051Z",
     "iopub.status.busy": "2024-02-29T04:32:53.827680Z",
     "iopub.status.idle": "2024-02-29T04:32:53.875084Z",
     "shell.execute_reply": "2024-02-29T04:32:53.873934Z"
    },
    "papermill": {
     "duration": 0.074595,
     "end_time": "2024-02-29T04:32:53.877888",
     "exception": false,
     "start_time": "2024-02-29T04:32:53.803293",
     "status": "completed"
    },
    "tags": []
   },
   "outputs": [
    {
     "name": "stdout",
     "output_type": "stream",
     "text": [
      "[LightGBM] [Info] Number of positive: 271, number of negative: 440\n",
      "[LightGBM] [Info] Auto-choosing row-wise multi-threading, the overhead of testing was 0.000144 seconds.\n",
      "You can set `force_row_wise=true` to remove the overhead.\n",
      "And if memory is not enough, you can set `force_col_wise=true`.\n",
      "[LightGBM] [Info] Total Bins 206\n",
      "[LightGBM] [Info] Number of data points in the train set: 711, number of used features: 7\n",
      "[LightGBM] [Info] [binary:BoostFromScore]: pavg=0.381153 -> initscore=-0.484656\n",
      "[LightGBM] [Info] Start training from score -0.484656\n",
      "[LightGBM] [Warning] No further splits with positive gain, best gain: -inf\n",
      "[LightGBM] [Warning] No further splits with positive gain, best gain: -inf\n",
      "[LightGBM] [Warning] No further splits with positive gain, best gain: -inf\n",
      "[LightGBM] [Warning] No further splits with positive gain, best gain: -inf\n",
      "[LightGBM] [Warning] No further splits with positive gain, best gain: -inf\n",
      "[LightGBM] [Warning] No further splits with positive gain, best gain: -inf\n",
      "[LightGBM] [Warning] No further splits with positive gain, best gain: -inf\n",
      "[LightGBM] [Warning] No further splits with positive gain, best gain: -inf\n",
      "[LightGBM] [Warning] No further splits with positive gain, best gain: -inf\n",
      "[LightGBM] [Warning] No further splits with positive gain, best gain: -inf\n",
      "[LightGBM] [Warning] No further splits with positive gain, best gain: -inf\n",
      "[LightGBM] [Warning] No further splits with positive gain, best gain: -inf\n",
      "[LightGBM] [Warning] No further splits with positive gain, best gain: -inf\n",
      "[LightGBM] [Warning] No further splits with positive gain, best gain: -inf\n",
      "[LightGBM] [Warning] No further splits with positive gain, best gain: -inf\n",
      "[LightGBM] [Warning] No further splits with positive gain, best gain: -inf\n",
      "[LightGBM] [Warning] No further splits with positive gain, best gain: -inf\n",
      "[LightGBM] [Warning] No further splits with positive gain, best gain: -inf\n",
      "[LightGBM] [Warning] No further splits with positive gain, best gain: -inf\n",
      "[LightGBM] [Warning] No further splits with positive gain, best gain: -inf\n",
      "[LightGBM] [Warning] No further splits with positive gain, best gain: -inf\n",
      "[LightGBM] [Warning] No further splits with positive gain, best gain: -inf\n",
      "[LightGBM] [Warning] No further splits with positive gain, best gain: -inf\n",
      "[LightGBM] [Warning] No further splits with positive gain, best gain: -inf\n",
      "[LightGBM] [Warning] No further splits with positive gain, best gain: -inf\n",
      "[LightGBM] [Warning] No further splits with positive gain, best gain: -inf\n",
      "[LightGBM] [Warning] No further splits with positive gain, best gain: -inf\n",
      "[LightGBM] [Warning] No further splits with positive gain, best gain: -inf\n",
      "[LightGBM] [Warning] No further splits with positive gain, best gain: -inf\n",
      "[LightGBM] [Warning] No further splits with positive gain, best gain: -inf\n",
      "[LightGBM] [Warning] No further splits with positive gain, best gain: -inf\n",
      "[LightGBM] [Warning] No further splits with positive gain, best gain: -inf\n",
      "[LightGBM] [Warning] No further splits with positive gain, best gain: -inf\n",
      "[LightGBM] [Warning] No further splits with positive gain, best gain: -inf\n",
      "[LightGBM] [Warning] No further splits with positive gain, best gain: -inf\n",
      "[LightGBM] [Warning] No further splits with positive gain, best gain: -inf\n",
      "[LightGBM] [Warning] No further splits with positive gain, best gain: -inf\n",
      "[LightGBM] [Warning] No further splits with positive gain, best gain: -inf\n",
      "[LightGBM] [Warning] No further splits with positive gain, best gain: -inf\n",
      "[LightGBM] [Warning] No further splits with positive gain, best gain: -inf\n",
      "[LightGBM] [Warning] No further splits with positive gain, best gain: -inf\n",
      "[LightGBM] [Warning] No further splits with positive gain, best gain: -inf\n",
      "[LightGBM] [Warning] No further splits with positive gain, best gain: -inf\n",
      "[LightGBM] [Warning] No further splits with positive gain, best gain: -inf\n",
      "[LightGBM] [Warning] No further splits with positive gain, best gain: -inf\n",
      "[LightGBM] [Warning] No further splits with positive gain, best gain: -inf\n",
      "[LightGBM] [Warning] No further splits with positive gain, best gain: -inf\n",
      "[LightGBM] [Warning] No further splits with positive gain, best gain: -inf\n",
      "[LightGBM] [Warning] No further splits with positive gain, best gain: -inf\n",
      "[LightGBM] [Warning] No further splits with positive gain, best gain: -inf\n",
      "[LightGBM] [Warning] No further splits with positive gain, best gain: -inf\n",
      "[LightGBM] [Warning] No further splits with positive gain, best gain: -inf\n",
      "[LightGBM] [Warning] No further splits with positive gain, best gain: -inf\n",
      "[LightGBM] [Warning] No further splits with positive gain, best gain: -inf\n",
      "[LightGBM] [Warning] No further splits with positive gain, best gain: -inf\n",
      "[LightGBM] [Warning] No further splits with positive gain, best gain: -inf\n",
      "[LightGBM] [Warning] No further splits with positive gain, best gain: -inf\n",
      "[LightGBM] [Warning] No further splits with positive gain, best gain: -inf\n",
      "[LightGBM] [Warning] No further splits with positive gain, best gain: -inf\n",
      "[LightGBM] [Warning] No further splits with positive gain, best gain: -inf\n",
      "[LightGBM] [Warning] No further splits with positive gain, best gain: -inf\n",
      "[LightGBM] [Warning] No further splits with positive gain, best gain: -inf\n",
      "[LightGBM] [Warning] No further splits with positive gain, best gain: -inf\n",
      "[LightGBM] [Warning] No further splits with positive gain, best gain: -inf\n",
      "[LightGBM] [Warning] No further splits with positive gain, best gain: -inf\n",
      "[LightGBM] [Warning] No further splits with positive gain, best gain: -inf\n",
      "[LightGBM] [Warning] No further splits with positive gain, best gain: -inf\n",
      "[LightGBM] [Warning] No further splits with positive gain, best gain: -inf\n",
      "[LightGBM] [Warning] No further splits with positive gain, best gain: -inf\n",
      "[LightGBM] [Warning] No further splits with positive gain, best gain: -inf\n",
      "[LightGBM] [Warning] No further splits with positive gain, best gain: -inf\n",
      "[LightGBM] [Warning] No further splits with positive gain, best gain: -inf\n",
      "[LightGBM] [Warning] No further splits with positive gain, best gain: -inf\n",
      "[LightGBM] [Warning] No further splits with positive gain, best gain: -inf\n",
      "[LightGBM] [Warning] No further splits with positive gain, best gain: -inf\n",
      "[LightGBM] [Warning] No further splits with positive gain, best gain: -inf\n",
      "[LightGBM] [Warning] No further splits with positive gain, best gain: -inf\n",
      "[LightGBM] [Warning] No further splits with positive gain, best gain: -inf\n",
      "[LightGBM] [Warning] No further splits with positive gain, best gain: -inf\n",
      "[LightGBM] [Warning] No further splits with positive gain, best gain: -inf\n",
      "[LightGBM] [Warning] No further splits with positive gain, best gain: -inf\n",
      "[LightGBM] [Warning] No further splits with positive gain, best gain: -inf\n",
      "[LightGBM] [Warning] No further splits with positive gain, best gain: -inf\n",
      "[LightGBM] [Warning] No further splits with positive gain, best gain: -inf\n",
      "[LightGBM] [Warning] No further splits with positive gain, best gain: -inf\n",
      "[LightGBM] [Warning] No further splits with positive gain, best gain: -inf\n",
      "[LightGBM] [Warning] No further splits with positive gain, best gain: -inf\n",
      "[LightGBM] [Warning] No further splits with positive gain, best gain: -inf\n",
      "[LightGBM] [Warning] No further splits with positive gain, best gain: -inf\n",
      "[LightGBM] [Warning] No further splits with positive gain, best gain: -inf\n",
      "[LightGBM] [Warning] No further splits with positive gain, best gain: -inf\n",
      "[LightGBM] [Warning] No further splits with positive gain, best gain: -inf\n",
      "[LightGBM] [Warning] No further splits with positive gain, best gain: -inf\n",
      "[LightGBM] [Warning] No further splits with positive gain, best gain: -inf\n",
      "[LightGBM] [Warning] No further splits with positive gain, best gain: -inf\n",
      "[LightGBM] [Warning] No further splits with positive gain, best gain: -inf\n",
      "[LightGBM] [Warning] No further splits with positive gain, best gain: -inf\n",
      "[LightGBM] [Warning] No further splits with positive gain, best gain: -inf\n",
      "[LightGBM] [Warning] No further splits with positive gain, best gain: -inf\n",
      "[LightGBM] [Warning] Stopped training because there are no more leaves that meet the split requirements\n",
      "[LightGBM] [Warning] No further splits with positive gain, best gain: -inf\n"
     ]
    },
    {
     "data": {
      "text/plain": [
       "0.8202247191011236"
      ]
     },
     "execution_count": 45,
     "metadata": {},
     "output_type": "execute_result"
    }
   ],
   "source": [
    "\n",
    "lgbm_best = LGBMClassifier(subsample= 0.8, reg_lambda= 0.1, reg_alpha= 0.5,\n",
    "                           num_leaves= 20, min_child_samples= 30, max_depth=7,\n",
    "                           learning_rate= 0.3, colsample_bytree= 0.6)\n",
    "lgbm_best.fit(x_train,y_train)\n",
    "accuracy_score(lgbm_best.predict(x_test),y_test)"
   ]
  },
  {
   "cell_type": "code",
   "execution_count": 46,
   "id": "1f6d1a53",
   "metadata": {
    "execution": {
     "iopub.execute_input": "2024-02-29T04:32:53.927055Z",
     "iopub.status.busy": "2024-02-29T04:32:53.926410Z",
     "iopub.status.idle": "2024-02-29T04:32:53.938200Z",
     "shell.execute_reply": "2024-02-29T04:32:53.936990Z"
    },
    "papermill": {
     "duration": 0.039202,
     "end_time": "2024-02-29T04:32:53.940519",
     "exception": false,
     "start_time": "2024-02-29T04:32:53.901317",
     "status": "completed"
    },
    "tags": []
   },
   "outputs": [
    {
     "data": {
      "text/plain": [
       "0.8202247191011236"
      ]
     },
     "execution_count": 46,
     "metadata": {},
     "output_type": "execute_result"
    }
   ],
   "source": [
    "accuracy_score(lgbm_best.predict(x_test),y_test)\n"
   ]
  },
  {
   "cell_type": "code",
   "execution_count": 47,
   "id": "ae2f4917",
   "metadata": {
    "execution": {
     "iopub.execute_input": "2024-02-29T04:32:53.990022Z",
     "iopub.status.busy": "2024-02-29T04:32:53.988757Z",
     "iopub.status.idle": "2024-02-29T04:32:53.994156Z",
     "shell.execute_reply": "2024-02-29T04:32:53.993310Z"
    },
    "papermill": {
     "duration": 0.032582,
     "end_time": "2024-02-29T04:32:53.996444",
     "exception": false,
     "start_time": "2024-02-29T04:32:53.963862",
     "status": "completed"
    },
    "tags": []
   },
   "outputs": [],
   "source": [
    "from sklearn.ensemble import VotingClassifier\n"
   ]
  },
  {
   "cell_type": "code",
   "execution_count": 48,
   "id": "d1669651",
   "metadata": {
    "execution": {
     "iopub.execute_input": "2024-02-29T04:32:54.046495Z",
     "iopub.status.busy": "2024-02-29T04:32:54.045244Z",
     "iopub.status.idle": "2024-02-29T04:32:56.024331Z",
     "shell.execute_reply": "2024-02-29T04:32:56.023028Z"
    },
    "papermill": {
     "duration": 2.007113,
     "end_time": "2024-02-29T04:32:56.027002",
     "exception": false,
     "start_time": "2024-02-29T04:32:54.019889",
     "status": "completed"
    },
    "tags": []
   },
   "outputs": [
    {
     "name": "stdout",
     "output_type": "stream",
     "text": [
      "[LightGBM] [Info] Number of positive: 340, number of negative: 549\n",
      "[LightGBM] [Info] Auto-choosing row-wise multi-threading, the overhead of testing was 0.000153 seconds.\n",
      "You can set `force_row_wise=true` to remove the overhead.\n",
      "And if memory is not enough, you can set `force_col_wise=true`.\n",
      "[LightGBM] [Info] Total Bins 228\n",
      "[LightGBM] [Info] Number of data points in the train set: 889, number of used features: 7\n",
      "[LightGBM] [Info] [binary:BoostFromScore]: pavg=0.382452 -> initscore=-0.479153\n",
      "[LightGBM] [Info] Start training from score -0.479153\n",
      "[LightGBM] [Warning] No further splits with positive gain, best gain: -inf\n",
      "[LightGBM] [Warning] No further splits with positive gain, best gain: -inf\n",
      "[LightGBM] [Warning] No further splits with positive gain, best gain: -inf\n",
      "[LightGBM] [Warning] No further splits with positive gain, best gain: -inf\n",
      "[LightGBM] [Warning] No further splits with positive gain, best gain: -inf\n",
      "[LightGBM] [Warning] No further splits with positive gain, best gain: -inf\n",
      "[LightGBM] [Warning] No further splits with positive gain, best gain: -inf\n",
      "[LightGBM] [Warning] No further splits with positive gain, best gain: -inf\n",
      "[LightGBM] [Warning] No further splits with positive gain, best gain: -inf\n",
      "[LightGBM] [Warning] No further splits with positive gain, best gain: -inf\n",
      "[LightGBM] [Warning] No further splits with positive gain, best gain: -inf\n",
      "[LightGBM] [Warning] No further splits with positive gain, best gain: -inf\n",
      "[LightGBM] [Warning] No further splits with positive gain, best gain: -inf\n",
      "[LightGBM] [Warning] No further splits with positive gain, best gain: -inf\n",
      "[LightGBM] [Warning] No further splits with positive gain, best gain: -inf\n",
      "[LightGBM] [Warning] No further splits with positive gain, best gain: -inf\n",
      "[LightGBM] [Warning] No further splits with positive gain, best gain: -inf\n",
      "[LightGBM] [Warning] No further splits with positive gain, best gain: -inf\n",
      "[LightGBM] [Warning] No further splits with positive gain, best gain: -inf\n",
      "[LightGBM] [Warning] No further splits with positive gain, best gain: -inf\n",
      "[LightGBM] [Warning] No further splits with positive gain, best gain: -inf\n",
      "[LightGBM] [Warning] No further splits with positive gain, best gain: -inf\n",
      "[LightGBM] [Warning] No further splits with positive gain, best gain: -inf\n",
      "[LightGBM] [Warning] No further splits with positive gain, best gain: -inf\n",
      "[LightGBM] [Warning] No further splits with positive gain, best gain: -inf\n",
      "[LightGBM] [Warning] No further splits with positive gain, best gain: -inf\n",
      "[LightGBM] [Warning] No further splits with positive gain, best gain: -inf\n",
      "[LightGBM] [Warning] No further splits with positive gain, best gain: -inf\n",
      "[LightGBM] [Warning] No further splits with positive gain, best gain: -inf\n",
      "[LightGBM] [Warning] No further splits with positive gain, best gain: -inf\n",
      "[LightGBM] [Warning] No further splits with positive gain, best gain: -inf\n",
      "[LightGBM] [Warning] No further splits with positive gain, best gain: -inf\n",
      "[LightGBM] [Warning] No further splits with positive gain, best gain: -inf\n",
      "[LightGBM] [Warning] No further splits with positive gain, best gain: -inf\n",
      "[LightGBM] [Warning] No further splits with positive gain, best gain: -inf\n",
      "[LightGBM] [Warning] No further splits with positive gain, best gain: -inf\n",
      "[LightGBM] [Warning] No further splits with positive gain, best gain: -inf\n",
      "[LightGBM] [Warning] No further splits with positive gain, best gain: -inf\n",
      "[LightGBM] [Warning] No further splits with positive gain, best gain: -inf\n",
      "[LightGBM] [Warning] No further splits with positive gain, best gain: -inf\n",
      "[LightGBM] [Warning] No further splits with positive gain, best gain: -inf\n",
      "[LightGBM] [Warning] No further splits with positive gain, best gain: -inf\n",
      "[LightGBM] [Warning] No further splits with positive gain, best gain: -inf\n",
      "[LightGBM] [Warning] No further splits with positive gain, best gain: -inf\n",
      "[LightGBM] [Warning] No further splits with positive gain, best gain: -inf\n",
      "[LightGBM] [Warning] No further splits with positive gain, best gain: -inf\n",
      "[LightGBM] [Warning] No further splits with positive gain, best gain: -inf\n",
      "[LightGBM] [Warning] No further splits with positive gain, best gain: -inf\n",
      "[LightGBM] [Warning] No further splits with positive gain, best gain: -inf\n",
      "[LightGBM] [Warning] No further splits with positive gain, best gain: -inf\n",
      "[LightGBM] [Warning] No further splits with positive gain, best gain: -inf\n",
      "[LightGBM] [Warning] No further splits with positive gain, best gain: -inf\n",
      "[LightGBM] [Warning] No further splits with positive gain, best gain: -inf\n",
      "[LightGBM] [Warning] No further splits with positive gain, best gain: -inf\n",
      "[LightGBM] [Warning] No further splits with positive gain, best gain: -inf\n",
      "[LightGBM] [Warning] No further splits with positive gain, best gain: -inf\n",
      "[LightGBM] [Warning] No further splits with positive gain, best gain: -inf\n",
      "[LightGBM] [Warning] No further splits with positive gain, best gain: -inf\n",
      "[LightGBM] [Warning] No further splits with positive gain, best gain: -inf\n",
      "[LightGBM] [Warning] No further splits with positive gain, best gain: -inf\n",
      "[LightGBM] [Warning] No further splits with positive gain, best gain: -inf\n",
      "[LightGBM] [Warning] No further splits with positive gain, best gain: -inf\n",
      "[LightGBM] [Warning] No further splits with positive gain, best gain: -inf\n",
      "[LightGBM] [Warning] No further splits with positive gain, best gain: -inf\n",
      "[LightGBM] [Warning] No further splits with positive gain, best gain: -inf\n",
      "[LightGBM] [Warning] No further splits with positive gain, best gain: -inf\n",
      "[LightGBM] [Warning] No further splits with positive gain, best gain: -inf\n",
      "[LightGBM] [Warning] No further splits with positive gain, best gain: -inf\n",
      "[LightGBM] [Warning] No further splits with positive gain, best gain: -inf\n",
      "[LightGBM] [Warning] No further splits with positive gain, best gain: -inf\n",
      "[LightGBM] [Warning] No further splits with positive gain, best gain: -inf\n",
      "[LightGBM] [Warning] No further splits with positive gain, best gain: -inf\n",
      "[LightGBM] [Warning] No further splits with positive gain, best gain: -inf\n",
      "[LightGBM] [Warning] No further splits with positive gain, best gain: -inf\n",
      "[LightGBM] [Warning] No further splits with positive gain, best gain: -inf\n",
      "[LightGBM] [Warning] No further splits with positive gain, best gain: -inf\n",
      "[LightGBM] [Warning] No further splits with positive gain, best gain: -inf\n",
      "[LightGBM] [Warning] No further splits with positive gain, best gain: -inf\n",
      "[LightGBM] [Warning] No further splits with positive gain, best gain: -inf\n",
      "[LightGBM] [Warning] No further splits with positive gain, best gain: -inf\n",
      "[LightGBM] [Warning] No further splits with positive gain, best gain: -inf\n",
      "[LightGBM] [Warning] No further splits with positive gain, best gain: -inf\n",
      "[LightGBM] [Warning] No further splits with positive gain, best gain: -inf\n",
      "[LightGBM] [Warning] No further splits with positive gain, best gain: -inf\n",
      "[LightGBM] [Warning] No further splits with positive gain, best gain: -inf\n",
      "[LightGBM] [Warning] No further splits with positive gain, best gain: -inf\n",
      "[LightGBM] [Warning] No further splits with positive gain, best gain: -inf\n",
      "[LightGBM] [Warning] No further splits with positive gain, best gain: -inf\n",
      "[LightGBM] [Warning] No further splits with positive gain, best gain: -inf\n",
      "[LightGBM] [Warning] No further splits with positive gain, best gain: -inf\n",
      "[LightGBM] [Warning] No further splits with positive gain, best gain: -inf\n",
      "[LightGBM] [Warning] No further splits with positive gain, best gain: -inf\n",
      "[LightGBM] [Warning] No further splits with positive gain, best gain: -inf\n",
      "[LightGBM] [Warning] No further splits with positive gain, best gain: -inf\n"
     ]
    },
    {
     "data": {
      "text/html": [
       "<style>#sk-container-id-1 {color: black;background-color: white;}#sk-container-id-1 pre{padding: 0;}#sk-container-id-1 div.sk-toggleable {background-color: white;}#sk-container-id-1 label.sk-toggleable__label {cursor: pointer;display: block;width: 100%;margin-bottom: 0;padding: 0.3em;box-sizing: border-box;text-align: center;}#sk-container-id-1 label.sk-toggleable__label-arrow:before {content: \"▸\";float: left;margin-right: 0.25em;color: #696969;}#sk-container-id-1 label.sk-toggleable__label-arrow:hover:before {color: black;}#sk-container-id-1 div.sk-estimator:hover label.sk-toggleable__label-arrow:before {color: black;}#sk-container-id-1 div.sk-toggleable__content {max-height: 0;max-width: 0;overflow: hidden;text-align: left;background-color: #f0f8ff;}#sk-container-id-1 div.sk-toggleable__content pre {margin: 0.2em;color: black;border-radius: 0.25em;background-color: #f0f8ff;}#sk-container-id-1 input.sk-toggleable__control:checked~div.sk-toggleable__content {max-height: 200px;max-width: 100%;overflow: auto;}#sk-container-id-1 input.sk-toggleable__control:checked~label.sk-toggleable__label-arrow:before {content: \"▾\";}#sk-container-id-1 div.sk-estimator input.sk-toggleable__control:checked~label.sk-toggleable__label {background-color: #d4ebff;}#sk-container-id-1 div.sk-label input.sk-toggleable__control:checked~label.sk-toggleable__label {background-color: #d4ebff;}#sk-container-id-1 input.sk-hidden--visually {border: 0;clip: rect(1px 1px 1px 1px);clip: rect(1px, 1px, 1px, 1px);height: 1px;margin: -1px;overflow: hidden;padding: 0;position: absolute;width: 1px;}#sk-container-id-1 div.sk-estimator {font-family: monospace;background-color: #f0f8ff;border: 1px dotted black;border-radius: 0.25em;box-sizing: border-box;margin-bottom: 0.5em;}#sk-container-id-1 div.sk-estimator:hover {background-color: #d4ebff;}#sk-container-id-1 div.sk-parallel-item::after {content: \"\";width: 100%;border-bottom: 1px solid gray;flex-grow: 1;}#sk-container-id-1 div.sk-label:hover label.sk-toggleable__label {background-color: #d4ebff;}#sk-container-id-1 div.sk-serial::before {content: \"\";position: absolute;border-left: 1px solid gray;box-sizing: border-box;top: 0;bottom: 0;left: 50%;z-index: 0;}#sk-container-id-1 div.sk-serial {display: flex;flex-direction: column;align-items: center;background-color: white;padding-right: 0.2em;padding-left: 0.2em;position: relative;}#sk-container-id-1 div.sk-item {position: relative;z-index: 1;}#sk-container-id-1 div.sk-parallel {display: flex;align-items: stretch;justify-content: center;background-color: white;position: relative;}#sk-container-id-1 div.sk-item::before, #sk-container-id-1 div.sk-parallel-item::before {content: \"\";position: absolute;border-left: 1px solid gray;box-sizing: border-box;top: 0;bottom: 0;left: 50%;z-index: -1;}#sk-container-id-1 div.sk-parallel-item {display: flex;flex-direction: column;z-index: 1;position: relative;background-color: white;}#sk-container-id-1 div.sk-parallel-item:first-child::after {align-self: flex-end;width: 50%;}#sk-container-id-1 div.sk-parallel-item:last-child::after {align-self: flex-start;width: 50%;}#sk-container-id-1 div.sk-parallel-item:only-child::after {width: 0;}#sk-container-id-1 div.sk-dashed-wrapped {border: 1px dashed gray;margin: 0 0.4em 0.5em 0.4em;box-sizing: border-box;padding-bottom: 0.4em;background-color: white;}#sk-container-id-1 div.sk-label label {font-family: monospace;font-weight: bold;display: inline-block;line-height: 1.2em;}#sk-container-id-1 div.sk-label-container {text-align: center;}#sk-container-id-1 div.sk-container {/* jupyter's `normalize.less` sets `[hidden] { display: none; }` but bootstrap.min.css set `[hidden] { display: none !important; }` so we also need the `!important` here to be able to override the default hidden behavior on the sphinx rendered scikit-learn.org. See: https://github.com/scikit-learn/scikit-learn/issues/21755 */display: inline-block !important;position: relative;}#sk-container-id-1 div.sk-text-repr-fallback {display: none;}</style><div id=\"sk-container-id-1\" class=\"sk-top-container\"><div class=\"sk-text-repr-fallback\"><pre>VotingClassifier(estimators=[(&#x27;svm_best&#x27;, SVC(C=10, gamma=0.1)),\n",
       "                             (&#x27;ada_Best&#x27;,\n",
       "                              AdaBoostClassifier(learning_rate=0.01,\n",
       "                                                 n_estimators=500)),\n",
       "                             (&#x27;rand_Best&#x27;,\n",
       "                              RandomForestClassifier(max_depth=10,\n",
       "                                                     max_features=&#x27;log2&#x27;,\n",
       "                                                     min_samples_leaf=2,\n",
       "                                                     min_samples_split=5,\n",
       "                                                     n_estimators=200)),\n",
       "                             (&#x27;xgb_Best&#x27;,\n",
       "                              XGBClassifier(base_score=None, booster=None,\n",
       "                                            callbacks=None,\n",
       "                                            colsample_bylevel=None...\n",
       "                                            max_leaves=None, min_child_weight=1,\n",
       "                                            missing=nan,\n",
       "                                            monotone_constraints=None,\n",
       "                                            multi_strategy=None,\n",
       "                                            n_estimators=None, n_jobs=None,\n",
       "                                            num_parallel_tree=None,\n",
       "                                            random_state=None, ...)),\n",
       "                             (&#x27;lgbm_best&#x27;,\n",
       "                              LGBMClassifier(colsample_bytree=0.6,\n",
       "                                             learning_rate=0.3, max_depth=7,\n",
       "                                             min_child_samples=30,\n",
       "                                             num_leaves=20, reg_alpha=0.5,\n",
       "                                             reg_lambda=0.1, subsample=0.8))],\n",
       "                 weights=[5, 4, 1, 2, 3])</pre><b>In a Jupyter environment, please rerun this cell to show the HTML representation or trust the notebook. <br />On GitHub, the HTML representation is unable to render, please try loading this page with nbviewer.org.</b></div><div class=\"sk-container\" hidden><div class=\"sk-item sk-dashed-wrapped\"><div class=\"sk-label-container\"><div class=\"sk-label sk-toggleable\"><input class=\"sk-toggleable__control sk-hidden--visually\" id=\"sk-estimator-id-1\" type=\"checkbox\" ><label for=\"sk-estimator-id-1\" class=\"sk-toggleable__label sk-toggleable__label-arrow\">VotingClassifier</label><div class=\"sk-toggleable__content\"><pre>VotingClassifier(estimators=[(&#x27;svm_best&#x27;, SVC(C=10, gamma=0.1)),\n",
       "                             (&#x27;ada_Best&#x27;,\n",
       "                              AdaBoostClassifier(learning_rate=0.01,\n",
       "                                                 n_estimators=500)),\n",
       "                             (&#x27;rand_Best&#x27;,\n",
       "                              RandomForestClassifier(max_depth=10,\n",
       "                                                     max_features=&#x27;log2&#x27;,\n",
       "                                                     min_samples_leaf=2,\n",
       "                                                     min_samples_split=5,\n",
       "                                                     n_estimators=200)),\n",
       "                             (&#x27;xgb_Best&#x27;,\n",
       "                              XGBClassifier(base_score=None, booster=None,\n",
       "                                            callbacks=None,\n",
       "                                            colsample_bylevel=None...\n",
       "                                            max_leaves=None, min_child_weight=1,\n",
       "                                            missing=nan,\n",
       "                                            monotone_constraints=None,\n",
       "                                            multi_strategy=None,\n",
       "                                            n_estimators=None, n_jobs=None,\n",
       "                                            num_parallel_tree=None,\n",
       "                                            random_state=None, ...)),\n",
       "                             (&#x27;lgbm_best&#x27;,\n",
       "                              LGBMClassifier(colsample_bytree=0.6,\n",
       "                                             learning_rate=0.3, max_depth=7,\n",
       "                                             min_child_samples=30,\n",
       "                                             num_leaves=20, reg_alpha=0.5,\n",
       "                                             reg_lambda=0.1, subsample=0.8))],\n",
       "                 weights=[5, 4, 1, 2, 3])</pre></div></div></div><div class=\"sk-parallel\"><div class=\"sk-parallel-item\"><div class=\"sk-item\"><div class=\"sk-label-container\"><div class=\"sk-label sk-toggleable\"><label>svm_best</label></div></div><div class=\"sk-serial\"><div class=\"sk-item\"><div class=\"sk-estimator sk-toggleable\"><input class=\"sk-toggleable__control sk-hidden--visually\" id=\"sk-estimator-id-2\" type=\"checkbox\" ><label for=\"sk-estimator-id-2\" class=\"sk-toggleable__label sk-toggleable__label-arrow\">SVC</label><div class=\"sk-toggleable__content\"><pre>SVC(C=10, gamma=0.1)</pre></div></div></div></div></div></div><div class=\"sk-parallel-item\"><div class=\"sk-item\"><div class=\"sk-label-container\"><div class=\"sk-label sk-toggleable\"><label>ada_Best</label></div></div><div class=\"sk-serial\"><div class=\"sk-item\"><div class=\"sk-estimator sk-toggleable\"><input class=\"sk-toggleable__control sk-hidden--visually\" id=\"sk-estimator-id-3\" type=\"checkbox\" ><label for=\"sk-estimator-id-3\" class=\"sk-toggleable__label sk-toggleable__label-arrow\">AdaBoostClassifier</label><div class=\"sk-toggleable__content\"><pre>AdaBoostClassifier(learning_rate=0.01, n_estimators=500)</pre></div></div></div></div></div></div><div class=\"sk-parallel-item\"><div class=\"sk-item\"><div class=\"sk-label-container\"><div class=\"sk-label sk-toggleable\"><label>rand_Best</label></div></div><div class=\"sk-serial\"><div class=\"sk-item\"><div class=\"sk-estimator sk-toggleable\"><input class=\"sk-toggleable__control sk-hidden--visually\" id=\"sk-estimator-id-4\" type=\"checkbox\" ><label for=\"sk-estimator-id-4\" class=\"sk-toggleable__label sk-toggleable__label-arrow\">RandomForestClassifier</label><div class=\"sk-toggleable__content\"><pre>RandomForestClassifier(max_depth=10, max_features=&#x27;log2&#x27;, min_samples_leaf=2,\n",
       "                       min_samples_split=5, n_estimators=200)</pre></div></div></div></div></div></div><div class=\"sk-parallel-item\"><div class=\"sk-item\"><div class=\"sk-label-container\"><div class=\"sk-label sk-toggleable\"><label>xgb_Best</label></div></div><div class=\"sk-serial\"><div class=\"sk-item\"><div class=\"sk-estimator sk-toggleable\"><input class=\"sk-toggleable__control sk-hidden--visually\" id=\"sk-estimator-id-5\" type=\"checkbox\" ><label for=\"sk-estimator-id-5\" class=\"sk-toggleable__label sk-toggleable__label-arrow\">XGBClassifier</label><div class=\"sk-toggleable__content\"><pre>XGBClassifier(base_score=None, booster=None, callbacks=None,\n",
       "              colsample_bylevel=None, colsample_bynode=None,\n",
       "              colsample_bytree=0.9, device=None, early_stopping_rounds=None,\n",
       "              enable_categorical=False, eval_metric=None, feature_types=None,\n",
       "              gamma=0.1, grow_policy=None, importance_type=None,\n",
       "              interaction_constraints=None, learning_rate=0.01, max_bin=None,\n",
       "              max_cat_threshold=None, max_cat_to_onehot=None,\n",
       "              max_delta_step=None, max_depth=7, max_leaves=None,\n",
       "              min_child_weight=1, missing=nan, monotone_constraints=None,\n",
       "              multi_strategy=None, n_estimators=None, n_jobs=None,\n",
       "              num_parallel_tree=None, random_state=None, ...)</pre></div></div></div></div></div></div><div class=\"sk-parallel-item\"><div class=\"sk-item\"><div class=\"sk-label-container\"><div class=\"sk-label sk-toggleable\"><label>lgbm_best</label></div></div><div class=\"sk-serial\"><div class=\"sk-item\"><div class=\"sk-estimator sk-toggleable\"><input class=\"sk-toggleable__control sk-hidden--visually\" id=\"sk-estimator-id-6\" type=\"checkbox\" ><label for=\"sk-estimator-id-6\" class=\"sk-toggleable__label sk-toggleable__label-arrow\">LGBMClassifier</label><div class=\"sk-toggleable__content\"><pre>LGBMClassifier(colsample_bytree=0.6, learning_rate=0.3, max_depth=7,\n",
       "               min_child_samples=30, num_leaves=20, reg_alpha=0.5,\n",
       "               reg_lambda=0.1, subsample=0.8)</pre></div></div></div></div></div></div></div></div></div></div>"
      ],
      "text/plain": [
       "VotingClassifier(estimators=[('svm_best', SVC(C=10, gamma=0.1)),\n",
       "                             ('ada_Best',\n",
       "                              AdaBoostClassifier(learning_rate=0.01,\n",
       "                                                 n_estimators=500)),\n",
       "                             ('rand_Best',\n",
       "                              RandomForestClassifier(max_depth=10,\n",
       "                                                     max_features='log2',\n",
       "                                                     min_samples_leaf=2,\n",
       "                                                     min_samples_split=5,\n",
       "                                                     n_estimators=200)),\n",
       "                             ('xgb_Best',\n",
       "                              XGBClassifier(base_score=None, booster=None,\n",
       "                                            callbacks=None,\n",
       "                                            colsample_bylevel=None...\n",
       "                                            max_leaves=None, min_child_weight=1,\n",
       "                                            missing=nan,\n",
       "                                            monotone_constraints=None,\n",
       "                                            multi_strategy=None,\n",
       "                                            n_estimators=None, n_jobs=None,\n",
       "                                            num_parallel_tree=None,\n",
       "                                            random_state=None, ...)),\n",
       "                             ('lgbm_best',\n",
       "                              LGBMClassifier(colsample_bytree=0.6,\n",
       "                                             learning_rate=0.3, max_depth=7,\n",
       "                                             min_child_samples=30,\n",
       "                                             num_leaves=20, reg_alpha=0.5,\n",
       "                                             reg_lambda=0.1, subsample=0.8))],\n",
       "                 weights=[5, 4, 1, 2, 3])"
      ]
     },
     "execution_count": 48,
     "metadata": {},
     "output_type": "execute_result"
    }
   ],
   "source": [
    "voting = VotingClassifier(estimators=[('svm_best',svm_best),('ada_Best',ada_Best),\n",
    "                                      ('rand_Best',rand_Best),('xgb_Best',xgb_Best),\n",
    "                                     (\"lgbm_best\",lgbm_best)]\n",
    "                         , weights=[5,4,1,2, 3], voting='hard')\n",
    "voting.fit(x,y)"
   ]
  },
  {
   "cell_type": "code",
   "execution_count": 49,
   "id": "52a7563d",
   "metadata": {
    "execution": {
     "iopub.execute_input": "2024-02-29T04:32:56.077988Z",
     "iopub.status.busy": "2024-02-29T04:32:56.077590Z",
     "iopub.status.idle": "2024-02-29T04:32:56.205532Z",
     "shell.execute_reply": "2024-02-29T04:32:56.204435Z"
    },
    "papermill": {
     "duration": 0.156653,
     "end_time": "2024-02-29T04:32:56.208200",
     "exception": false,
     "start_time": "2024-02-29T04:32:56.051547",
     "status": "completed"
    },
    "tags": []
   },
   "outputs": [
    {
     "data": {
      "text/plain": [
       "0.8146067415730337"
      ]
     },
     "execution_count": 49,
     "metadata": {},
     "output_type": "execute_result"
    }
   ],
   "source": [
    "accuracy_score(voting.predict(x_test),y_test)"
   ]
  },
  {
   "cell_type": "code",
   "execution_count": 50,
   "id": "b5f5c861",
   "metadata": {
    "execution": {
     "iopub.execute_input": "2024-02-29T04:32:56.259589Z",
     "iopub.status.busy": "2024-02-29T04:32:56.259201Z",
     "iopub.status.idle": "2024-02-29T04:32:56.277556Z",
     "shell.execute_reply": "2024-02-29T04:32:56.276579Z"
    },
    "papermill": {
     "duration": 0.047022,
     "end_time": "2024-02-29T04:32:56.279954",
     "exception": false,
     "start_time": "2024-02-29T04:32:56.232932",
     "status": "completed"
    },
    "tags": []
   },
   "outputs": [
    {
     "data": {
      "text/html": [
       "<div>\n",
       "<style scoped>\n",
       "    .dataframe tbody tr th:only-of-type {\n",
       "        vertical-align: middle;\n",
       "    }\n",
       "\n",
       "    .dataframe tbody tr th {\n",
       "        vertical-align: top;\n",
       "    }\n",
       "\n",
       "    .dataframe thead th {\n",
       "        text-align: right;\n",
       "    }\n",
       "</style>\n",
       "<table border=\"1\" class=\"dataframe\">\n",
       "  <thead>\n",
       "    <tr style=\"text-align: right;\">\n",
       "      <th></th>\n",
       "      <th>PassengerId</th>\n",
       "      <th>Survived</th>\n",
       "    </tr>\n",
       "  </thead>\n",
       "  <tbody>\n",
       "    <tr>\n",
       "      <th>0</th>\n",
       "      <td>892</td>\n",
       "      <td>0</td>\n",
       "    </tr>\n",
       "    <tr>\n",
       "      <th>1</th>\n",
       "      <td>893</td>\n",
       "      <td>1</td>\n",
       "    </tr>\n",
       "    <tr>\n",
       "      <th>2</th>\n",
       "      <td>894</td>\n",
       "      <td>0</td>\n",
       "    </tr>\n",
       "    <tr>\n",
       "      <th>3</th>\n",
       "      <td>895</td>\n",
       "      <td>0</td>\n",
       "    </tr>\n",
       "    <tr>\n",
       "      <th>4</th>\n",
       "      <td>896</td>\n",
       "      <td>1</td>\n",
       "    </tr>\n",
       "  </tbody>\n",
       "</table>\n",
       "</div>"
      ],
      "text/plain": [
       "   PassengerId  Survived\n",
       "0          892         0\n",
       "1          893         1\n",
       "2          894         0\n",
       "3          895         0\n",
       "4          896         1"
      ]
     },
     "execution_count": 50,
     "metadata": {},
     "output_type": "execute_result"
    }
   ],
   "source": [
    "submission = pd.read_csv(\"/kaggle/input/titanic/gender_submission.csv\")\n",
    "submission.head()"
   ]
  },
  {
   "cell_type": "code",
   "execution_count": 51,
   "id": "36f9ca9d",
   "metadata": {
    "execution": {
     "iopub.execute_input": "2024-02-29T04:32:56.333189Z",
     "iopub.status.busy": "2024-02-29T04:32:56.332764Z",
     "iopub.status.idle": "2024-02-29T04:32:56.492920Z",
     "shell.execute_reply": "2024-02-29T04:32:56.491672Z"
    },
    "papermill": {
     "duration": 0.190382,
     "end_time": "2024-02-29T04:32:56.495856",
     "exception": false,
     "start_time": "2024-02-29T04:32:56.305474",
     "status": "completed"
    },
    "tags": []
   },
   "outputs": [],
   "source": [
    "predictions = voting.predict(test)\n",
    "submission[\"Survived\"] = predictions\n",
    "submission.to_csv(\"submission.csv\", index=False)"
   ]
  },
  {
   "cell_type": "code",
   "execution_count": null,
   "id": "dfd47fbd",
   "metadata": {
    "papermill": {
     "duration": 0.025168,
     "end_time": "2024-02-29T04:32:56.545942",
     "exception": false,
     "start_time": "2024-02-29T04:32:56.520774",
     "status": "completed"
    },
    "tags": []
   },
   "outputs": [],
   "source": []
  }
 ],
 "metadata": {
  "kaggle": {
   "accelerator": "none",
   "dataSources": [
    {
     "databundleVersionId": 26502,
     "sourceId": 3136,
     "sourceType": "competition"
    }
   ],
   "dockerImageVersionId": 30646,
   "isGpuEnabled": false,
   "isInternetEnabled": true,
   "language": "python",
   "sourceType": "notebook"
  },
  "kernelspec": {
   "display_name": "Python 3",
   "language": "python",
   "name": "python3"
  },
  "language_info": {
   "codemirror_mode": {
    "name": "ipython",
    "version": 3
   },
   "file_extension": ".py",
   "mimetype": "text/x-python",
   "name": "python",
   "nbconvert_exporter": "python",
   "pygments_lexer": "ipython3",
   "version": "3.10.13"
  },
  "papermill": {
   "default_parameters": {},
   "duration": 145.886201,
   "end_time": "2024-02-29T04:32:57.393657",
   "environment_variables": {},
   "exception": null,
   "input_path": "__notebook__.ipynb",
   "output_path": "__notebook__.ipynb",
   "parameters": {},
   "start_time": "2024-02-29T04:30:31.507456",
   "version": "2.5.0"
  }
 },
 "nbformat": 4,
 "nbformat_minor": 5
}
