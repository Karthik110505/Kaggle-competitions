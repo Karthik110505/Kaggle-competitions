{
 "cells": [
  {
   "cell_type": "markdown",
   "id": "9a515ded",
   "metadata": {
    "papermill": {
     "duration": 0.018162,
     "end_time": "2024-03-05T12:45:55.272292",
     "exception": false,
     "start_time": "2024-03-05T12:45:55.254130",
     "status": "completed"
    },
    "tags": []
   },
   "source": [
    "# **Welcome to my SpaceShip Titanic Competition Notebook**\n",
    "\n",
    "It is a beginner friendly notebook to solve a Data Science Classification problem.\n",
    "\n",
    "To to keep it simple I imported the libraries only where they are need rather than all at the beginning.\n",
    "\n",
    "If you are a beginner looking to learn and improve your ML skills, then this notebook gives you a clear calrity how to get a good a score in Kaggle competitions.\n",
    "\n",
    "This notebook has score of ~ 0.80.\n",
    "\n",
    "If this is useful, please upvote this notebook.\n",
    "\n",
    "Any if you have any queries than feel free to comment.\n"
   ]
  },
  {
   "cell_type": "markdown",
   "id": "56597d59",
   "metadata": {
    "papermill": {
     "duration": 0.015169,
     "end_time": "2024-03-05T12:45:55.303029",
     "exception": false,
     "start_time": "2024-03-05T12:45:55.287860",
     "status": "completed"
    },
    "tags": []
   },
   "source": [
    "## Importing basic Libraries and Data Sets"
   ]
  },
  {
   "cell_type": "code",
   "execution_count": 1,
   "id": "39a6663d",
   "metadata": {
    "_cell_guid": "b1076dfc-b9ad-4769-8c92-a6c4dae69d19",
    "_uuid": "8f2839f25d086af736a60e9eeb907d3b93b6e0e5",
    "execution": {
     "iopub.execute_input": "2024-03-05T12:45:55.334889Z",
     "iopub.status.busy": "2024-03-05T12:45:55.334144Z",
     "iopub.status.idle": "2024-03-05T12:45:58.012769Z",
     "shell.execute_reply": "2024-03-05T12:45:58.011372Z"
    },
    "papermill": {
     "duration": 2.698188,
     "end_time": "2024-03-05T12:45:58.015732",
     "exception": false,
     "start_time": "2024-03-05T12:45:55.317544",
     "status": "completed"
    },
    "tags": []
   },
   "outputs": [],
   "source": [
    "\n",
    "import numpy as np \n",
    "import pandas as pd \n",
    "import matplotlib.pyplot as plt\n",
    "import seaborn as sns\n"
   ]
  },
  {
   "cell_type": "code",
   "execution_count": 2,
   "id": "cfbf8c24",
   "metadata": {
    "execution": {
     "iopub.execute_input": "2024-03-05T12:45:58.048185Z",
     "iopub.status.busy": "2024-03-05T12:45:58.047623Z",
     "iopub.status.idle": "2024-03-05T12:45:58.055812Z",
     "shell.execute_reply": "2024-03-05T12:45:58.054269Z"
    },
    "papermill": {
     "duration": 0.02628,
     "end_time": "2024-03-05T12:45:58.058080",
     "exception": false,
     "start_time": "2024-03-05T12:45:58.031800",
     "status": "completed"
    },
    "tags": []
   },
   "outputs": [
    {
     "name": "stdout",
     "output_type": "stream",
     "text": [
      "/kaggle/input/spaceship-titanic/sample_submission.csv\n",
      "/kaggle/input/spaceship-titanic/train.csv\n",
      "/kaggle/input/spaceship-titanic/test.csv\n"
     ]
    }
   ],
   "source": [
    "import os\n",
    "for dirname, _, filenames in os.walk('/kaggle/input'):\n",
    "    for filename in filenames:\n",
    "        print(os.path.join(dirname, filename))\n"
   ]
  },
  {
   "cell_type": "code",
   "execution_count": 3,
   "id": "8d57754d",
   "metadata": {
    "execution": {
     "iopub.execute_input": "2024-03-05T12:45:58.089983Z",
     "iopub.status.busy": "2024-03-05T12:45:58.089234Z",
     "iopub.status.idle": "2024-03-05T12:45:58.184130Z",
     "shell.execute_reply": "2024-03-05T12:45:58.183174Z"
    },
    "papermill": {
     "duration": 0.11379,
     "end_time": "2024-03-05T12:45:58.186695",
     "exception": false,
     "start_time": "2024-03-05T12:45:58.072905",
     "status": "completed"
    },
    "tags": []
   },
   "outputs": [],
   "source": [
    "test = pd.read_csv(\"/kaggle/input/spaceship-titanic/test.csv\")\n",
    "train = pd.read_csv(\"/kaggle/input/spaceship-titanic/train.csv\")\n",
    "submisssion = pd.read_csv(\"/kaggle/input/spaceship-titanic/sample_submission.csv\")"
   ]
  },
  {
   "cell_type": "markdown",
   "id": "23f6ae74",
   "metadata": {
    "papermill": {
     "duration": 0.01501,
     "end_time": "2024-03-05T12:45:58.216622",
     "exception": false,
     "start_time": "2024-03-05T12:45:58.201612",
     "status": "completed"
    },
    "tags": []
   },
   "source": [
    "## EDA"
   ]
  },
  {
   "cell_type": "code",
   "execution_count": 4,
   "id": "33abda35",
   "metadata": {
    "execution": {
     "iopub.execute_input": "2024-03-05T12:45:58.248543Z",
     "iopub.status.busy": "2024-03-05T12:45:58.248119Z",
     "iopub.status.idle": "2024-03-05T12:45:58.275085Z",
     "shell.execute_reply": "2024-03-05T12:45:58.273929Z"
    },
    "papermill": {
     "duration": 0.045969,
     "end_time": "2024-03-05T12:45:58.277555",
     "exception": false,
     "start_time": "2024-03-05T12:45:58.231586",
     "status": "completed"
    },
    "tags": []
   },
   "outputs": [
    {
     "data": {
      "text/html": [
       "<div>\n",
       "<style scoped>\n",
       "    .dataframe tbody tr th:only-of-type {\n",
       "        vertical-align: middle;\n",
       "    }\n",
       "\n",
       "    .dataframe tbody tr th {\n",
       "        vertical-align: top;\n",
       "    }\n",
       "\n",
       "    .dataframe thead th {\n",
       "        text-align: right;\n",
       "    }\n",
       "</style>\n",
       "<table border=\"1\" class=\"dataframe\">\n",
       "  <thead>\n",
       "    <tr style=\"text-align: right;\">\n",
       "      <th></th>\n",
       "      <th>PassengerId</th>\n",
       "      <th>HomePlanet</th>\n",
       "      <th>CryoSleep</th>\n",
       "      <th>Cabin</th>\n",
       "      <th>Destination</th>\n",
       "      <th>Age</th>\n",
       "      <th>VIP</th>\n",
       "      <th>RoomService</th>\n",
       "      <th>FoodCourt</th>\n",
       "      <th>ShoppingMall</th>\n",
       "      <th>Spa</th>\n",
       "      <th>VRDeck</th>\n",
       "      <th>Name</th>\n",
       "      <th>Transported</th>\n",
       "    </tr>\n",
       "  </thead>\n",
       "  <tbody>\n",
       "    <tr>\n",
       "      <th>0</th>\n",
       "      <td>0001_01</td>\n",
       "      <td>Europa</td>\n",
       "      <td>False</td>\n",
       "      <td>B/0/P</td>\n",
       "      <td>TRAPPIST-1e</td>\n",
       "      <td>39.0</td>\n",
       "      <td>False</td>\n",
       "      <td>0.0</td>\n",
       "      <td>0.0</td>\n",
       "      <td>0.0</td>\n",
       "      <td>0.0</td>\n",
       "      <td>0.0</td>\n",
       "      <td>Maham Ofracculy</td>\n",
       "      <td>False</td>\n",
       "    </tr>\n",
       "    <tr>\n",
       "      <th>1</th>\n",
       "      <td>0002_01</td>\n",
       "      <td>Earth</td>\n",
       "      <td>False</td>\n",
       "      <td>F/0/S</td>\n",
       "      <td>TRAPPIST-1e</td>\n",
       "      <td>24.0</td>\n",
       "      <td>False</td>\n",
       "      <td>109.0</td>\n",
       "      <td>9.0</td>\n",
       "      <td>25.0</td>\n",
       "      <td>549.0</td>\n",
       "      <td>44.0</td>\n",
       "      <td>Juanna Vines</td>\n",
       "      <td>True</td>\n",
       "    </tr>\n",
       "    <tr>\n",
       "      <th>2</th>\n",
       "      <td>0003_01</td>\n",
       "      <td>Europa</td>\n",
       "      <td>False</td>\n",
       "      <td>A/0/S</td>\n",
       "      <td>TRAPPIST-1e</td>\n",
       "      <td>58.0</td>\n",
       "      <td>True</td>\n",
       "      <td>43.0</td>\n",
       "      <td>3576.0</td>\n",
       "      <td>0.0</td>\n",
       "      <td>6715.0</td>\n",
       "      <td>49.0</td>\n",
       "      <td>Altark Susent</td>\n",
       "      <td>False</td>\n",
       "    </tr>\n",
       "  </tbody>\n",
       "</table>\n",
       "</div>"
      ],
      "text/plain": [
       "  PassengerId HomePlanet CryoSleep  Cabin  Destination   Age    VIP  \\\n",
       "0     0001_01     Europa     False  B/0/P  TRAPPIST-1e  39.0  False   \n",
       "1     0002_01      Earth     False  F/0/S  TRAPPIST-1e  24.0  False   \n",
       "2     0003_01     Europa     False  A/0/S  TRAPPIST-1e  58.0   True   \n",
       "\n",
       "   RoomService  FoodCourt  ShoppingMall     Spa  VRDeck             Name  \\\n",
       "0          0.0        0.0           0.0     0.0     0.0  Maham Ofracculy   \n",
       "1        109.0        9.0          25.0   549.0    44.0     Juanna Vines   \n",
       "2         43.0     3576.0           0.0  6715.0    49.0    Altark Susent   \n",
       "\n",
       "   Transported  \n",
       "0        False  \n",
       "1         True  \n",
       "2        False  "
      ]
     },
     "execution_count": 4,
     "metadata": {},
     "output_type": "execute_result"
    }
   ],
   "source": [
    "train.head(3)"
   ]
  },
  {
   "cell_type": "code",
   "execution_count": 5,
   "id": "32a2ce29",
   "metadata": {
    "execution": {
     "iopub.execute_input": "2024-03-05T12:45:58.309699Z",
     "iopub.status.busy": "2024-03-05T12:45:58.309005Z",
     "iopub.status.idle": "2024-03-05T12:45:58.323372Z",
     "shell.execute_reply": "2024-03-05T12:45:58.322160Z"
    },
    "papermill": {
     "duration": 0.033328,
     "end_time": "2024-03-05T12:45:58.325695",
     "exception": false,
     "start_time": "2024-03-05T12:45:58.292367",
     "status": "completed"
    },
    "tags": []
   },
   "outputs": [
    {
     "data": {
      "text/plain": [
       "PassengerId       0\n",
       "HomePlanet      201\n",
       "CryoSleep       217\n",
       "Cabin           199\n",
       "Destination     182\n",
       "Age             179\n",
       "VIP             203\n",
       "RoomService     181\n",
       "FoodCourt       183\n",
       "ShoppingMall    208\n",
       "Spa             183\n",
       "VRDeck          188\n",
       "Name            200\n",
       "Transported       0\n",
       "dtype: int64"
      ]
     },
     "execution_count": 5,
     "metadata": {},
     "output_type": "execute_result"
    }
   ],
   "source": [
    "train.isnull().sum()"
   ]
  },
  {
   "cell_type": "code",
   "execution_count": 6,
   "id": "927b9ea9",
   "metadata": {
    "execution": {
     "iopub.execute_input": "2024-03-05T12:45:58.358621Z",
     "iopub.status.busy": "2024-03-05T12:45:58.358171Z",
     "iopub.status.idle": "2024-03-05T12:45:58.369252Z",
     "shell.execute_reply": "2024-03-05T12:45:58.368321Z"
    },
    "papermill": {
     "duration": 0.030083,
     "end_time": "2024-03-05T12:45:58.371522",
     "exception": false,
     "start_time": "2024-03-05T12:45:58.341439",
     "status": "completed"
    },
    "tags": []
   },
   "outputs": [
    {
     "data": {
      "text/plain": [
       "PassengerId       0\n",
       "HomePlanet       87\n",
       "CryoSleep        93\n",
       "Cabin           100\n",
       "Destination      92\n",
       "Age              91\n",
       "VIP              93\n",
       "RoomService      82\n",
       "FoodCourt       106\n",
       "ShoppingMall     98\n",
       "Spa             101\n",
       "VRDeck           80\n",
       "Name             94\n",
       "dtype: int64"
      ]
     },
     "execution_count": 6,
     "metadata": {},
     "output_type": "execute_result"
    }
   ],
   "source": [
    "test.isnull().sum()"
   ]
  },
  {
   "cell_type": "code",
   "execution_count": 7,
   "id": "b8945e4d",
   "metadata": {
    "execution": {
     "iopub.execute_input": "2024-03-05T12:45:58.405104Z",
     "iopub.status.busy": "2024-03-05T12:45:58.404646Z",
     "iopub.status.idle": "2024-03-05T12:45:58.412590Z",
     "shell.execute_reply": "2024-03-05T12:45:58.411581Z"
    },
    "papermill": {
     "duration": 0.028041,
     "end_time": "2024-03-05T12:45:58.414834",
     "exception": false,
     "start_time": "2024-03-05T12:45:58.386793",
     "status": "completed"
    },
    "tags": []
   },
   "outputs": [
    {
     "data": {
      "text/plain": [
       "PassengerId      object\n",
       "HomePlanet       object\n",
       "CryoSleep        object\n",
       "Cabin            object\n",
       "Destination      object\n",
       "Age             float64\n",
       "VIP              object\n",
       "RoomService     float64\n",
       "FoodCourt       float64\n",
       "ShoppingMall    float64\n",
       "Spa             float64\n",
       "VRDeck          float64\n",
       "Name             object\n",
       "Transported        bool\n",
       "dtype: object"
      ]
     },
     "execution_count": 7,
     "metadata": {},
     "output_type": "execute_result"
    }
   ],
   "source": [
    "train.dtypes"
   ]
  },
  {
   "cell_type": "code",
   "execution_count": 8,
   "id": "8db733d7",
   "metadata": {
    "execution": {
     "iopub.execute_input": "2024-03-05T12:45:58.448081Z",
     "iopub.status.busy": "2024-03-05T12:45:58.447217Z",
     "iopub.status.idle": "2024-03-05T12:45:58.468479Z",
     "shell.execute_reply": "2024-03-05T12:45:58.467088Z"
    },
    "papermill": {
     "duration": 0.041166,
     "end_time": "2024-03-05T12:45:58.471508",
     "exception": false,
     "start_time": "2024-03-05T12:45:58.430342",
     "status": "completed"
    },
    "tags": []
   },
   "outputs": [],
   "source": [
    "# Converting True to 1 and False to 0 of the below mentioned columns\n",
    "col = [\"CryoSleep\",\"VIP\"]\n",
    "\n",
    "for i in col:\n",
    "    train[i] = train[i].apply(lambda x:1 if x == True else 0)\n",
    "    test[i] = test[i].apply(lambda x: 1 if x == True else 0)"
   ]
  },
  {
   "cell_type": "code",
   "execution_count": 9,
   "id": "82930f8a",
   "metadata": {
    "execution": {
     "iopub.execute_input": "2024-03-05T12:45:58.504414Z",
     "iopub.status.busy": "2024-03-05T12:45:58.503951Z",
     "iopub.status.idle": "2024-03-05T12:45:58.523598Z",
     "shell.execute_reply": "2024-03-05T12:45:58.521971Z"
    },
    "papermill": {
     "duration": 0.039321,
     "end_time": "2024-03-05T12:45:58.526310",
     "exception": false,
     "start_time": "2024-03-05T12:45:58.486989",
     "status": "completed"
    },
    "tags": []
   },
   "outputs": [
    {
     "data": {
      "text/html": [
       "<div>\n",
       "<style scoped>\n",
       "    .dataframe tbody tr th:only-of-type {\n",
       "        vertical-align: middle;\n",
       "    }\n",
       "\n",
       "    .dataframe tbody tr th {\n",
       "        vertical-align: top;\n",
       "    }\n",
       "\n",
       "    .dataframe thead th {\n",
       "        text-align: right;\n",
       "    }\n",
       "</style>\n",
       "<table border=\"1\" class=\"dataframe\">\n",
       "  <thead>\n",
       "    <tr style=\"text-align: right;\">\n",
       "      <th></th>\n",
       "      <th>PassengerId</th>\n",
       "      <th>HomePlanet</th>\n",
       "      <th>CryoSleep</th>\n",
       "      <th>Cabin</th>\n",
       "      <th>Destination</th>\n",
       "      <th>Age</th>\n",
       "      <th>VIP</th>\n",
       "      <th>RoomService</th>\n",
       "      <th>FoodCourt</th>\n",
       "      <th>ShoppingMall</th>\n",
       "      <th>Spa</th>\n",
       "      <th>VRDeck</th>\n",
       "      <th>Name</th>\n",
       "    </tr>\n",
       "  </thead>\n",
       "  <tbody>\n",
       "    <tr>\n",
       "      <th>0</th>\n",
       "      <td>0013_01</td>\n",
       "      <td>Earth</td>\n",
       "      <td>1</td>\n",
       "      <td>G/3/S</td>\n",
       "      <td>TRAPPIST-1e</td>\n",
       "      <td>27.0</td>\n",
       "      <td>0</td>\n",
       "      <td>0.0</td>\n",
       "      <td>0.0</td>\n",
       "      <td>0.0</td>\n",
       "      <td>0.0</td>\n",
       "      <td>0.0</td>\n",
       "      <td>Nelly Carsoning</td>\n",
       "    </tr>\n",
       "    <tr>\n",
       "      <th>1</th>\n",
       "      <td>0018_01</td>\n",
       "      <td>Earth</td>\n",
       "      <td>0</td>\n",
       "      <td>F/4/S</td>\n",
       "      <td>TRAPPIST-1e</td>\n",
       "      <td>19.0</td>\n",
       "      <td>0</td>\n",
       "      <td>0.0</td>\n",
       "      <td>9.0</td>\n",
       "      <td>0.0</td>\n",
       "      <td>2823.0</td>\n",
       "      <td>0.0</td>\n",
       "      <td>Lerome Peckers</td>\n",
       "    </tr>\n",
       "    <tr>\n",
       "      <th>2</th>\n",
       "      <td>0019_01</td>\n",
       "      <td>Europa</td>\n",
       "      <td>1</td>\n",
       "      <td>C/0/S</td>\n",
       "      <td>55 Cancri e</td>\n",
       "      <td>31.0</td>\n",
       "      <td>0</td>\n",
       "      <td>0.0</td>\n",
       "      <td>0.0</td>\n",
       "      <td>0.0</td>\n",
       "      <td>0.0</td>\n",
       "      <td>0.0</td>\n",
       "      <td>Sabih Unhearfus</td>\n",
       "    </tr>\n",
       "  </tbody>\n",
       "</table>\n",
       "</div>"
      ],
      "text/plain": [
       "  PassengerId HomePlanet  CryoSleep  Cabin  Destination   Age  VIP  \\\n",
       "0     0013_01      Earth          1  G/3/S  TRAPPIST-1e  27.0    0   \n",
       "1     0018_01      Earth          0  F/4/S  TRAPPIST-1e  19.0    0   \n",
       "2     0019_01     Europa          1  C/0/S  55 Cancri e  31.0    0   \n",
       "\n",
       "   RoomService  FoodCourt  ShoppingMall     Spa  VRDeck             Name  \n",
       "0          0.0        0.0           0.0     0.0     0.0  Nelly Carsoning  \n",
       "1          0.0        9.0           0.0  2823.0     0.0   Lerome Peckers  \n",
       "2          0.0        0.0           0.0     0.0     0.0  Sabih Unhearfus  "
      ]
     },
     "execution_count": 9,
     "metadata": {},
     "output_type": "execute_result"
    }
   ],
   "source": [
    "test.head(3)"
   ]
  },
  {
   "cell_type": "code",
   "execution_count": 10,
   "id": "f8b138f4",
   "metadata": {
    "execution": {
     "iopub.execute_input": "2024-03-05T12:45:58.561585Z",
     "iopub.status.busy": "2024-03-05T12:45:58.560871Z",
     "iopub.status.idle": "2024-03-05T12:45:58.570954Z",
     "shell.execute_reply": "2024-03-05T12:45:58.569696Z"
    },
    "papermill": {
     "duration": 0.030838,
     "end_time": "2024-03-05T12:45:58.573801",
     "exception": false,
     "start_time": "2024-03-05T12:45:58.542963",
     "status": "completed"
    },
    "tags": []
   },
   "outputs": [],
   "source": [
    "# Similary on Transported\n",
    "train.Transported=train.Transported.apply(lambda x: 1 if x == True else 0)"
   ]
  },
  {
   "cell_type": "code",
   "execution_count": 11,
   "id": "06335ff7",
   "metadata": {
    "execution": {
     "iopub.execute_input": "2024-03-05T12:45:58.609416Z",
     "iopub.status.busy": "2024-03-05T12:45:58.608437Z",
     "iopub.status.idle": "2024-03-05T12:45:58.634744Z",
     "shell.execute_reply": "2024-03-05T12:45:58.633813Z"
    },
    "papermill": {
     "duration": 0.047092,
     "end_time": "2024-03-05T12:45:58.636880",
     "exception": false,
     "start_time": "2024-03-05T12:45:58.589788",
     "status": "completed"
    },
    "tags": []
   },
   "outputs": [
    {
     "data": {
      "text/html": [
       "<div>\n",
       "<style scoped>\n",
       "    .dataframe tbody tr th:only-of-type {\n",
       "        vertical-align: middle;\n",
       "    }\n",
       "\n",
       "    .dataframe tbody tr th {\n",
       "        vertical-align: top;\n",
       "    }\n",
       "\n",
       "    .dataframe thead th {\n",
       "        text-align: right;\n",
       "    }\n",
       "</style>\n",
       "<table border=\"1\" class=\"dataframe\">\n",
       "  <thead>\n",
       "    <tr style=\"text-align: right;\">\n",
       "      <th></th>\n",
       "      <th>HomePlanet</th>\n",
       "      <th>CryoSleep</th>\n",
       "      <th>Cabin</th>\n",
       "      <th>Destination</th>\n",
       "      <th>Age</th>\n",
       "      <th>VIP</th>\n",
       "      <th>RoomService</th>\n",
       "      <th>FoodCourt</th>\n",
       "      <th>ShoppingMall</th>\n",
       "      <th>Spa</th>\n",
       "      <th>VRDeck</th>\n",
       "      <th>Transported</th>\n",
       "    </tr>\n",
       "  </thead>\n",
       "  <tbody>\n",
       "    <tr>\n",
       "      <th>0</th>\n",
       "      <td>Europa</td>\n",
       "      <td>0</td>\n",
       "      <td>B/0/P</td>\n",
       "      <td>TRAPPIST-1e</td>\n",
       "      <td>39.0</td>\n",
       "      <td>0</td>\n",
       "      <td>0.0</td>\n",
       "      <td>0.0</td>\n",
       "      <td>0.0</td>\n",
       "      <td>0.0</td>\n",
       "      <td>0.0</td>\n",
       "      <td>0</td>\n",
       "    </tr>\n",
       "    <tr>\n",
       "      <th>1</th>\n",
       "      <td>Earth</td>\n",
       "      <td>0</td>\n",
       "      <td>F/0/S</td>\n",
       "      <td>TRAPPIST-1e</td>\n",
       "      <td>24.0</td>\n",
       "      <td>0</td>\n",
       "      <td>109.0</td>\n",
       "      <td>9.0</td>\n",
       "      <td>25.0</td>\n",
       "      <td>549.0</td>\n",
       "      <td>44.0</td>\n",
       "      <td>1</td>\n",
       "    </tr>\n",
       "    <tr>\n",
       "      <th>2</th>\n",
       "      <td>Europa</td>\n",
       "      <td>0</td>\n",
       "      <td>A/0/S</td>\n",
       "      <td>TRAPPIST-1e</td>\n",
       "      <td>58.0</td>\n",
       "      <td>1</td>\n",
       "      <td>43.0</td>\n",
       "      <td>3576.0</td>\n",
       "      <td>0.0</td>\n",
       "      <td>6715.0</td>\n",
       "      <td>49.0</td>\n",
       "      <td>0</td>\n",
       "    </tr>\n",
       "  </tbody>\n",
       "</table>\n",
       "</div>"
      ],
      "text/plain": [
       "  HomePlanet  CryoSleep  Cabin  Destination   Age  VIP  RoomService  \\\n",
       "0     Europa          0  B/0/P  TRAPPIST-1e  39.0    0          0.0   \n",
       "1      Earth          0  F/0/S  TRAPPIST-1e  24.0    0        109.0   \n",
       "2     Europa          0  A/0/S  TRAPPIST-1e  58.0    1         43.0   \n",
       "\n",
       "   FoodCourt  ShoppingMall     Spa  VRDeck  Transported  \n",
       "0        0.0           0.0     0.0     0.0            0  \n",
       "1        9.0          25.0   549.0    44.0            1  \n",
       "2     3576.0           0.0  6715.0    49.0            0  "
      ]
     },
     "execution_count": 11,
     "metadata": {},
     "output_type": "execute_result"
    }
   ],
   "source": [
    "# Droping unnecessary columns i.e PassengerId and Name\n",
    "df = train.drop([\"PassengerId\",\"Name\"],axis=\"columns\")\n",
    "test_df = test.drop([\"PassengerId\",\"Name\"],axis=\"columns\")\n",
    "df.head(3)"
   ]
  },
  {
   "cell_type": "code",
   "execution_count": 12,
   "id": "3c928ee8",
   "metadata": {
    "execution": {
     "iopub.execute_input": "2024-03-05T12:45:58.672254Z",
     "iopub.status.busy": "2024-03-05T12:45:58.670910Z",
     "iopub.status.idle": "2024-03-05T12:45:58.690008Z",
     "shell.execute_reply": "2024-03-05T12:45:58.688376Z"
    },
    "papermill": {
     "duration": 0.039098,
     "end_time": "2024-03-05T12:45:58.692848",
     "exception": false,
     "start_time": "2024-03-05T12:45:58.653750",
     "status": "completed"
    },
    "tags": []
   },
   "outputs": [
    {
     "name": "stderr",
     "output_type": "stream",
     "text": [
      "/tmp/ipykernel_18/1125110092.py:7: FutureWarning: A value is trying to be set on a copy of a DataFrame or Series through chained assignment using an inplace method.\n",
      "The behavior will change in pandas 3.0. This inplace method will never work because the intermediate object on which we are setting values always behaves as a copy.\n",
      "\n",
      "For example, when doing 'df[col].method(value, inplace=True)', try using 'df.method({col: value}, inplace=True)' or df[col] = df[col].method(value) instead, to perform the operation inplace on the original object.\n",
      "\n",
      "\n",
      "  df[i].fillna(fill_train,inplace=True)\n",
      "/tmp/ipykernel_18/1125110092.py:8: FutureWarning: A value is trying to be set on a copy of a DataFrame or Series through chained assignment using an inplace method.\n",
      "The behavior will change in pandas 3.0. This inplace method will never work because the intermediate object on which we are setting values always behaves as a copy.\n",
      "\n",
      "For example, when doing 'df[col].method(value, inplace=True)', try using 'df.method({col: value}, inplace=True)' or df[col] = df[col].method(value) instead, to perform the operation inplace on the original object.\n",
      "\n",
      "\n",
      "  test_df[i].fillna(fill_test,inplace=True)\n"
     ]
    }
   ],
   "source": [
    "# Filling null values\n",
    "col = [\"HomePlanet\",\"Destination\"]\n",
    "\n",
    "for i in col:\n",
    "    fill_train = df[i].mode().iloc[0]\n",
    "    fill_test = test_df[i].mode().iloc[0]\n",
    "    df[i].fillna(fill_train,inplace=True)\n",
    "    test_df[i].fillna(fill_test,inplace=True)\n",
    "    "
   ]
  },
  {
   "cell_type": "code",
   "execution_count": 13,
   "id": "90acc0f4",
   "metadata": {
    "execution": {
     "iopub.execute_input": "2024-03-05T12:45:58.727721Z",
     "iopub.status.busy": "2024-03-05T12:45:58.726972Z",
     "iopub.status.idle": "2024-03-05T12:45:59.223401Z",
     "shell.execute_reply": "2024-03-05T12:45:59.222072Z"
    },
    "papermill": {
     "duration": 0.51661,
     "end_time": "2024-03-05T12:45:59.225967",
     "exception": false,
     "start_time": "2024-03-05T12:45:58.709357",
     "status": "completed"
    },
    "tags": []
   },
   "outputs": [
    {
     "data": {
      "text/plain": [
       "<Axes: ylabel='Frequency'>"
      ]
     },
     "execution_count": 13,
     "metadata": {},
     "output_type": "execute_result"
    },
    {
     "data": {
      "image/png": "[encoded data removed]",
      "text/plain": [
       "<Figure size 640x480 with 1 Axes>"
      ]
     },
     "metadata": {},
     "output_type": "display_data"
    }
   ],
   "source": [
    "# Frequency of different age groups\n",
    "df.Age.plot(kind=\"hist\",bins=10)"
   ]
  },
  {
   "cell_type": "code",
   "execution_count": 14,
   "id": "8f86c093",
   "metadata": {
    "execution": {
     "iopub.execute_input": "2024-03-05T12:45:59.260794Z",
     "iopub.status.busy": "2024-03-05T12:45:59.259979Z",
     "iopub.status.idle": "2024-03-05T12:45:59.278714Z",
     "shell.execute_reply": "2024-03-05T12:45:59.277403Z"
    },
    "papermill": {
     "duration": 0.039096,
     "end_time": "2024-03-05T12:45:59.281427",
     "exception": false,
     "start_time": "2024-03-05T12:45:59.242331",
     "status": "completed"
    },
    "tags": []
   },
   "outputs": [
    {
     "name": "stderr",
     "output_type": "stream",
     "text": [
      "/tmp/ipykernel_18/110634020.py:5: FutureWarning: A value is trying to be set on a copy of a DataFrame or Series through chained assignment using an inplace method.\n",
      "The behavior will change in pandas 3.0. This inplace method will never work because the intermediate object on which we are setting values always behaves as a copy.\n",
      "\n",
      "For example, when doing 'df[col].method(value, inplace=True)', try using 'df.method({col: value}, inplace=True)' or df[col] = df[col].method(value) instead, to perform the operation inplace on the original object.\n",
      "\n",
      "\n",
      "  df[i].fillna(fill_train,inplace=True)\n",
      "/tmp/ipykernel_18/110634020.py:6: FutureWarning: A value is trying to be set on a copy of a DataFrame or Series through chained assignment using an inplace method.\n",
      "The behavior will change in pandas 3.0. This inplace method will never work because the intermediate object on which we are setting values always behaves as a copy.\n",
      "\n",
      "For example, when doing 'df[col].method(value, inplace=True)', try using 'df.method({col: value}, inplace=True)' or df[col] = df[col].method(value) instead, to perform the operation inplace on the original object.\n",
      "\n",
      "\n",
      "  test_df[i].fillna(fill_test,inplace=True)\n",
      "/tmp/ipykernel_18/110634020.py:5: FutureWarning: A value is trying to be set on a copy of a DataFrame or Series through chained assignment using an inplace method.\n",
      "The behavior will change in pandas 3.0. This inplace method will never work because the intermediate object on which we are setting values always behaves as a copy.\n",
      "\n",
      "For example, when doing 'df[col].method(value, inplace=True)', try using 'df.method({col: value}, inplace=True)' or df[col] = df[col].method(value) instead, to perform the operation inplace on the original object.\n",
      "\n",
      "\n",
      "  df[i].fillna(fill_train,inplace=True)\n",
      "/tmp/ipykernel_18/110634020.py:6: FutureWarning: A value is trying to be set on a copy of a DataFrame or Series through chained assignment using an inplace method.\n",
      "The behavior will change in pandas 3.0. This inplace method will never work because the intermediate object on which we are setting values always behaves as a copy.\n",
      "\n",
      "For example, when doing 'df[col].method(value, inplace=True)', try using 'df.method({col: value}, inplace=True)' or df[col] = df[col].method(value) instead, to perform the operation inplace on the original object.\n",
      "\n",
      "\n",
      "  test_df[i].fillna(fill_test,inplace=True)\n",
      "/tmp/ipykernel_18/110634020.py:5: FutureWarning: A value is trying to be set on a copy of a DataFrame or Series through chained assignment using an inplace method.\n",
      "The behavior will change in pandas 3.0. This inplace method will never work because the intermediate object on which we are setting values always behaves as a copy.\n",
      "\n",
      "For example, when doing 'df[col].method(value, inplace=True)', try using 'df.method({col: value}, inplace=True)' or df[col] = df[col].method(value) instead, to perform the operation inplace on the original object.\n",
      "\n",
      "\n",
      "  df[i].fillna(fill_train,inplace=True)\n",
      "/tmp/ipykernel_18/110634020.py:6: FutureWarning: A value is trying to be set on a copy of a DataFrame or Series through chained assignment using an inplace method.\n",
      "The behavior will change in pandas 3.0. This inplace method will never work because the intermediate object on which we are setting values always behaves as a copy.\n",
      "\n",
      "For example, when doing 'df[col].method(value, inplace=True)', try using 'df.method({col: value}, inplace=True)' or df[col] = df[col].method(value) instead, to perform the operation inplace on the original object.\n",
      "\n",
      "\n",
      "  test_df[i].fillna(fill_test,inplace=True)\n",
      "/tmp/ipykernel_18/110634020.py:5: FutureWarning: A value is trying to be set on a copy of a DataFrame or Series through chained assignment using an inplace method.\n",
      "The behavior will change in pandas 3.0. This inplace method will never work because the intermediate object on which we are setting values always behaves as a copy.\n",
      "\n",
      "For example, when doing 'df[col].method(value, inplace=True)', try using 'df.method({col: value}, inplace=True)' or df[col] = df[col].method(value) instead, to perform the operation inplace on the original object.\n",
      "\n",
      "\n",
      "  df[i].fillna(fill_train,inplace=True)\n",
      "/tmp/ipykernel_18/110634020.py:6: FutureWarning: A value is trying to be set on a copy of a DataFrame or Series through chained assignment using an inplace method.\n",
      "The behavior will change in pandas 3.0. This inplace method will never work because the intermediate object on which we are setting values always behaves as a copy.\n",
      "\n",
      "For example, when doing 'df[col].method(value, inplace=True)', try using 'df.method({col: value}, inplace=True)' or df[col] = df[col].method(value) instead, to perform the operation inplace on the original object.\n",
      "\n",
      "\n",
      "  test_df[i].fillna(fill_test,inplace=True)\n",
      "/tmp/ipykernel_18/110634020.py:5: FutureWarning: A value is trying to be set on a copy of a DataFrame or Series through chained assignment using an inplace method.\n",
      "The behavior will change in pandas 3.0. This inplace method will never work because the intermediate object on which we are setting values always behaves as a copy.\n",
      "\n",
      "For example, when doing 'df[col].method(value, inplace=True)', try using 'df.method({col: value}, inplace=True)' or df[col] = df[col].method(value) instead, to perform the operation inplace on the original object.\n",
      "\n",
      "\n",
      "  df[i].fillna(fill_train,inplace=True)\n",
      "/tmp/ipykernel_18/110634020.py:6: FutureWarning: A value is trying to be set on a copy of a DataFrame or Series through chained assignment using an inplace method.\n",
      "The behavior will change in pandas 3.0. This inplace method will never work because the intermediate object on which we are setting values always behaves as a copy.\n",
      "\n",
      "For example, when doing 'df[col].method(value, inplace=True)', try using 'df.method({col: value}, inplace=True)' or df[col] = df[col].method(value) instead, to perform the operation inplace on the original object.\n",
      "\n",
      "\n",
      "  test_df[i].fillna(fill_test,inplace=True)\n",
      "/tmp/ipykernel_18/110634020.py:6: FutureWarning: A value is trying to be set on a copy of a DataFrame or Series through chained assignment using an inplace method.\n",
      "The behavior will change in pandas 3.0. This inplace method will never work because the intermediate object on which we are setting values always behaves as a copy.\n",
      "\n",
      "For example, when doing 'df[col].method(value, inplace=True)', try using 'df.method({col: value}, inplace=True)' or df[col] = df[col].method(value) instead, to perform the operation inplace on the original object.\n",
      "\n",
      "\n",
      "  test_df[i].fillna(fill_test,inplace=True)\n"
     ]
    }
   ],
   "source": [
    "\n",
    "cols=['RoomService','FoodCourt','ShoppingMall','Spa','VRDeck','Age']\n",
    "for i in cols:\n",
    "    fill_train=df[i].median()\n",
    "    fill_test=df[i].median()\n",
    "    df[i].fillna(fill_train,inplace=True)\n",
    "    test_df[i].fillna(fill_test,inplace=True)"
   ]
  },
  {
   "cell_type": "code",
   "execution_count": 15,
   "id": "de79f490",
   "metadata": {
    "execution": {
     "iopub.execute_input": "2024-03-05T12:45:59.316982Z",
     "iopub.status.busy": "2024-03-05T12:45:59.316543Z",
     "iopub.status.idle": "2024-03-05T12:45:59.350466Z",
     "shell.execute_reply": "2024-03-05T12:45:59.349045Z"
    },
    "papermill": {
     "duration": 0.055167,
     "end_time": "2024-03-05T12:45:59.353475",
     "exception": false,
     "start_time": "2024-03-05T12:45:59.298308",
     "status": "completed"
    },
    "tags": []
   },
   "outputs": [],
   "source": [
    "# Extracting extra data from Cabin column\n",
    "df[['Deck', 'Num', 'Side']] = df['Cabin'].str.split('/', expand=True)\n",
    "test_df[['Deck', 'Num', 'Side']] = test_df['Cabin'].str.split('/', expand=True)\n"
   ]
  },
  {
   "cell_type": "code",
   "execution_count": 16,
   "id": "5ed8206f",
   "metadata": {
    "execution": {
     "iopub.execute_input": "2024-03-05T12:45:59.389616Z",
     "iopub.status.busy": "2024-03-05T12:45:59.389076Z",
     "iopub.status.idle": "2024-03-05T12:45:59.400156Z",
     "shell.execute_reply": "2024-03-05T12:45:59.398819Z"
    },
    "papermill": {
     "duration": 0.03253,
     "end_time": "2024-03-05T12:45:59.402785",
     "exception": false,
     "start_time": "2024-03-05T12:45:59.370255",
     "status": "completed"
    },
    "tags": []
   },
   "outputs": [],
   "source": [
    "# Droping Cabin column as we extracted extra data from it, it is no longer useful\n",
    "df.drop(\"Cabin\",inplace=True,axis=\"columns\")\n",
    "test_df.drop(\"Cabin\",inplace=True,axis=\"columns\")"
   ]
  },
  {
   "cell_type": "code",
   "execution_count": 17,
   "id": "80193db2",
   "metadata": {
    "execution": {
     "iopub.execute_input": "2024-03-05T12:45:59.438827Z",
     "iopub.status.busy": "2024-03-05T12:45:59.438417Z",
     "iopub.status.idle": "2024-03-05T12:45:59.451798Z",
     "shell.execute_reply": "2024-03-05T12:45:59.450500Z"
    },
    "papermill": {
     "duration": 0.035069,
     "end_time": "2024-03-05T12:45:59.454130",
     "exception": false,
     "start_time": "2024-03-05T12:45:59.419061",
     "status": "completed"
    },
    "tags": []
   },
   "outputs": [
    {
     "data": {
      "text/plain": [
       "Deck\n",
       "F    2794\n",
       "G    2559\n",
       "E     876\n",
       "B     779\n",
       "C     747\n",
       "D     478\n",
       "A     256\n",
       "T       5\n",
       "Name: count, dtype: int64"
      ]
     },
     "execution_count": 17,
     "metadata": {},
     "output_type": "execute_result"
    }
   ],
   "source": [
    "df.Deck.value_counts()"
   ]
  },
  {
   "cell_type": "code",
   "execution_count": 18,
   "id": "3640afa2",
   "metadata": {
    "execution": {
     "iopub.execute_input": "2024-03-05T12:45:59.489951Z",
     "iopub.status.busy": "2024-03-05T12:45:59.489501Z",
     "iopub.status.idle": "2024-03-05T12:45:59.500432Z",
     "shell.execute_reply": "2024-03-05T12:45:59.499136Z"
    },
    "papermill": {
     "duration": 0.031361,
     "end_time": "2024-03-05T12:45:59.502824",
     "exception": false,
     "start_time": "2024-03-05T12:45:59.471463",
     "status": "completed"
    },
    "tags": []
   },
   "outputs": [
    {
     "data": {
      "text/plain": [
       "Side\n",
       "S    4288\n",
       "P    4206\n",
       "Name: count, dtype: int64"
      ]
     },
     "execution_count": 18,
     "metadata": {},
     "output_type": "execute_result"
    }
   ],
   "source": [
    "df.Side.value_counts()"
   ]
  },
  {
   "cell_type": "code",
   "execution_count": 19,
   "id": "3450133c",
   "metadata": {
    "execution": {
     "iopub.execute_input": "2024-03-05T12:45:59.617374Z",
     "iopub.status.busy": "2024-03-05T12:45:59.616908Z",
     "iopub.status.idle": "2024-03-05T12:45:59.627576Z",
     "shell.execute_reply": "2024-03-05T12:45:59.626544Z"
    },
    "papermill": {
     "duration": 0.110332,
     "end_time": "2024-03-05T12:45:59.629935",
     "exception": false,
     "start_time": "2024-03-05T12:45:59.519603",
     "status": "completed"
    },
    "tags": []
   },
   "outputs": [
    {
     "name": "stderr",
     "output_type": "stream",
     "text": [
      "/tmp/ipykernel_18/3633420786.py:3: FutureWarning: A value is trying to be set on a copy of a DataFrame or Series through chained assignment using an inplace method.\n",
      "The behavior will change in pandas 3.0. This inplace method will never work because the intermediate object on which we are setting values always behaves as a copy.\n",
      "\n",
      "For example, when doing 'df[col].method(value, inplace=True)', try using 'df.method({col: value}, inplace=True)' or df[col] = df[col].method(value) instead, to perform the operation inplace on the original object.\n",
      "\n",
      "\n",
      "  df[i].fillna(\"N\",inplace=True)\n",
      "/tmp/ipykernel_18/3633420786.py:4: FutureWarning: A value is trying to be set on a copy of a DataFrame or Series through chained assignment using an inplace method.\n",
      "The behavior will change in pandas 3.0. This inplace method will never work because the intermediate object on which we are setting values always behaves as a copy.\n",
      "\n",
      "For example, when doing 'df[col].method(value, inplace=True)', try using 'df.method({col: value}, inplace=True)' or df[col] = df[col].method(value) instead, to perform the operation inplace on the original object.\n",
      "\n",
      "\n",
      "  test_df[i].fillna(\"N\",inplace=True)\n"
     ]
    }
   ],
   "source": [
    "cols=[\"Deck\",\"Side\"]\n",
    "for i in cols:\n",
    "    df[i].fillna(\"N\",inplace=True)\n",
    "    test_df[i].fillna(\"N\",inplace=True)"
   ]
  },
  {
   "cell_type": "code",
   "execution_count": 20,
   "id": "f6fbc97e",
   "metadata": {
    "execution": {
     "iopub.execute_input": "2024-03-05T12:45:59.665447Z",
     "iopub.status.busy": "2024-03-05T12:45:59.665011Z",
     "iopub.status.idle": "2024-03-05T12:45:59.878890Z",
     "shell.execute_reply": "2024-03-05T12:45:59.877759Z"
    },
    "papermill": {
     "duration": 0.234457,
     "end_time": "2024-03-05T12:45:59.881370",
     "exception": false,
     "start_time": "2024-03-05T12:45:59.646913",
     "status": "completed"
    },
    "tags": []
   },
   "outputs": [],
   "source": [
    "# Converting Categorical variables to numerical\n",
    "from sklearn.preprocessing import LabelEncoder\n",
    "\n",
    "\n",
    "label_encoder = LabelEncoder()\n",
    "cols= ['HomePlanet','Destination','Deck','Side']\n",
    "for i in cols:\n",
    "    df[i] = label_encoder.fit_transform(df[i])\n",
    "    test_df[i] = label_encoder.transform(test_df[i])\n",
    "   "
   ]
  },
  {
   "cell_type": "code",
   "execution_count": 21,
   "id": "e3ec0c36",
   "metadata": {
    "execution": {
     "iopub.execute_input": "2024-03-05T12:45:59.917352Z",
     "iopub.status.busy": "2024-03-05T12:45:59.916161Z",
     "iopub.status.idle": "2024-03-05T12:45:59.934569Z",
     "shell.execute_reply": "2024-03-05T12:45:59.933243Z"
    },
    "papermill": {
     "duration": 0.038713,
     "end_time": "2024-03-05T12:45:59.937060",
     "exception": false,
     "start_time": "2024-03-05T12:45:59.898347",
     "status": "completed"
    },
    "tags": []
   },
   "outputs": [
    {
     "data": {
      "text/html": [
       "<div>\n",
       "<style scoped>\n",
       "    .dataframe tbody tr th:only-of-type {\n",
       "        vertical-align: middle;\n",
       "    }\n",
       "\n",
       "    .dataframe tbody tr th {\n",
       "        vertical-align: top;\n",
       "    }\n",
       "\n",
       "    .dataframe thead th {\n",
       "        text-align: right;\n",
       "    }\n",
       "</style>\n",
       "<table border=\"1\" class=\"dataframe\">\n",
       "  <thead>\n",
       "    <tr style=\"text-align: right;\">\n",
       "      <th></th>\n",
       "      <th>HomePlanet</th>\n",
       "      <th>CryoSleep</th>\n",
       "      <th>Destination</th>\n",
       "      <th>Age</th>\n",
       "      <th>VIP</th>\n",
       "      <th>RoomService</th>\n",
       "      <th>FoodCourt</th>\n",
       "      <th>ShoppingMall</th>\n",
       "      <th>Spa</th>\n",
       "      <th>VRDeck</th>\n",
       "      <th>Transported</th>\n",
       "      <th>Deck</th>\n",
       "      <th>Num</th>\n",
       "      <th>Side</th>\n",
       "    </tr>\n",
       "  </thead>\n",
       "  <tbody>\n",
       "    <tr>\n",
       "      <th>0</th>\n",
       "      <td>1</td>\n",
       "      <td>0</td>\n",
       "      <td>2</td>\n",
       "      <td>39.0</td>\n",
       "      <td>0</td>\n",
       "      <td>0.0</td>\n",
       "      <td>0.0</td>\n",
       "      <td>0.0</td>\n",
       "      <td>0.0</td>\n",
       "      <td>0.0</td>\n",
       "      <td>0</td>\n",
       "      <td>1</td>\n",
       "      <td>0</td>\n",
       "      <td>1</td>\n",
       "    </tr>\n",
       "    <tr>\n",
       "      <th>1</th>\n",
       "      <td>0</td>\n",
       "      <td>0</td>\n",
       "      <td>2</td>\n",
       "      <td>24.0</td>\n",
       "      <td>0</td>\n",
       "      <td>109.0</td>\n",
       "      <td>9.0</td>\n",
       "      <td>25.0</td>\n",
       "      <td>549.0</td>\n",
       "      <td>44.0</td>\n",
       "      <td>1</td>\n",
       "      <td>5</td>\n",
       "      <td>0</td>\n",
       "      <td>2</td>\n",
       "    </tr>\n",
       "    <tr>\n",
       "      <th>2</th>\n",
       "      <td>1</td>\n",
       "      <td>0</td>\n",
       "      <td>2</td>\n",
       "      <td>58.0</td>\n",
       "      <td>1</td>\n",
       "      <td>43.0</td>\n",
       "      <td>3576.0</td>\n",
       "      <td>0.0</td>\n",
       "      <td>6715.0</td>\n",
       "      <td>49.0</td>\n",
       "      <td>0</td>\n",
       "      <td>0</td>\n",
       "      <td>0</td>\n",
       "      <td>2</td>\n",
       "    </tr>\n",
       "  </tbody>\n",
       "</table>\n",
       "</div>"
      ],
      "text/plain": [
       "   HomePlanet  CryoSleep  Destination   Age  VIP  RoomService  FoodCourt  \\\n",
       "0           1          0            2  39.0    0          0.0        0.0   \n",
       "1           0          0            2  24.0    0        109.0        9.0   \n",
       "2           1          0            2  58.0    1         43.0     3576.0   \n",
       "\n",
       "   ShoppingMall     Spa  VRDeck  Transported  Deck Num  Side  \n",
       "0           0.0     0.0     0.0            0     1   0     1  \n",
       "1          25.0   549.0    44.0            1     5   0     2  \n",
       "2           0.0  6715.0    49.0            0     0   0     2  "
      ]
     },
     "execution_count": 21,
     "metadata": {},
     "output_type": "execute_result"
    }
   ],
   "source": [
    "df.head(3)"
   ]
  },
  {
   "cell_type": "code",
   "execution_count": 22,
   "id": "f4c24efa",
   "metadata": {
    "execution": {
     "iopub.execute_input": "2024-03-05T12:45:59.973706Z",
     "iopub.status.busy": "2024-03-05T12:45:59.973200Z",
     "iopub.status.idle": "2024-03-05T12:45:59.990944Z",
     "shell.execute_reply": "2024-03-05T12:45:59.990030Z"
    },
    "papermill": {
     "duration": 0.038177,
     "end_time": "2024-03-05T12:45:59.992965",
     "exception": false,
     "start_time": "2024-03-05T12:45:59.954788",
     "status": "completed"
    },
    "tags": []
   },
   "outputs": [
    {
     "data": {
      "text/html": [
       "<div>\n",
       "<style scoped>\n",
       "    .dataframe tbody tr th:only-of-type {\n",
       "        vertical-align: middle;\n",
       "    }\n",
       "\n",
       "    .dataframe tbody tr th {\n",
       "        vertical-align: top;\n",
       "    }\n",
       "\n",
       "    .dataframe thead th {\n",
       "        text-align: right;\n",
       "    }\n",
       "</style>\n",
       "<table border=\"1\" class=\"dataframe\">\n",
       "  <thead>\n",
       "    <tr style=\"text-align: right;\">\n",
       "      <th></th>\n",
       "      <th>HomePlanet</th>\n",
       "      <th>CryoSleep</th>\n",
       "      <th>Destination</th>\n",
       "      <th>Age</th>\n",
       "      <th>VIP</th>\n",
       "      <th>RoomService</th>\n",
       "      <th>FoodCourt</th>\n",
       "      <th>ShoppingMall</th>\n",
       "      <th>Spa</th>\n",
       "      <th>VRDeck</th>\n",
       "      <th>Deck</th>\n",
       "      <th>Num</th>\n",
       "      <th>Side</th>\n",
       "    </tr>\n",
       "  </thead>\n",
       "  <tbody>\n",
       "    <tr>\n",
       "      <th>0</th>\n",
       "      <td>0</td>\n",
       "      <td>1</td>\n",
       "      <td>2</td>\n",
       "      <td>27.0</td>\n",
       "      <td>0</td>\n",
       "      <td>0.0</td>\n",
       "      <td>0.0</td>\n",
       "      <td>0.0</td>\n",
       "      <td>0.0</td>\n",
       "      <td>0.0</td>\n",
       "      <td>6</td>\n",
       "      <td>3</td>\n",
       "      <td>2</td>\n",
       "    </tr>\n",
       "    <tr>\n",
       "      <th>1</th>\n",
       "      <td>0</td>\n",
       "      <td>0</td>\n",
       "      <td>2</td>\n",
       "      <td>19.0</td>\n",
       "      <td>0</td>\n",
       "      <td>0.0</td>\n",
       "      <td>9.0</td>\n",
       "      <td>0.0</td>\n",
       "      <td>2823.0</td>\n",
       "      <td>0.0</td>\n",
       "      <td>5</td>\n",
       "      <td>4</td>\n",
       "      <td>2</td>\n",
       "    </tr>\n",
       "    <tr>\n",
       "      <th>2</th>\n",
       "      <td>1</td>\n",
       "      <td>1</td>\n",
       "      <td>0</td>\n",
       "      <td>31.0</td>\n",
       "      <td>0</td>\n",
       "      <td>0.0</td>\n",
       "      <td>0.0</td>\n",
       "      <td>0.0</td>\n",
       "      <td>0.0</td>\n",
       "      <td>0.0</td>\n",
       "      <td>2</td>\n",
       "      <td>0</td>\n",
       "      <td>2</td>\n",
       "    </tr>\n",
       "  </tbody>\n",
       "</table>\n",
       "</div>"
      ],
      "text/plain": [
       "   HomePlanet  CryoSleep  Destination   Age  VIP  RoomService  FoodCourt  \\\n",
       "0           0          1            2  27.0    0          0.0        0.0   \n",
       "1           0          0            2  19.0    0          0.0        9.0   \n",
       "2           1          1            0  31.0    0          0.0        0.0   \n",
       "\n",
       "   ShoppingMall     Spa  VRDeck  Deck Num  Side  \n",
       "0           0.0     0.0     0.0     6   3     2  \n",
       "1           0.0  2823.0     0.0     5   4     2  \n",
       "2           0.0     0.0     0.0     2   0     2  "
      ]
     },
     "execution_count": 22,
     "metadata": {},
     "output_type": "execute_result"
    }
   ],
   "source": [
    "test_df.head(3)"
   ]
  },
  {
   "cell_type": "code",
   "execution_count": 23,
   "id": "19006e94",
   "metadata": {
    "execution": {
     "iopub.execute_input": "2024-03-05T12:46:00.030211Z",
     "iopub.status.busy": "2024-03-05T12:46:00.029752Z",
     "iopub.status.idle": "2024-03-05T12:46:00.039230Z",
     "shell.execute_reply": "2024-03-05T12:46:00.037740Z"
    },
    "papermill": {
     "duration": 0.030845,
     "end_time": "2024-03-05T12:46:00.041343",
     "exception": false,
     "start_time": "2024-03-05T12:46:00.010498",
     "status": "completed"
    },
    "tags": []
   },
   "outputs": [
    {
     "name": "stderr",
     "output_type": "stream",
     "text": [
      "/tmp/ipykernel_18/919999527.py:1: FutureWarning: A value is trying to be set on a copy of a DataFrame or Series through chained assignment using an inplace method.\n",
      "The behavior will change in pandas 3.0. This inplace method will never work because the intermediate object on which we are setting values always behaves as a copy.\n",
      "\n",
      "For example, when doing 'df[col].method(value, inplace=True)', try using 'df.method({col: value}, inplace=True)' or df[col] = df[col].method(value) instead, to perform the operation inplace on the original object.\n",
      "\n",
      "\n",
      "  df['Num'].fillna(str(82),inplace=True)\n",
      "/tmp/ipykernel_18/919999527.py:2: FutureWarning: A value is trying to be set on a copy of a DataFrame or Series through chained assignment using an inplace method.\n",
      "The behavior will change in pandas 3.0. This inplace method will never work because the intermediate object on which we are setting values always behaves as a copy.\n",
      "\n",
      "For example, when doing 'df[col].method(value, inplace=True)', try using 'df.method({col: value}, inplace=True)' or df[col] = df[col].method(value) instead, to perform the operation inplace on the original object.\n",
      "\n",
      "\n",
      "  test_df['Num'].fillna(str(4),inplace=True)\n"
     ]
    }
   ],
   "source": [
    "df['Num'].fillna(str(82),inplace=True)\n",
    "test_df['Num'].fillna(str(4),inplace=True)"
   ]
  },
  {
   "cell_type": "code",
   "execution_count": 24,
   "id": "66410e3c",
   "metadata": {
    "execution": {
     "iopub.execute_input": "2024-03-05T12:46:00.078996Z",
     "iopub.status.busy": "2024-03-05T12:46:00.077788Z",
     "iopub.status.idle": "2024-03-05T12:46:00.087002Z",
     "shell.execute_reply": "2024-03-05T12:46:00.085864Z"
    },
    "papermill": {
     "duration": 0.030263,
     "end_time": "2024-03-05T12:46:00.089061",
     "exception": false,
     "start_time": "2024-03-05T12:46:00.058798",
     "status": "completed"
    },
    "tags": []
   },
   "outputs": [
    {
     "data": {
      "text/plain": [
       "HomePlanet        int64\n",
       "CryoSleep         int64\n",
       "Destination       int64\n",
       "Age             float64\n",
       "VIP               int64\n",
       "RoomService     float64\n",
       "FoodCourt       float64\n",
       "ShoppingMall    float64\n",
       "Spa             float64\n",
       "VRDeck          float64\n",
       "Transported       int64\n",
       "Deck              int64\n",
       "Num              object\n",
       "Side              int64\n",
       "dtype: object"
      ]
     },
     "execution_count": 24,
     "metadata": {},
     "output_type": "execute_result"
    }
   ],
   "source": [
    "df.dtypes"
   ]
  },
  {
   "cell_type": "code",
   "execution_count": 25,
   "id": "da42d48f",
   "metadata": {
    "execution": {
     "iopub.execute_input": "2024-03-05T12:46:00.126402Z",
     "iopub.status.busy": "2024-03-05T12:46:00.125839Z",
     "iopub.status.idle": "2024-03-05T12:46:00.140637Z",
     "shell.execute_reply": "2024-03-05T12:46:00.139437Z"
    },
    "papermill": {
     "duration": 0.036124,
     "end_time": "2024-03-05T12:46:00.142816",
     "exception": false,
     "start_time": "2024-03-05T12:46:00.106692",
     "status": "completed"
    },
    "tags": []
   },
   "outputs": [],
   "source": [
    "# Comverting Num column to int data type\n",
    "df[\"Num\"] = df[\"Num\"].apply(lambda x: int(x))\n",
    "test_df[\"Num\"] = test_df[\"Num\"].apply(lambda x: int(x))\n"
   ]
  },
  {
   "cell_type": "code",
   "execution_count": 26,
   "id": "1b6b6090",
   "metadata": {
    "execution": {
     "iopub.execute_input": "2024-03-05T12:46:00.180063Z",
     "iopub.status.busy": "2024-03-05T12:46:00.178990Z",
     "iopub.status.idle": "2024-03-05T12:46:00.222522Z",
     "shell.execute_reply": "2024-03-05T12:46:00.221074Z"
    },
    "papermill": {
     "duration": 0.065135,
     "end_time": "2024-03-05T12:46:00.225351",
     "exception": false,
     "start_time": "2024-03-05T12:46:00.160216",
     "status": "completed"
    },
    "tags": []
   },
   "outputs": [],
   "source": [
    "# Feature Scaling\n",
    "from sklearn.preprocessing import MinMaxScaler\n",
    "\n",
    "scaler = MinMaxScaler()\n",
    "cols = ['Age','RoomService','FoodCourt','ShoppingMall','Spa','VRDeck','Num']\n",
    "for i in cols:\n",
    "    df[i] = scaler.fit_transform(df[[i]])\n",
    "    test_df[i] = scaler.transform(test_df[[i]])\n",
    "    "
   ]
  },
  {
   "cell_type": "code",
   "execution_count": 27,
   "id": "f8d9c0fb",
   "metadata": {
    "execution": {
     "iopub.execute_input": "2024-03-05T12:46:00.263401Z",
     "iopub.status.busy": "2024-03-05T12:46:00.262954Z",
     "iopub.status.idle": "2024-03-05T12:46:00.280131Z",
     "shell.execute_reply": "2024-03-05T12:46:00.279144Z"
    },
    "papermill": {
     "duration": 0.038559,
     "end_time": "2024-03-05T12:46:00.282458",
     "exception": false,
     "start_time": "2024-03-05T12:46:00.243899",
     "status": "completed"
    },
    "tags": []
   },
   "outputs": [
    {
     "data": {
      "text/html": [
       "<div>\n",
       "<style scoped>\n",
       "    .dataframe tbody tr th:only-of-type {\n",
       "        vertical-align: middle;\n",
       "    }\n",
       "\n",
       "    .dataframe tbody tr th {\n",
       "        vertical-align: top;\n",
       "    }\n",
       "\n",
       "    .dataframe thead th {\n",
       "        text-align: right;\n",
       "    }\n",
       "</style>\n",
       "<table border=\"1\" class=\"dataframe\">\n",
       "  <thead>\n",
       "    <tr style=\"text-align: right;\">\n",
       "      <th></th>\n",
       "      <th>HomePlanet</th>\n",
       "      <th>CryoSleep</th>\n",
       "      <th>Destination</th>\n",
       "      <th>Age</th>\n",
       "      <th>VIP</th>\n",
       "      <th>RoomService</th>\n",
       "      <th>FoodCourt</th>\n",
       "      <th>ShoppingMall</th>\n",
       "      <th>Spa</th>\n",
       "      <th>VRDeck</th>\n",
       "      <th>Transported</th>\n",
       "      <th>Deck</th>\n",
       "      <th>Num</th>\n",
       "      <th>Side</th>\n",
       "    </tr>\n",
       "  </thead>\n",
       "  <tbody>\n",
       "    <tr>\n",
       "      <th>0</th>\n",
       "      <td>1</td>\n",
       "      <td>0</td>\n",
       "      <td>2</td>\n",
       "      <td>0.493671</td>\n",
       "      <td>0</td>\n",
       "      <td>0.000000</td>\n",
       "      <td>0.000000</td>\n",
       "      <td>0.000000</td>\n",
       "      <td>0.00000</td>\n",
       "      <td>0.000000</td>\n",
       "      <td>0</td>\n",
       "      <td>1</td>\n",
       "      <td>0.0</td>\n",
       "      <td>1</td>\n",
       "    </tr>\n",
       "    <tr>\n",
       "      <th>1</th>\n",
       "      <td>0</td>\n",
       "      <td>0</td>\n",
       "      <td>2</td>\n",
       "      <td>0.303797</td>\n",
       "      <td>0</td>\n",
       "      <td>0.007608</td>\n",
       "      <td>0.000302</td>\n",
       "      <td>0.001064</td>\n",
       "      <td>0.02450</td>\n",
       "      <td>0.001823</td>\n",
       "      <td>1</td>\n",
       "      <td>5</td>\n",
       "      <td>0.0</td>\n",
       "      <td>2</td>\n",
       "    </tr>\n",
       "    <tr>\n",
       "      <th>2</th>\n",
       "      <td>1</td>\n",
       "      <td>0</td>\n",
       "      <td>2</td>\n",
       "      <td>0.734177</td>\n",
       "      <td>1</td>\n",
       "      <td>0.003001</td>\n",
       "      <td>0.119948</td>\n",
       "      <td>0.000000</td>\n",
       "      <td>0.29967</td>\n",
       "      <td>0.002030</td>\n",
       "      <td>0</td>\n",
       "      <td>0</td>\n",
       "      <td>0.0</td>\n",
       "      <td>2</td>\n",
       "    </tr>\n",
       "  </tbody>\n",
       "</table>\n",
       "</div>"
      ],
      "text/plain": [
       "   HomePlanet  CryoSleep  Destination       Age  VIP  RoomService  FoodCourt  \\\n",
       "0           1          0            2  0.493671    0     0.000000   0.000000   \n",
       "1           0          0            2  0.303797    0     0.007608   0.000302   \n",
       "2           1          0            2  0.734177    1     0.003001   0.119948   \n",
       "\n",
       "   ShoppingMall      Spa    VRDeck  Transported  Deck  Num  Side  \n",
       "0      0.000000  0.00000  0.000000            0     1  0.0     1  \n",
       "1      0.001064  0.02450  0.001823            1     5  0.0     2  \n",
       "2      0.000000  0.29967  0.002030            0     0  0.0     2  "
      ]
     },
     "execution_count": 27,
     "metadata": {},
     "output_type": "execute_result"
    }
   ],
   "source": [
    "df.head(3)"
   ]
  },
  {
   "cell_type": "code",
   "execution_count": 28,
   "id": "2444602d",
   "metadata": {
    "execution": {
     "iopub.execute_input": "2024-03-05T12:46:00.323208Z",
     "iopub.status.busy": "2024-03-05T12:46:00.322655Z",
     "iopub.status.idle": "2024-03-05T12:46:00.342056Z",
     "shell.execute_reply": "2024-03-05T12:46:00.340542Z"
    },
    "papermill": {
     "duration": 0.043409,
     "end_time": "2024-03-05T12:46:00.344614",
     "exception": false,
     "start_time": "2024-03-05T12:46:00.301205",
     "status": "completed"
    },
    "tags": []
   },
   "outputs": [
    {
     "data": {
      "text/html": [
       "<div>\n",
       "<style scoped>\n",
       "    .dataframe tbody tr th:only-of-type {\n",
       "        vertical-align: middle;\n",
       "    }\n",
       "\n",
       "    .dataframe tbody tr th {\n",
       "        vertical-align: top;\n",
       "    }\n",
       "\n",
       "    .dataframe thead th {\n",
       "        text-align: right;\n",
       "    }\n",
       "</style>\n",
       "<table border=\"1\" class=\"dataframe\">\n",
       "  <thead>\n",
       "    <tr style=\"text-align: right;\">\n",
       "      <th></th>\n",
       "      <th>HomePlanet</th>\n",
       "      <th>CryoSleep</th>\n",
       "      <th>Destination</th>\n",
       "      <th>Age</th>\n",
       "      <th>VIP</th>\n",
       "      <th>RoomService</th>\n",
       "      <th>FoodCourt</th>\n",
       "      <th>ShoppingMall</th>\n",
       "      <th>Spa</th>\n",
       "      <th>VRDeck</th>\n",
       "      <th>Deck</th>\n",
       "      <th>Num</th>\n",
       "      <th>Side</th>\n",
       "    </tr>\n",
       "  </thead>\n",
       "  <tbody>\n",
       "    <tr>\n",
       "      <th>0</th>\n",
       "      <td>0</td>\n",
       "      <td>1</td>\n",
       "      <td>2</td>\n",
       "      <td>0.341772</td>\n",
       "      <td>0</td>\n",
       "      <td>0.0</td>\n",
       "      <td>0.000000</td>\n",
       "      <td>0.0</td>\n",
       "      <td>0.000000</td>\n",
       "      <td>0.0</td>\n",
       "      <td>6</td>\n",
       "      <td>0.001584</td>\n",
       "      <td>2</td>\n",
       "    </tr>\n",
       "    <tr>\n",
       "      <th>1</th>\n",
       "      <td>0</td>\n",
       "      <td>0</td>\n",
       "      <td>2</td>\n",
       "      <td>0.240506</td>\n",
       "      <td>0</td>\n",
       "      <td>0.0</td>\n",
       "      <td>0.000302</td>\n",
       "      <td>0.0</td>\n",
       "      <td>0.125982</td>\n",
       "      <td>0.0</td>\n",
       "      <td>5</td>\n",
       "      <td>0.002112</td>\n",
       "      <td>2</td>\n",
       "    </tr>\n",
       "    <tr>\n",
       "      <th>2</th>\n",
       "      <td>1</td>\n",
       "      <td>1</td>\n",
       "      <td>0</td>\n",
       "      <td>0.392405</td>\n",
       "      <td>0</td>\n",
       "      <td>0.0</td>\n",
       "      <td>0.000000</td>\n",
       "      <td>0.0</td>\n",
       "      <td>0.000000</td>\n",
       "      <td>0.0</td>\n",
       "      <td>2</td>\n",
       "      <td>0.000000</td>\n",
       "      <td>2</td>\n",
       "    </tr>\n",
       "  </tbody>\n",
       "</table>\n",
       "</div>"
      ],
      "text/plain": [
       "   HomePlanet  CryoSleep  Destination       Age  VIP  RoomService  FoodCourt  \\\n",
       "0           0          1            2  0.341772    0          0.0   0.000000   \n",
       "1           0          0            2  0.240506    0          0.0   0.000302   \n",
       "2           1          1            0  0.392405    0          0.0   0.000000   \n",
       "\n",
       "   ShoppingMall       Spa  VRDeck  Deck       Num  Side  \n",
       "0           0.0  0.000000     0.0     6  0.001584     2  \n",
       "1           0.0  0.125982     0.0     5  0.002112     2  \n",
       "2           0.0  0.000000     0.0     2  0.000000     2  "
      ]
     },
     "execution_count": 28,
     "metadata": {},
     "output_type": "execute_result"
    }
   ],
   "source": [
    "test_df.head(3)"
   ]
  },
  {
   "cell_type": "markdown",
   "id": "a383a1ad",
   "metadata": {
    "papermill": {
     "duration": 0.01877,
     "end_time": "2024-03-05T12:46:00.382769",
     "exception": false,
     "start_time": "2024-03-05T12:46:00.363999",
     "status": "completed"
    },
    "tags": []
   },
   "source": [
    "## Preparing Data for model training "
   ]
  },
  {
   "cell_type": "code",
   "execution_count": 29,
   "id": "dd91b9bf",
   "metadata": {
    "execution": {
     "iopub.execute_input": "2024-03-05T12:46:00.421388Z",
     "iopub.status.busy": "2024-03-05T12:46:00.420889Z",
     "iopub.status.idle": "2024-03-05T12:46:00.428683Z",
     "shell.execute_reply": "2024-03-05T12:46:00.427327Z"
    },
    "papermill": {
     "duration": 0.030031,
     "end_time": "2024-03-05T12:46:00.431073",
     "exception": false,
     "start_time": "2024-03-05T12:46:00.401042",
     "status": "completed"
    },
    "tags": []
   },
   "outputs": [],
   "source": [
    "X = df.drop(\"Transported\",axis=\"columns\")\n",
    "Y = df[\"Transported\"]"
   ]
  },
  {
   "cell_type": "code",
   "execution_count": 30,
   "id": "d3a5ef8e",
   "metadata": {
    "execution": {
     "iopub.execute_input": "2024-03-05T12:46:00.470748Z",
     "iopub.status.busy": "2024-03-05T12:46:00.470294Z",
     "iopub.status.idle": "2024-03-05T12:46:00.605978Z",
     "shell.execute_reply": "2024-03-05T12:46:00.604565Z"
    },
    "papermill": {
     "duration": 0.159383,
     "end_time": "2024-03-05T12:46:00.609287",
     "exception": false,
     "start_time": "2024-03-05T12:46:00.449904",
     "status": "completed"
    },
    "tags": []
   },
   "outputs": [],
   "source": [
    "from sklearn.model_selection import train_test_split\n",
    "\n",
    "xtrain,xtest,ytrain,ytest = train_test_split(X,Y,test_size=0.3,random_state=42)\n"
   ]
  },
  {
   "cell_type": "markdown",
   "id": "b7141062",
   "metadata": {
    "papermill": {
     "duration": 0.020126,
     "end_time": "2024-03-05T12:46:00.651336",
     "exception": false,
     "start_time": "2024-03-05T12:46:00.631210",
     "status": "completed"
    },
    "tags": []
   },
   "source": [
    "## Basic Model building"
   ]
  },
  {
   "cell_type": "code",
   "execution_count": 31,
   "id": "e2726abb",
   "metadata": {
    "execution": {
     "iopub.execute_input": "2024-03-05T12:46:00.690463Z",
     "iopub.status.busy": "2024-03-05T12:46:00.689598Z",
     "iopub.status.idle": "2024-03-05T12:46:02.937089Z",
     "shell.execute_reply": "2024-03-05T12:46:02.935735Z"
    },
    "papermill": {
     "duration": 2.270128,
     "end_time": "2024-03-05T12:46:02.939712",
     "exception": false,
     "start_time": "2024-03-05T12:46:00.669584",
     "status": "completed"
    },
    "tags": []
   },
   "outputs": [
    {
     "name": "stdout",
     "output_type": "stream",
     "text": [
      "              precision    recall  f1-score   support\n",
      "\n",
      "           0       0.85      0.69      0.76      1589\n",
      "           1       0.62      0.81      0.70      1019\n",
      "\n",
      "    accuracy                           0.73      2608\n",
      "   macro avg       0.73      0.75      0.73      2608\n",
      "weighted avg       0.76      0.73      0.74      2608\n",
      "\n"
     ]
    }
   ],
   "source": [
    "from sklearn.svm import SVC\n",
    "from sklearn.metrics import classification_report\n",
    "svm = SVC()\n",
    "svm.fit(xtrain,ytrain)\n",
    "svm_p = svm.predict(xtest)\n",
    "print(classification_report(svm_p,ytest))"
   ]
  },
  {
   "cell_type": "code",
   "execution_count": 32,
   "id": "c9eec8bb",
   "metadata": {
    "execution": {
     "iopub.execute_input": "2024-03-05T12:46:02.977305Z",
     "iopub.status.busy": "2024-03-05T12:46:02.976862Z",
     "iopub.status.idle": "2024-03-05T12:46:04.219061Z",
     "shell.execute_reply": "2024-03-05T12:46:04.217095Z"
    },
    "papermill": {
     "duration": 1.264336,
     "end_time": "2024-03-05T12:46:04.221885",
     "exception": false,
     "start_time": "2024-03-05T12:46:02.957549",
     "status": "completed"
    },
    "tags": []
   },
   "outputs": [
    {
     "name": "stdout",
     "output_type": "stream",
     "text": [
      "              precision    recall  f1-score   support\n",
      "\n",
      "           0       0.81      0.78      0.80      1337\n",
      "           1       0.78      0.81      0.80      1271\n",
      "\n",
      "    accuracy                           0.80      2608\n",
      "   macro avg       0.80      0.80      0.80      2608\n",
      "weighted avg       0.80      0.80      0.80      2608\n",
      "\n"
     ]
    }
   ],
   "source": [
    "from sklearn.ensemble import RandomForestClassifier\n",
    "\n",
    "rand = RandomForestClassifier(random_state=42, verbose=0)\n",
    "rand.fit(xtrain,ytrain)\n",
    "rand_p = rand.predict(xtest)\n",
    "print(classification_report(rand_p,ytest))"
   ]
  },
  {
   "cell_type": "code",
   "execution_count": 33,
   "id": "8a3a7bb4",
   "metadata": {
    "execution": {
     "iopub.execute_input": "2024-03-05T12:46:04.261822Z",
     "iopub.status.busy": "2024-03-05T12:46:04.261360Z",
     "iopub.status.idle": "2024-03-05T12:46:04.659912Z",
     "shell.execute_reply": "2024-03-05T12:46:04.658538Z"
    },
    "papermill": {
     "duration": 0.421395,
     "end_time": "2024-03-05T12:46:04.662597",
     "exception": false,
     "start_time": "2024-03-05T12:46:04.241202",
     "status": "completed"
    },
    "tags": []
   },
   "outputs": [
    {
     "name": "stdout",
     "output_type": "stream",
     "text": [
      "              precision    recall  f1-score   support\n",
      "\n",
      "           0       0.73      0.81      0.77      1162\n",
      "           1       0.83      0.76      0.79      1446\n",
      "\n",
      "    accuracy                           0.78      2608\n",
      "   macro avg       0.78      0.79      0.78      2608\n",
      "weighted avg       0.79      0.78      0.78      2608\n",
      "\n"
     ]
    }
   ],
   "source": [
    "from sklearn.ensemble import AdaBoostClassifier\n",
    "\n",
    "ada=  AdaBoostClassifier()\n",
    "ada.fit(xtrain,ytrain)\n",
    "ada_p = ada.predict(xtest)\n",
    "print(classification_report(ada_p,ytest))"
   ]
  },
  {
   "cell_type": "code",
   "execution_count": 34,
   "id": "00dade69",
   "metadata": {
    "execution": {
     "iopub.execute_input": "2024-03-05T12:46:04.703498Z",
     "iopub.status.busy": "2024-03-05T12:46:04.702412Z",
     "iopub.status.idle": "2024-03-05T12:46:06.282967Z",
     "shell.execute_reply": "2024-03-05T12:46:06.281134Z"
    },
    "papermill": {
     "duration": 1.603444,
     "end_time": "2024-03-05T12:46:06.285657",
     "exception": false,
     "start_time": "2024-03-05T12:46:04.682213",
     "status": "completed"
    },
    "tags": []
   },
   "outputs": [
    {
     "name": "stdout",
     "output_type": "stream",
     "text": [
      "[LightGBM] [Info] Number of positive: 3059, number of negative: 3026\n",
      "[LightGBM] [Info] Auto-choosing row-wise multi-threading, the overhead of testing was 0.004444 seconds.\n",
      "You can set `force_row_wise=true` to remove the overhead.\n",
      "And if memory is not enough, you can set `force_col_wise=true`.\n",
      "[LightGBM] [Info] Total Bins 1630\n",
      "[LightGBM] [Info] Number of data points in the train set: 6085, number of used features: 13\n",
      "[LightGBM] [Info] [binary:BoostFromScore]: pavg=0.502712 -> initscore=0.010846\n",
      "[LightGBM] [Info] Start training from score 0.010846\n",
      "              precision    recall  f1-score   support\n",
      "\n",
      "           0       0.78      0.81      0.79      1231\n",
      "           1       0.82      0.79      0.81      1377\n",
      "\n",
      "    accuracy                           0.80      2608\n",
      "   macro avg       0.80      0.80      0.80      2608\n",
      "weighted avg       0.80      0.80      0.80      2608\n",
      "\n"
     ]
    }
   ],
   "source": [
    "from lightgbm import LGBMClassifier\n",
    "\n",
    "lgbm = LGBMClassifier()\n",
    "lgbm.fit(xtrain,ytrain)\n",
    "lgbm_p = lgbm.predict(xtest)\n",
    "print(classification_report(lgbm_p,ytest))"
   ]
  },
  {
   "cell_type": "code",
   "execution_count": 35,
   "id": "2f7c7002",
   "metadata": {
    "execution": {
     "iopub.execute_input": "2024-03-05T12:46:06.325561Z",
     "iopub.status.busy": "2024-03-05T12:46:06.324866Z",
     "iopub.status.idle": "2024-03-05T12:46:06.837419Z",
     "shell.execute_reply": "2024-03-05T12:46:06.835908Z"
    },
    "papermill": {
     "duration": 0.535541,
     "end_time": "2024-03-05T12:46:06.840276",
     "exception": false,
     "start_time": "2024-03-05T12:46:06.304735",
     "status": "completed"
    },
    "tags": []
   },
   "outputs": [
    {
     "name": "stdout",
     "output_type": "stream",
     "text": [
      "              precision    recall  f1-score   support\n",
      "\n",
      "           0       0.80      0.79      0.80      1291\n",
      "           1       0.80      0.80      0.80      1317\n",
      "\n",
      "    accuracy                           0.80      2608\n",
      "   macro avg       0.80      0.80      0.80      2608\n",
      "weighted avg       0.80      0.80      0.80      2608\n",
      "\n"
     ]
    }
   ],
   "source": [
    "from xgboost import XGBClassifier\n",
    "\n",
    "xgb = XGBClassifier(verbosity=0)\n",
    "xgb.fit(xtrain,ytrain)\n",
    "xgb_p = xgb.predict(xtest)\n",
    "print(classification_report(xgb_p,ytest))"
   ]
  },
  {
   "cell_type": "code",
   "execution_count": 36,
   "id": "e84d9f24",
   "metadata": {
    "execution": {
     "iopub.execute_input": "2024-03-05T12:46:06.881860Z",
     "iopub.status.busy": "2024-03-05T12:46:06.881426Z",
     "iopub.status.idle": "2024-03-05T12:46:06.914121Z",
     "shell.execute_reply": "2024-03-05T12:46:06.912330Z"
    },
    "papermill": {
     "duration": 0.056908,
     "end_time": "2024-03-05T12:46:06.917347",
     "exception": false,
     "start_time": "2024-03-05T12:46:06.860439",
     "status": "completed"
    },
    "tags": []
   },
   "outputs": [
    {
     "name": "stdout",
     "output_type": "stream",
     "text": [
      "              precision    recall  f1-score   support\n",
      "\n",
      "           0       0.80      0.70      0.75      1477\n",
      "           1       0.66      0.77      0.71      1131\n",
      "\n",
      "    accuracy                           0.73      2608\n",
      "   macro avg       0.73      0.73      0.73      2608\n",
      "weighted avg       0.74      0.73      0.73      2608\n",
      "\n"
     ]
    }
   ],
   "source": [
    "from sklearn.naive_bayes import MultinomialNB\n",
    "\n",
    "navies = MultinomialNB()\n",
    "navies.fit(xtrain,ytrain)\n",
    "navies_p=navies.predict(xtest)\n",
    "print(classification_report(navies_p,ytest))"
   ]
  },
  {
   "cell_type": "code",
   "execution_count": 37,
   "id": "e42a5fb2",
   "metadata": {
    "execution": {
     "iopub.execute_input": "2024-03-05T12:46:06.961591Z",
     "iopub.status.busy": "2024-03-05T12:46:06.960943Z",
     "iopub.status.idle": "2024-03-05T12:46:07.228590Z",
     "shell.execute_reply": "2024-03-05T12:46:07.227414Z"
    },
    "papermill": {
     "duration": 0.29877,
     "end_time": "2024-03-05T12:46:07.236671",
     "exception": false,
     "start_time": "2024-03-05T12:46:06.937901",
     "status": "completed"
    },
    "tags": []
   },
   "outputs": [
    {
     "name": "stdout",
     "output_type": "stream",
     "text": [
      "              precision    recall  f1-score   support\n",
      "\n",
      "           0       0.80      0.73      0.76      1425\n",
      "           1       0.70      0.78      0.74      1183\n",
      "\n",
      "    accuracy                           0.75      2608\n",
      "   macro avg       0.75      0.76      0.75      2608\n",
      "weighted avg       0.76      0.75      0.75      2608\n",
      "\n"
     ]
    },
    {
     "name": "stderr",
     "output_type": "stream",
     "text": [
      "/opt/conda/lib/python3.10/site-packages/sklearn/linear_model/_logistic.py:458: ConvergenceWarning: lbfgs failed to converge (status=1):\n",
      "STOP: TOTAL NO. of ITERATIONS REACHED LIMIT.\n",
      "\n",
      "Increase the number of iterations (max_iter) or scale the data as shown in:\n",
      "    https://scikit-learn.org/stable/modules/preprocessing.html\n",
      "Please also refer to the documentation for alternative solver options:\n",
      "    https://scikit-learn.org/stable/modules/linear_model.html#logistic-regression\n",
      "  n_iter_i = _check_optimize_result(\n"
     ]
    }
   ],
   "source": [
    "from sklearn.linear_model import LogisticRegression\n",
    "\n",
    "lr = LogisticRegression()\n",
    "lr.fit(xtrain,ytrain)\n",
    "lr_p=lr.predict(xtest)\n",
    "print(classification_report(lr_p,ytest))"
   ]
  },
  {
   "cell_type": "code",
   "execution_count": 38,
   "id": "1363835c",
   "metadata": {
    "execution": {
     "iopub.execute_input": "2024-03-05T12:46:07.305111Z",
     "iopub.status.busy": "2024-03-05T12:46:07.304526Z",
     "iopub.status.idle": "2024-03-05T12:46:07.550839Z",
     "shell.execute_reply": "2024-03-05T12:46:07.549471Z"
    },
    "papermill": {
     "duration": 0.284448,
     "end_time": "2024-03-05T12:46:07.554486",
     "exception": false,
     "start_time": "2024-03-05T12:46:07.270038",
     "status": "completed"
    },
    "tags": []
   },
   "outputs": [
    {
     "name": "stdout",
     "output_type": "stream",
     "text": [
      "              precision    recall  f1-score   support\n",
      "\n",
      "           0       0.77      0.72      0.75      1378\n",
      "           1       0.71      0.76      0.74      1230\n",
      "\n",
      "    accuracy                           0.74      2608\n",
      "   macro avg       0.74      0.74      0.74      2608\n",
      "weighted avg       0.74      0.74      0.74      2608\n",
      "\n"
     ]
    }
   ],
   "source": [
    "from sklearn.neighbors import KNeighborsClassifier\n",
    "\n",
    "knn = KNeighborsClassifier()\n",
    "knn.fit(xtrain,ytrain)\n",
    "knn_p=knn.predict(xtest)\n",
    "print(classification_report(knn_p,ytest))"
   ]
  },
  {
   "cell_type": "markdown",
   "id": "6ac85d9f",
   "metadata": {
    "papermill": {
     "duration": 0.021351,
     "end_time": "2024-03-05T12:46:07.599783",
     "exception": false,
     "start_time": "2024-03-05T12:46:07.578432",
     "status": "completed"
    },
    "tags": []
   },
   "source": [
    "# Hyperparameter Tuning"
   ]
  },
  {
   "cell_type": "code",
   "execution_count": 39,
   "id": "2ccee83d",
   "metadata": {
    "execution": {
     "iopub.execute_input": "2024-03-05T12:46:07.643535Z",
     "iopub.status.busy": "2024-03-05T12:46:07.643070Z",
     "iopub.status.idle": "2024-03-05T12:46:07.650073Z",
     "shell.execute_reply": "2024-03-05T12:46:07.648773Z"
    },
    "papermill": {
     "duration": 0.033416,
     "end_time": "2024-03-05T12:46:07.652926",
     "exception": false,
     "start_time": "2024-03-05T12:46:07.619510",
     "status": "completed"
    },
    "tags": []
   },
   "outputs": [],
   "source": [
    "from sklearn.model_selection import GridSearchCV , RandomizedSearchCV\n",
    "from sklearn.metrics import accuracy_score"
   ]
  },
  {
   "cell_type": "code",
   "execution_count": 40,
   "id": "a7968953",
   "metadata": {
    "execution": {
     "iopub.execute_input": "2024-03-05T12:46:07.695538Z",
     "iopub.status.busy": "2024-03-05T12:46:07.695067Z",
     "iopub.status.idle": "2024-03-05T12:46:07.702763Z",
     "shell.execute_reply": "2024-03-05T12:46:07.701602Z"
    },
    "papermill": {
     "duration": 0.031917,
     "end_time": "2024-03-05T12:46:07.705085",
     "exception": false,
     "start_time": "2024-03-05T12:46:07.673168",
     "status": "completed"
    },
    "tags": []
   },
   "outputs": [
    {
     "data": {
      "text/plain": [
       "\"param_grid = {\\n    'C': [0.01,100, 10,],\\n    'gamma': [0.01,100, 10],\\n    'kernel': ['rbf', 'linear']\\n}\\n\\nsvm_grid = GridSearchCV(SVC(),param_grid=param_grid,cv=3)\\nsvm_grid.fit(xtrain,ytrain)\\nprint(svm_grid.best_params_)\\nsvm_best = svm_grid.best_estimator_\\naccuracy_score(svm_best.predict(xtest),ytest)\""
      ]
     },
     "execution_count": 40,
     "metadata": {},
     "output_type": "execute_result"
    }
   ],
   "source": [
    "    \"\"\"param_grid = {\n",
    "        'C': [0.01,100, 10,],\n",
    "        'gamma': [0.01,100, 10],\n",
    "        'kernel': ['rbf', 'linear']\n",
    "    }\n",
    "\n",
    "    svm_grid = GridSearchCV(SVC(),param_grid=param_grid,cv=3)\n",
    "    svm_grid.fit(xtrain,ytrain)\n",
    "    print(svm_grid.best_params_)\n",
    "    svm_best = svm_grid.best_estimator_\n",
    "    accuracy_score(svm_best.predict(xtest),ytest)\"\"\""
   ]
  },
  {
   "cell_type": "code",
   "execution_count": 41,
   "id": "2b931cc8",
   "metadata": {
    "execution": {
     "iopub.execute_input": "2024-03-05T12:46:07.746738Z",
     "iopub.status.busy": "2024-03-05T12:46:07.745342Z",
     "iopub.status.idle": "2024-03-05T12:46:27.339823Z",
     "shell.execute_reply": "2024-03-05T12:46:27.338656Z"
    },
    "papermill": {
     "duration": 19.618082,
     "end_time": "2024-03-05T12:46:27.342399",
     "exception": false,
     "start_time": "2024-03-05T12:46:07.724317",
     "status": "completed"
    },
    "tags": []
   },
   "outputs": [
    {
     "name": "stdout",
     "output_type": "stream",
     "text": [
      "              precision    recall  f1-score   support\n",
      "\n",
      "           0       0.76      0.79      0.77      1247\n",
      "           1       0.80      0.77      0.78      1361\n",
      "\n",
      "    accuracy                           0.78      2608\n",
      "   macro avg       0.78      0.78      0.78      2608\n",
      "weighted avg       0.78      0.78      0.78      2608\n",
      "\n"
     ]
    }
   ],
   "source": [
    "svm = SVC(C=100, gamma= 0.01,kernel='linear')\n",
    "svm.fit(X,Y)\n",
    "svm_p = svm.predict(xtest)\n",
    "print(classification_report(svm_p,ytest))"
   ]
  },
  {
   "cell_type": "code",
   "execution_count": 42,
   "id": "fd1c3fa1",
   "metadata": {
    "execution": {
     "iopub.execute_input": "2024-03-05T12:46:27.383686Z",
     "iopub.status.busy": "2024-03-05T12:46:27.383258Z",
     "iopub.status.idle": "2024-03-05T12:46:27.741935Z",
     "shell.execute_reply": "2024-03-05T12:46:27.740402Z"
    },
    "papermill": {
     "duration": 0.382824,
     "end_time": "2024-03-05T12:46:27.744625",
     "exception": false,
     "start_time": "2024-03-05T12:46:27.361801",
     "status": "completed"
    },
    "tags": []
   },
   "outputs": [
    {
     "data": {
      "text/plain": [
       "0.7783742331288344"
      ]
     },
     "execution_count": 42,
     "metadata": {},
     "output_type": "execute_result"
    }
   ],
   "source": [
    "accuracy_score(svm.predict(xtest),ytest)"
   ]
  },
  {
   "cell_type": "code",
   "execution_count": 43,
   "id": "36c13ec2",
   "metadata": {
    "execution": {
     "iopub.execute_input": "2024-03-05T12:46:27.785638Z",
     "iopub.status.busy": "2024-03-05T12:46:27.785174Z",
     "iopub.status.idle": "2024-03-05T12:46:27.792649Z",
     "shell.execute_reply": "2024-03-05T12:46:27.791391Z"
    },
    "papermill": {
     "duration": 0.030658,
     "end_time": "2024-03-05T12:46:27.795048",
     "exception": false,
     "start_time": "2024-03-05T12:46:27.764390",
     "status": "completed"
    },
    "tags": []
   },
   "outputs": [
    {
     "data": {
      "text/plain": [
       "\"ada_param = {\\n    'n_estimators':[100,1000,500,1500],\\n    'learning_rate':[0.01,0.1,1,10]\\n}\\nada_grid = GridSearchCV(AdaBoostClassifier(),param_grid=ada_param,cv=2)\\nada_grid.fit(xtrain,ytrain)\\nprint(ada_grid.best_params_)\\nada_Best = ada_grid.best_estimator_\\naccuracy_score(ada_Best.predict(xtest),ytest)\""
      ]
     },
     "execution_count": 43,
     "metadata": {},
     "output_type": "execute_result"
    }
   ],
   "source": [
    "\"\"\"ada_param = {\n",
    "    'n_estimators':[100,1000,500,1500],\n",
    "    'learning_rate':[0.01,0.1,1,10]\n",
    "}\n",
    "ada_grid = GridSearchCV(AdaBoostClassifier(),param_grid=ada_param,cv=2)\n",
    "ada_grid.fit(xtrain,ytrain)\n",
    "print(ada_grid.best_params_)\n",
    "ada_Best = ada_grid.best_estimator_\n",
    "accuracy_score(ada_Best.predict(xtest),ytest)\"\"\""
   ]
  },
  {
   "cell_type": "code",
   "execution_count": 44,
   "id": "ead2f297",
   "metadata": {
    "execution": {
     "iopub.execute_input": "2024-03-05T12:46:27.835351Z",
     "iopub.status.busy": "2024-03-05T12:46:27.834910Z",
     "iopub.status.idle": "2024-03-05T12:46:32.651360Z",
     "shell.execute_reply": "2024-03-05T12:46:32.650070Z"
    },
    "papermill": {
     "duration": 4.839974,
     "end_time": "2024-03-05T12:46:32.654031",
     "exception": false,
     "start_time": "2024-03-05T12:46:27.814057",
     "status": "completed"
    },
    "tags": []
   },
   "outputs": [
    {
     "name": "stdout",
     "output_type": "stream",
     "text": [
      "              precision    recall  f1-score   support\n",
      "\n",
      "           0       0.75      0.82      0.78      1190\n",
      "           1       0.83      0.78      0.80      1418\n",
      "\n",
      "    accuracy                           0.79      2608\n",
      "   macro avg       0.79      0.80      0.79      2608\n",
      "weighted avg       0.80      0.79      0.79      2608\n",
      "\n"
     ]
    }
   ],
   "source": [
    "ada=  AdaBoostClassifier(learning_rate=0.1, n_estimators= 500)\n",
    "ada.fit(X,Y)\n",
    "ada_p = ada.predict(xtest)\n",
    "print(classification_report(ada_p,ytest))"
   ]
  },
  {
   "cell_type": "code",
   "execution_count": 45,
   "id": "6a9a1b23",
   "metadata": {
    "execution": {
     "iopub.execute_input": "2024-03-05T12:46:32.694942Z",
     "iopub.status.busy": "2024-03-05T12:46:32.694528Z",
     "iopub.status.idle": "2024-03-05T12:46:32.924033Z",
     "shell.execute_reply": "2024-03-05T12:46:32.922781Z"
    },
    "papermill": {
     "duration": 0.253245,
     "end_time": "2024-03-05T12:46:32.926697",
     "exception": false,
     "start_time": "2024-03-05T12:46:32.673452",
     "status": "completed"
    },
    "tags": []
   },
   "outputs": [
    {
     "data": {
      "text/plain": [
       "0.7933282208588958"
      ]
     },
     "execution_count": 45,
     "metadata": {},
     "output_type": "execute_result"
    }
   ],
   "source": [
    "accuracy_score(ada.predict(xtest),ytest)"
   ]
  },
  {
   "cell_type": "code",
   "execution_count": 46,
   "id": "642e251c",
   "metadata": {
    "execution": {
     "iopub.execute_input": "2024-03-05T12:46:32.970508Z",
     "iopub.status.busy": "2024-03-05T12:46:32.969818Z",
     "iopub.status.idle": "2024-03-05T12:46:32.975484Z",
     "shell.execute_reply": "2024-03-05T12:46:32.974648Z"
    },
    "papermill": {
     "duration": 0.031189,
     "end_time": "2024-03-05T12:46:32.977711",
     "exception": false,
     "start_time": "2024-03-05T12:46:32.946522",
     "status": "completed"
    },
    "tags": []
   },
   "outputs": [
    {
     "data": {
      "text/plain": [
       "\"rand_param = {\\n    'n_estimators': [100, 200, 300],\\n    'max_depth': [None, 10, 20],\\n    'min_samples_split': [2, 5, 10],\\n    'min_samples_leaf': [1, 2, 4],\\n    'max_features': [ 'sqrt', 'log2']\\n}\\n\\nrand_grid = RandomizedSearchCV(RandomForestClassifier(), param_distributions=rand_param, cv=5, n_iter=20, random_state=42)\\nrand_grid.fit(xtrain,ytrain)\\nprint(rand_grid.best_params_)\\nrand_Best = rand_grid.best_estimator_\\naccuracy_score(rand_Best.predict(xtest),ytest)\""
      ]
     },
     "execution_count": 46,
     "metadata": {},
     "output_type": "execute_result"
    }
   ],
   "source": [
    "\"\"\"rand_param = {\n",
    "    'n_estimators': [100, 200, 300],\n",
    "    'max_depth': [None, 10, 20],\n",
    "    'min_samples_split': [2, 5, 10],\n",
    "    'min_samples_leaf': [1, 2, 4],\n",
    "    'max_features': [ 'sqrt', 'log2']\n",
    "}\n",
    "\n",
    "rand_grid = RandomizedSearchCV(RandomForestClassifier(), param_distributions=rand_param, cv=5, n_iter=20, random_state=42)\n",
    "rand_grid.fit(xtrain,ytrain)\n",
    "print(rand_grid.best_params_)\n",
    "rand_Best = rand_grid.best_estimator_\n",
    "accuracy_score(rand_Best.predict(xtest),ytest)\"\"\""
   ]
  },
  {
   "cell_type": "code",
   "execution_count": 47,
   "id": "21172234",
   "metadata": {
    "execution": {
     "iopub.execute_input": "2024-03-05T12:46:33.020335Z",
     "iopub.status.busy": "2024-03-05T12:46:33.019501Z",
     "iopub.status.idle": "2024-03-05T12:46:34.242164Z",
     "shell.execute_reply": "2024-03-05T12:46:34.241310Z"
    },
    "papermill": {
     "duration": 1.246108,
     "end_time": "2024-03-05T12:46:34.244469",
     "exception": false,
     "start_time": "2024-03-05T12:46:32.998361",
     "status": "completed"
    },
    "tags": []
   },
   "outputs": [
    {
     "name": "stdout",
     "output_type": "stream",
     "text": [
      "              precision    recall  f1-score   support\n",
      "\n",
      "           0       0.90      0.89      0.89      1305\n",
      "           1       0.89      0.90      0.89      1303\n",
      "\n",
      "    accuracy                           0.89      2608\n",
      "   macro avg       0.89      0.89      0.89      2608\n",
      "weighted avg       0.89      0.89      0.89      2608\n",
      "\n"
     ]
    }
   ],
   "source": [
    "rand = RandomForestClassifier(n_estimators= 100,min_samples_split=10, \n",
    "                              min_samples_leaf= 4,max_features=\"sqrt\",max_depth= None)\n",
    "rand.fit(X,Y)\n",
    "rand_p = rand.predict(xtest)\n",
    "print(classification_report(rand_p,ytest))"
   ]
  },
  {
   "cell_type": "code",
   "execution_count": 48,
   "id": "034bda73",
   "metadata": {
    "execution": {
     "iopub.execute_input": "2024-03-05T12:46:34.287875Z",
     "iopub.status.busy": "2024-03-05T12:46:34.286934Z",
     "iopub.status.idle": "2024-03-05T12:46:34.344879Z",
     "shell.execute_reply": "2024-03-05T12:46:34.343695Z"
    },
    "papermill": {
     "duration": 0.082613,
     "end_time": "2024-03-05T12:46:34.347096",
     "exception": false,
     "start_time": "2024-03-05T12:46:34.264483",
     "status": "completed"
    },
    "tags": []
   },
   "outputs": [
    {
     "data": {
      "text/plain": [
       "0.8918711656441718"
      ]
     },
     "execution_count": 48,
     "metadata": {},
     "output_type": "execute_result"
    }
   ],
   "source": [
    "accuracy_score(rand.predict(xtest),ytest)"
   ]
  },
  {
   "cell_type": "code",
   "execution_count": 49,
   "id": "82b5a304",
   "metadata": {
    "execution": {
     "iopub.execute_input": "2024-03-05T12:46:34.389754Z",
     "iopub.status.busy": "2024-03-05T12:46:34.388977Z",
     "iopub.status.idle": "2024-03-05T12:46:34.395753Z",
     "shell.execute_reply": "2024-03-05T12:46:34.394532Z"
    },
    "papermill": {
     "duration": 0.030865,
     "end_time": "2024-03-05T12:46:34.397887",
     "exception": false,
     "start_time": "2024-03-05T12:46:34.367022",
     "status": "completed"
    },
    "tags": []
   },
   "outputs": [
    {
     "data": {
      "text/plain": [
       "\"xgb_param = {\\n    'learning_rate': [0.01, 0.1, 0.3],\\n    'max_depth': [3, 5, 7],\\n    'min_child_weight': [1, 3, 5],\\n    'subsample': [0.5, 0.7, 0.9],\\n    'colsample_bytree': [0.5, 0.7, 0.9],\\n    'gamma': [0, 0.1, 0.2]\\n}\\n\\n\\nxgb_grid = RandomizedSearchCV(XGBClassifier(), param_distributions=xgb_param, cv=5, n_iter=50, random_state=42)\\nxgb_grid.fit(xtrain,ytrain)\\nprint(xgb_grid.best_params_)\\nxgb_Best = xgb_grid.best_estimator_\\naccuracy_score(xgb_Best.predict(xtest),ytest)\\n\""
      ]
     },
     "execution_count": 49,
     "metadata": {},
     "output_type": "execute_result"
    }
   ],
   "source": [
    "\"\"\"xgb_param = {\n",
    "    'learning_rate': [0.01, 0.1, 0.3],\n",
    "    'max_depth': [3, 5, 7],\n",
    "    'min_child_weight': [1, 3, 5],\n",
    "    'subsample': [0.5, 0.7, 0.9],\n",
    "    'colsample_bytree': [0.5, 0.7, 0.9],\n",
    "    'gamma': [0, 0.1, 0.2]\n",
    "}\n",
    "\n",
    "\n",
    "xgb_grid = RandomizedSearchCV(XGBClassifier(), param_distributions=xgb_param, cv=5, n_iter=50, random_state=42)\n",
    "xgb_grid.fit(xtrain,ytrain)\n",
    "print(xgb_grid.best_params_)\n",
    "xgb_Best = xgb_grid.best_estimator_\n",
    "accuracy_score(xgb_Best.predict(xtest),ytest)\n",
    "\"\"\""
   ]
  },
  {
   "cell_type": "code",
   "execution_count": 50,
   "id": "1c2ce27d",
   "metadata": {
    "execution": {
     "iopub.execute_input": "2024-03-05T12:46:34.441015Z",
     "iopub.status.busy": "2024-03-05T12:46:34.440593Z",
     "iopub.status.idle": "2024-03-05T12:46:34.695389Z",
     "shell.execute_reply": "2024-03-05T12:46:34.694046Z"
    },
    "papermill": {
     "duration": 0.279799,
     "end_time": "2024-03-05T12:46:34.698130",
     "exception": false,
     "start_time": "2024-03-05T12:46:34.418331",
     "status": "completed"
    },
    "tags": []
   },
   "outputs": [
    {
     "name": "stdout",
     "output_type": "stream",
     "text": [
      "              precision    recall  f1-score   support\n",
      "\n",
      "           0       0.80      0.85      0.82      1216\n",
      "           1       0.86      0.81      0.84      1392\n",
      "\n",
      "    accuracy                           0.83      2608\n",
      "   macro avg       0.83      0.83      0.83      2608\n",
      "weighted avg       0.83      0.83      0.83      2608\n",
      "\n"
     ]
    }
   ],
   "source": [
    "xgb = XGBClassifier(subsample= 0.7, min_child_weight= 1,max_depth =5,\n",
    "                    learning_rate= 0.1, gamma= 0.1, colsample_bytree=0.5)\n",
    "xgb.fit(X,Y)\n",
    "xgb_p = xgb.predict(xtest)\n",
    "print(classification_report(xgb_p,ytest))"
   ]
  },
  {
   "cell_type": "code",
   "execution_count": 51,
   "id": "771e4e5b",
   "metadata": {
    "execution": {
     "iopub.execute_input": "2024-03-05T12:46:34.740562Z",
     "iopub.status.busy": "2024-03-05T12:46:34.740123Z",
     "iopub.status.idle": "2024-03-05T12:46:34.760516Z",
     "shell.execute_reply": "2024-03-05T12:46:34.759161Z"
    },
    "papermill": {
     "duration": 0.044818,
     "end_time": "2024-03-05T12:46:34.763339",
     "exception": false,
     "start_time": "2024-03-05T12:46:34.718521",
     "status": "completed"
    },
    "tags": []
   },
   "outputs": [
    {
     "data": {
      "text/plain": [
       "0.8293711656441718"
      ]
     },
     "execution_count": 51,
     "metadata": {},
     "output_type": "execute_result"
    }
   ],
   "source": [
    "accuracy_score(xgb.predict(xtest),ytest)"
   ]
  },
  {
   "cell_type": "code",
   "execution_count": 52,
   "id": "c46ae20c",
   "metadata": {
    "execution": {
     "iopub.execute_input": "2024-03-05T12:46:34.806505Z",
     "iopub.status.busy": "2024-03-05T12:46:34.806084Z",
     "iopub.status.idle": "2024-03-05T12:46:34.812723Z",
     "shell.execute_reply": "2024-03-05T12:46:34.811687Z"
    },
    "papermill": {
     "duration": 0.030673,
     "end_time": "2024-03-05T12:46:34.814885",
     "exception": false,
     "start_time": "2024-03-05T12:46:34.784212",
     "status": "completed"
    },
    "tags": []
   },
   "outputs": [
    {
     "data": {
      "text/plain": [
       "\"lgbm_param = {\\n    'num_leaves': [20, 30, 40],\\n   'learning_rate': [0.01, 0.1, 0.3],\\n    'max_depth': [3, 5, 7],\\n   'min_child_samples': [20, 30, 40],\\n    'subsample': [0.6, 0.8, 1.0],\\n    'colsample_bytree': [0.6, 0.8, 1.0],\\n    'reg_alpha': [0, 0.1, 0.5],\\n    'reg_lambda': [0, 0.1, 0.5]\\n}\\n\\n\\nlgbm_grid = RandomizedSearchCV(LGBMClassifier(), param_distributions=lgbm_param, cv=5, n_iter=50, random_state=42)\\nlgbm_grid.fit(xtrain,ytrain)\""
      ]
     },
     "execution_count": 52,
     "metadata": {},
     "output_type": "execute_result"
    }
   ],
   "source": [
    "\"\"\"lgbm_param = {\n",
    "    'num_leaves': [20, 30, 40],\n",
    "   'learning_rate': [0.01, 0.1, 0.3],\n",
    "    'max_depth': [3, 5, 7],\n",
    "   'min_child_samples': [20, 30, 40],\n",
    "    'subsample': [0.6, 0.8, 1.0],\n",
    "    'colsample_bytree': [0.6, 0.8, 1.0],\n",
    "    'reg_alpha': [0, 0.1, 0.5],\n",
    "    'reg_lambda': [0, 0.1, 0.5]\n",
    "}\n",
    "\n",
    "\n",
    "lgbm_grid = RandomizedSearchCV(LGBMClassifier(), param_distributions=lgbm_param, cv=5, n_iter=50, random_state=42)\n",
    "lgbm_grid.fit(xtrain,ytrain)\"\"\""
   ]
  },
  {
   "cell_type": "code",
   "execution_count": 53,
   "id": "e9b4f429",
   "metadata": {
    "execution": {
     "iopub.execute_input": "2024-03-05T12:46:34.859683Z",
     "iopub.status.busy": "2024-03-05T12:46:34.859238Z",
     "iopub.status.idle": "2024-03-05T12:46:34.863948Z",
     "shell.execute_reply": "2024-03-05T12:46:34.862793Z"
    },
    "papermill": {
     "duration": 0.029818,
     "end_time": "2024-03-05T12:46:34.866386",
     "exception": false,
     "start_time": "2024-03-05T12:46:34.836568",
     "status": "completed"
    },
    "tags": []
   },
   "outputs": [],
   "source": [
    "#lgbm_grid.best_params_\n"
   ]
  },
  {
   "cell_type": "code",
   "execution_count": 54,
   "id": "e20fe081",
   "metadata": {
    "execution": {
     "iopub.execute_input": "2024-03-05T12:46:34.913413Z",
     "iopub.status.busy": "2024-03-05T12:46:34.912949Z",
     "iopub.status.idle": "2024-03-05T12:46:35.126334Z",
     "shell.execute_reply": "2024-03-05T12:46:35.124703Z"
    },
    "papermill": {
     "duration": 0.23931,
     "end_time": "2024-03-05T12:46:35.128615",
     "exception": false,
     "start_time": "2024-03-05T12:46:34.889305",
     "status": "completed"
    },
    "tags": []
   },
   "outputs": [
    {
     "name": "stdout",
     "output_type": "stream",
     "text": [
      "[LightGBM] [Info] Number of positive: 4378, number of negative: 4315\n",
      "[LightGBM] [Info] Auto-choosing row-wise multi-threading, the overhead of testing was 0.001760 seconds.\n",
      "You can set `force_row_wise=true` to remove the overhead.\n",
      "And if memory is not enough, you can set `force_col_wise=true`.\n",
      "[LightGBM] [Info] Total Bins 1631\n",
      "[LightGBM] [Info] Number of data points in the train set: 8693, number of used features: 13\n",
      "[LightGBM] [Info] [binary:BoostFromScore]: pavg=0.503624 -> initscore=0.014495\n",
      "[LightGBM] [Info] Start training from score 0.014495\n",
      "[LightGBM] [Warning] No further splits with positive gain, best gain: -inf\n",
      "[LightGBM] [Warning] No further splits with positive gain, best gain: -inf\n",
      "[LightGBM] [Warning] No further splits with positive gain, best gain: -inf\n",
      "[LightGBM] [Warning] No further splits with positive gain, best gain: -inf\n",
      "[LightGBM] [Warning] No further splits with positive gain, best gain: -inf\n",
      "[LightGBM] [Warning] No further splits with positive gain, best gain: -inf\n",
      "[LightGBM] [Warning] No further splits with positive gain, best gain: -inf\n",
      "[LightGBM] [Warning] No further splits with positive gain, best gain: -inf\n",
      "[LightGBM] [Warning] No further splits with positive gain, best gain: -inf\n",
      "[LightGBM] [Warning] No further splits with positive gain, best gain: -inf\n",
      "[LightGBM] [Warning] No further splits with positive gain, best gain: -inf\n",
      "[LightGBM] [Warning] No further splits with positive gain, best gain: -inf\n",
      "[LightGBM] [Warning] No further splits with positive gain, best gain: -inf\n",
      "[LightGBM] [Warning] No further splits with positive gain, best gain: -inf\n",
      "[LightGBM] [Warning] No further splits with positive gain, best gain: -inf\n",
      "[LightGBM] [Warning] No further splits with positive gain, best gain: -inf\n",
      "[LightGBM] [Warning] No further splits with positive gain, best gain: -inf\n",
      "[LightGBM] [Warning] No further splits with positive gain, best gain: -inf\n",
      "[LightGBM] [Warning] No further splits with positive gain, best gain: -inf\n",
      "[LightGBM] [Warning] No further splits with positive gain, best gain: -inf\n",
      "[LightGBM] [Warning] No further splits with positive gain, best gain: -inf\n",
      "[LightGBM] [Warning] No further splits with positive gain, best gain: -inf\n",
      "[LightGBM] [Warning] No further splits with positive gain, best gain: -inf\n",
      "[LightGBM] [Warning] No further splits with positive gain, best gain: -inf\n",
      "[LightGBM] [Warning] No further splits with positive gain, best gain: -inf\n",
      "[LightGBM] [Warning] No further splits with positive gain, best gain: -inf\n",
      "[LightGBM] [Warning] No further splits with positive gain, best gain: -inf\n",
      "[LightGBM] [Warning] No further splits with positive gain, best gain: -inf\n",
      "[LightGBM] [Warning] No further splits with positive gain, best gain: -inf\n",
      "[LightGBM] [Warning] No further splits with positive gain, best gain: -inf\n",
      "[LightGBM] [Warning] No further splits with positive gain, best gain: -inf\n",
      "[LightGBM] [Warning] No further splits with positive gain, best gain: -inf\n",
      "[LightGBM] [Warning] No further splits with positive gain, best gain: -inf\n",
      "[LightGBM] [Warning] No further splits with positive gain, best gain: -inf\n"
     ]
    },
    {
     "data": {
      "text/plain": [
       "0.8305214723926381"
      ]
     },
     "execution_count": 54,
     "metadata": {},
     "output_type": "execute_result"
    }
   ],
   "source": [
    "\n",
    "lgbm_best = LGBMClassifier(subsample= 0.6, reg_lambda= 0.1, reg_alpha= 0.1,\n",
    "                           num_leaves= 20, min_child_samples= 20, max_depth=5,\n",
    "                           learning_rate= 0.1, colsample_bytree= 0.8)\n",
    "lgbm_best.fit(X,Y)\n",
    "accuracy_score(lgbm_best.predict(xtest),ytest)"
   ]
  },
  {
   "cell_type": "code",
   "execution_count": 55,
   "id": "cc246779",
   "metadata": {
    "execution": {
     "iopub.execute_input": "2024-03-05T12:46:35.173972Z",
     "iopub.status.busy": "2024-03-05T12:46:35.173523Z",
     "iopub.status.idle": "2024-03-05T12:46:35.193579Z",
     "shell.execute_reply": "2024-03-05T12:46:35.192180Z"
    },
    "papermill": {
     "duration": 0.046528,
     "end_time": "2024-03-05T12:46:35.196508",
     "exception": false,
     "start_time": "2024-03-05T12:46:35.149980",
     "status": "completed"
    },
    "tags": []
   },
   "outputs": [
    {
     "data": {
      "text/plain": [
       "0.8293711656441718"
      ]
     },
     "execution_count": 55,
     "metadata": {},
     "output_type": "execute_result"
    }
   ],
   "source": [
    "accuracy_score(xgb.predict(xtest),ytest)"
   ]
  },
  {
   "cell_type": "markdown",
   "id": "b77eff77",
   "metadata": {
    "execution": {
     "iopub.execute_input": "2024-03-05T12:40:01.093079Z",
     "iopub.status.busy": "2024-03-05T12:40:01.092596Z",
     "iopub.status.idle": "2024-03-05T12:40:01.102237Z",
     "shell.execute_reply": "2024-03-05T12:40:01.100638Z",
     "shell.execute_reply.started": "2024-03-05T12:40:01.093028Z"
    },
    "papermill": {
     "duration": 0.020959,
     "end_time": "2024-03-05T12:46:35.238863",
     "exception": false,
     "start_time": "2024-03-05T12:46:35.217904",
     "status": "completed"
    },
    "tags": []
   },
   "source": [
    "## Voting classifier"
   ]
  },
  {
   "cell_type": "code",
   "execution_count": 56,
   "id": "8a1f5b20",
   "metadata": {
    "execution": {
     "iopub.execute_input": "2024-03-05T12:46:35.287833Z",
     "iopub.status.busy": "2024-03-05T12:46:35.287362Z",
     "iopub.status.idle": "2024-03-05T12:46:35.293538Z",
     "shell.execute_reply": "2024-03-05T12:46:35.292091Z"
    },
    "papermill": {
     "duration": 0.033612,
     "end_time": "2024-03-05T12:46:35.296162",
     "exception": false,
     "start_time": "2024-03-05T12:46:35.262550",
     "status": "completed"
    },
    "tags": []
   },
   "outputs": [],
   "source": [
    "from sklearn.ensemble import VotingClassifier"
   ]
  },
  {
   "cell_type": "code",
   "execution_count": 57,
   "id": "91b5d7d2",
   "metadata": {
    "execution": {
     "iopub.execute_input": "2024-03-05T12:46:35.340931Z",
     "iopub.status.busy": "2024-03-05T12:46:35.340507Z",
     "iopub.status.idle": "2024-03-05T12:46:56.098442Z",
     "shell.execute_reply": "2024-03-05T12:46:56.097276Z"
    },
    "papermill": {
     "duration": 20.782941,
     "end_time": "2024-03-05T12:46:56.100922",
     "exception": false,
     "start_time": "2024-03-05T12:46:35.317981",
     "status": "completed"
    },
    "tags": []
   },
   "outputs": [
    {
     "name": "stdout",
     "output_type": "stream",
     "text": [
      "[LightGBM] [Info] Number of positive: 4378, number of negative: 4315\n",
      "[LightGBM] [Info] Auto-choosing row-wise multi-threading, the overhead of testing was 0.001554 seconds.\n",
      "You can set `force_row_wise=true` to remove the overhead.\n",
      "And if memory is not enough, you can set `force_col_wise=true`.\n",
      "[LightGBM] [Info] Total Bins 1631\n",
      "[LightGBM] [Info] Number of data points in the train set: 8693, number of used features: 13\n",
      "[LightGBM] [Info] [binary:BoostFromScore]: pavg=0.503624 -> initscore=0.014495\n",
      "[LightGBM] [Info] Start training from score 0.014495\n",
      "[LightGBM] [Warning] No further splits with positive gain, best gain: -inf\n",
      "[LightGBM] [Warning] No further splits with positive gain, best gain: -inf\n",
      "[LightGBM] [Warning] No further splits with positive gain, best gain: -inf\n",
      "[LightGBM] [Warning] No further splits with positive gain, best gain: -inf\n",
      "[LightGBM] [Warning] No further splits with positive gain, best gain: -inf\n",
      "[LightGBM] [Warning] No further splits with positive gain, best gain: -inf\n",
      "[LightGBM] [Warning] No further splits with positive gain, best gain: -inf\n",
      "[LightGBM] [Warning] No further splits with positive gain, best gain: -inf\n",
      "[LightGBM] [Warning] No further splits with positive gain, best gain: -inf\n",
      "[LightGBM] [Warning] No further splits with positive gain, best gain: -inf\n",
      "[LightGBM] [Warning] No further splits with positive gain, best gain: -inf\n",
      "[LightGBM] [Warning] No further splits with positive gain, best gain: -inf\n",
      "[LightGBM] [Warning] No further splits with positive gain, best gain: -inf\n",
      "[LightGBM] [Warning] No further splits with positive gain, best gain: -inf\n",
      "[LightGBM] [Warning] No further splits with positive gain, best gain: -inf\n",
      "[LightGBM] [Warning] No further splits with positive gain, best gain: -inf\n",
      "[LightGBM] [Warning] No further splits with positive gain, best gain: -inf\n",
      "[LightGBM] [Warning] No further splits with positive gain, best gain: -inf\n",
      "[LightGBM] [Warning] No further splits with positive gain, best gain: -inf\n",
      "[LightGBM] [Warning] No further splits with positive gain, best gain: -inf\n",
      "[LightGBM] [Warning] No further splits with positive gain, best gain: -inf\n",
      "[LightGBM] [Warning] No further splits with positive gain, best gain: -inf\n",
      "[LightGBM] [Warning] No further splits with positive gain, best gain: -inf\n",
      "[LightGBM] [Warning] No further splits with positive gain, best gain: -inf\n",
      "[LightGBM] [Warning] No further splits with positive gain, best gain: -inf\n",
      "[LightGBM] [Warning] No further splits with positive gain, best gain: -inf\n",
      "[LightGBM] [Warning] No further splits with positive gain, best gain: -inf\n",
      "[LightGBM] [Warning] No further splits with positive gain, best gain: -inf\n",
      "[LightGBM] [Warning] No further splits with positive gain, best gain: -inf\n",
      "[LightGBM] [Warning] No further splits with positive gain, best gain: -inf\n",
      "[LightGBM] [Warning] No further splits with positive gain, best gain: -inf\n",
      "[LightGBM] [Warning] No further splits with positive gain, best gain: -inf\n",
      "[LightGBM] [Warning] No further splits with positive gain, best gain: -inf\n",
      "[LightGBM] [Warning] No further splits with positive gain, best gain: -inf\n"
     ]
    },
    {
     "data": {
      "text/html": [
       "<style>#sk-container-id-1 {color: black;background-color: white;}#sk-container-id-1 pre{padding: 0;}#sk-container-id-1 div.sk-toggleable {background-color: white;}#sk-container-id-1 label.sk-toggleable__label {cursor: pointer;display: block;width: 100%;margin-bottom: 0;padding: 0.3em;box-sizing: border-box;text-align: center;}#sk-container-id-1 label.sk-toggleable__label-arrow:before {content: \"▸\";float: left;margin-right: 0.25em;color: #696969;}#sk-container-id-1 label.sk-toggleable__label-arrow:hover:before {color: black;}#sk-container-id-1 div.sk-estimator:hover label.sk-toggleable__label-arrow:before {color: black;}#sk-container-id-1 div.sk-toggleable__content {max-height: 0;max-width: 0;overflow: hidden;text-align: left;background-color: #f0f8ff;}#sk-container-id-1 div.sk-toggleable__content pre {margin: 0.2em;color: black;border-radius: 0.25em;background-color: #f0f8ff;}#sk-container-id-1 input.sk-toggleable__control:checked~div.sk-toggleable__content {max-height: 200px;max-width: 100%;overflow: auto;}#sk-container-id-1 input.sk-toggleable__control:checked~label.sk-toggleable__label-arrow:before {content: \"▾\";}#sk-container-id-1 div.sk-estimator input.sk-toggleable__control:checked~label.sk-toggleable__label {background-color: #d4ebff;}#sk-container-id-1 div.sk-label input.sk-toggleable__control:checked~label.sk-toggleable__label {background-color: #d4ebff;}#sk-container-id-1 input.sk-hidden--visually {border: 0;clip: rect(1px 1px 1px 1px);clip: rect(1px, 1px, 1px, 1px);height: 1px;margin: -1px;overflow: hidden;padding: 0;position: absolute;width: 1px;}#sk-container-id-1 div.sk-estimator {font-family: monospace;background-color: #f0f8ff;border: 1px dotted black;border-radius: 0.25em;box-sizing: border-box;margin-bottom: 0.5em;}#sk-container-id-1 div.sk-estimator:hover {background-color: #d4ebff;}#sk-container-id-1 div.sk-parallel-item::after {content: \"\";width: 100%;border-bottom: 1px solid gray;flex-grow: 1;}#sk-container-id-1 div.sk-label:hover label.sk-toggleable__label {background-color: #d4ebff;}#sk-container-id-1 div.sk-serial::before {content: \"\";position: absolute;border-left: 1px solid gray;box-sizing: border-box;top: 0;bottom: 0;left: 50%;z-index: 0;}#sk-container-id-1 div.sk-serial {display: flex;flex-direction: column;align-items: center;background-color: white;padding-right: 0.2em;padding-left: 0.2em;position: relative;}#sk-container-id-1 div.sk-item {position: relative;z-index: 1;}#sk-container-id-1 div.sk-parallel {display: flex;align-items: stretch;justify-content: center;background-color: white;position: relative;}#sk-container-id-1 div.sk-item::before, #sk-container-id-1 div.sk-parallel-item::before {content: \"\";position: absolute;border-left: 1px solid gray;box-sizing: border-box;top: 0;bottom: 0;left: 50%;z-index: -1;}#sk-container-id-1 div.sk-parallel-item {display: flex;flex-direction: column;z-index: 1;position: relative;background-color: white;}#sk-container-id-1 div.sk-parallel-item:first-child::after {align-self: flex-end;width: 50%;}#sk-container-id-1 div.sk-parallel-item:last-child::after {align-self: flex-start;width: 50%;}#sk-container-id-1 div.sk-parallel-item:only-child::after {width: 0;}#sk-container-id-1 div.sk-dashed-wrapped {border: 1px dashed gray;margin: 0 0.4em 0.5em 0.4em;box-sizing: border-box;padding-bottom: 0.4em;background-color: white;}#sk-container-id-1 div.sk-label label {font-family: monospace;font-weight: bold;display: inline-block;line-height: 1.2em;}#sk-container-id-1 div.sk-label-container {text-align: center;}#sk-container-id-1 div.sk-container {/* jupyter's `normalize.less` sets `[hidden] { display: none; }` but bootstrap.min.css set `[hidden] { display: none !important; }` so we also need the `!important` here to be able to override the default hidden behavior on the sphinx rendered scikit-learn.org. See: https://github.com/scikit-learn/scikit-learn/issues/21755 */display: inline-block !important;position: relative;}#sk-container-id-1 div.sk-text-repr-fallback {display: none;}</style><div id=\"sk-container-id-1\" class=\"sk-top-container\"><div class=\"sk-text-repr-fallback\"><pre>VotingClassifier(estimators=[(&#x27;svm_best&#x27;,\n",
       "                              SVC(C=100, gamma=0.01, kernel=&#x27;linear&#x27;)),\n",
       "                             (&#x27;rand_Best&#x27;,\n",
       "                              RandomForestClassifier(min_samples_leaf=4,\n",
       "                                                     min_samples_split=10)),\n",
       "                             (&#x27;xgb_Best&#x27;,\n",
       "                              XGBClassifier(base_score=None, booster=None,\n",
       "                                            callbacks=None,\n",
       "                                            colsample_bylevel=None,\n",
       "                                            colsample_bynode=None,\n",
       "                                            colsample_bytree=0.5, device=None,\n",
       "                                            early_stopping_rounds=None,\n",
       "                                            enable_categorica...\n",
       "                                            max_cat_to_onehot=None,\n",
       "                                            max_delta_step=None, max_depth=5,\n",
       "                                            max_leaves=None, min_child_weight=1,\n",
       "                                            missing=nan,\n",
       "                                            monotone_constraints=None,\n",
       "                                            multi_strategy=None,\n",
       "                                            n_estimators=None, n_jobs=None,\n",
       "                                            num_parallel_tree=None,\n",
       "                                            random_state=None, ...)),\n",
       "                             (&#x27;lgbm_best&#x27;,\n",
       "                              LGBMClassifier(colsample_bytree=0.8, max_depth=5,\n",
       "                                             num_leaves=20, reg_alpha=0.1,\n",
       "                                             reg_lambda=0.1, subsample=0.6))],\n",
       "                 weights=[3, 4, 1, 2])</pre><b>In a Jupyter environment, please rerun this cell to show the HTML representation or trust the notebook. <br />On GitHub, the HTML representation is unable to render, please try loading this page with nbviewer.org.</b></div><div class=\"sk-container\" hidden><div class=\"sk-item sk-dashed-wrapped\"><div class=\"sk-label-container\"><div class=\"sk-label sk-toggleable\"><input class=\"sk-toggleable__control sk-hidden--visually\" id=\"sk-estimator-id-1\" type=\"checkbox\" ><label for=\"sk-estimator-id-1\" class=\"sk-toggleable__label sk-toggleable__label-arrow\">VotingClassifier</label><div class=\"sk-toggleable__content\"><pre>VotingClassifier(estimators=[(&#x27;svm_best&#x27;,\n",
       "                              SVC(C=100, gamma=0.01, kernel=&#x27;linear&#x27;)),\n",
       "                             (&#x27;rand_Best&#x27;,\n",
       "                              RandomForestClassifier(min_samples_leaf=4,\n",
       "                                                     min_samples_split=10)),\n",
       "                             (&#x27;xgb_Best&#x27;,\n",
       "                              XGBClassifier(base_score=None, booster=None,\n",
       "                                            callbacks=None,\n",
       "                                            colsample_bylevel=None,\n",
       "                                            colsample_bynode=None,\n",
       "                                            colsample_bytree=0.5, device=None,\n",
       "                                            early_stopping_rounds=None,\n",
       "                                            enable_categorica...\n",
       "                                            max_cat_to_onehot=None,\n",
       "                                            max_delta_step=None, max_depth=5,\n",
       "                                            max_leaves=None, min_child_weight=1,\n",
       "                                            missing=nan,\n",
       "                                            monotone_constraints=None,\n",
       "                                            multi_strategy=None,\n",
       "                                            n_estimators=None, n_jobs=None,\n",
       "                                            num_parallel_tree=None,\n",
       "                                            random_state=None, ...)),\n",
       "                             (&#x27;lgbm_best&#x27;,\n",
       "                              LGBMClassifier(colsample_bytree=0.8, max_depth=5,\n",
       "                                             num_leaves=20, reg_alpha=0.1,\n",
       "                                             reg_lambda=0.1, subsample=0.6))],\n",
       "                 weights=[3, 4, 1, 2])</pre></div></div></div><div class=\"sk-parallel\"><div class=\"sk-parallel-item\"><div class=\"sk-item\"><div class=\"sk-label-container\"><div class=\"sk-label sk-toggleable\"><label>svm_best</label></div></div><div class=\"sk-serial\"><div class=\"sk-item\"><div class=\"sk-estimator sk-toggleable\"><input class=\"sk-toggleable__control sk-hidden--visually\" id=\"sk-estimator-id-2\" type=\"checkbox\" ><label for=\"sk-estimator-id-2\" class=\"sk-toggleable__label sk-toggleable__label-arrow\">SVC</label><div class=\"sk-toggleable__content\"><pre>SVC(C=100, gamma=0.01, kernel=&#x27;linear&#x27;)</pre></div></div></div></div></div></div><div class=\"sk-parallel-item\"><div class=\"sk-item\"><div class=\"sk-label-container\"><div class=\"sk-label sk-toggleable\"><label>rand_Best</label></div></div><div class=\"sk-serial\"><div class=\"sk-item\"><div class=\"sk-estimator sk-toggleable\"><input class=\"sk-toggleable__control sk-hidden--visually\" id=\"sk-estimator-id-3\" type=\"checkbox\" ><label for=\"sk-estimator-id-3\" class=\"sk-toggleable__label sk-toggleable__label-arrow\">RandomForestClassifier</label><div class=\"sk-toggleable__content\"><pre>RandomForestClassifier(min_samples_leaf=4, min_samples_split=10)</pre></div></div></div></div></div></div><div class=\"sk-parallel-item\"><div class=\"sk-item\"><div class=\"sk-label-container\"><div class=\"sk-label sk-toggleable\"><label>xgb_Best</label></div></div><div class=\"sk-serial\"><div class=\"sk-item\"><div class=\"sk-estimator sk-toggleable\"><input class=\"sk-toggleable__control sk-hidden--visually\" id=\"sk-estimator-id-4\" type=\"checkbox\" ><label for=\"sk-estimator-id-4\" class=\"sk-toggleable__label sk-toggleable__label-arrow\">XGBClassifier</label><div class=\"sk-toggleable__content\"><pre>XGBClassifier(base_score=None, booster=None, callbacks=None,\n",
       "              colsample_bylevel=None, colsample_bynode=None,\n",
       "              colsample_bytree=0.5, device=None, early_stopping_rounds=None,\n",
       "              enable_categorical=False, eval_metric=None, feature_types=None,\n",
       "              gamma=0.1, grow_policy=None, importance_type=None,\n",
       "              interaction_constraints=None, learning_rate=0.1, max_bin=None,\n",
       "              max_cat_threshold=None, max_cat_to_onehot=None,\n",
       "              max_delta_step=None, max_depth=5, max_leaves=None,\n",
       "              min_child_weight=1, missing=nan, monotone_constraints=None,\n",
       "              multi_strategy=None, n_estimators=None, n_jobs=None,\n",
       "              num_parallel_tree=None, random_state=None, ...)</pre></div></div></div></div></div></div><div class=\"sk-parallel-item\"><div class=\"sk-item\"><div class=\"sk-label-container\"><div class=\"sk-label sk-toggleable\"><label>lgbm_best</label></div></div><div class=\"sk-serial\"><div class=\"sk-item\"><div class=\"sk-estimator sk-toggleable\"><input class=\"sk-toggleable__control sk-hidden--visually\" id=\"sk-estimator-id-5\" type=\"checkbox\" ><label for=\"sk-estimator-id-5\" class=\"sk-toggleable__label sk-toggleable__label-arrow\">LGBMClassifier</label><div class=\"sk-toggleable__content\"><pre>LGBMClassifier(colsample_bytree=0.8, max_depth=5, num_leaves=20, reg_alpha=0.1,\n",
       "               reg_lambda=0.1, subsample=0.6)</pre></div></div></div></div></div></div></div></div></div></div>"
      ],
      "text/plain": [
       "VotingClassifier(estimators=[('svm_best',\n",
       "                              SVC(C=100, gamma=0.01, kernel='linear')),\n",
       "                             ('rand_Best',\n",
       "                              RandomForestClassifier(min_samples_leaf=4,\n",
       "                                                     min_samples_split=10)),\n",
       "                             ('xgb_Best',\n",
       "                              XGBClassifier(base_score=None, booster=None,\n",
       "                                            callbacks=None,\n",
       "                                            colsample_bylevel=None,\n",
       "                                            colsample_bynode=None,\n",
       "                                            colsample_bytree=0.5, device=None,\n",
       "                                            early_stopping_rounds=None,\n",
       "                                            enable_categorica...\n",
       "                                            max_cat_to_onehot=None,\n",
       "                                            max_delta_step=None, max_depth=5,\n",
       "                                            max_leaves=None, min_child_weight=1,\n",
       "                                            missing=nan,\n",
       "                                            monotone_constraints=None,\n",
       "                                            multi_strategy=None,\n",
       "                                            n_estimators=None, n_jobs=None,\n",
       "                                            num_parallel_tree=None,\n",
       "                                            random_state=None, ...)),\n",
       "                             ('lgbm_best',\n",
       "                              LGBMClassifier(colsample_bytree=0.8, max_depth=5,\n",
       "                                             num_leaves=20, reg_alpha=0.1,\n",
       "                                             reg_lambda=0.1, subsample=0.6))],\n",
       "                 weights=[3, 4, 1, 2])"
      ]
     },
     "execution_count": 57,
     "metadata": {},
     "output_type": "execute_result"
    }
   ],
   "source": [
    "voting = VotingClassifier(estimators=[('svm_best',svm),\n",
    "                                      ('rand_Best',rand),('xgb_Best',xgb),\n",
    "                                     (\"lgbm_best\",lgbm_best)]\n",
    "                         , weights=[3,4,1,2], voting='hard')\n",
    "voting.fit(X,Y)"
   ]
  },
  {
   "cell_type": "code",
   "execution_count": 58,
   "id": "6152631e",
   "metadata": {
    "execution": {
     "iopub.execute_input": "2024-03-05T12:46:56.148086Z",
     "iopub.status.busy": "2024-03-05T12:46:56.147634Z",
     "iopub.status.idle": "2024-03-05T12:46:56.605294Z",
     "shell.execute_reply": "2024-03-05T12:46:56.604094Z"
    },
    "papermill": {
     "duration": 0.484388,
     "end_time": "2024-03-05T12:46:56.608034",
     "exception": false,
     "start_time": "2024-03-05T12:46:56.123646",
     "status": "completed"
    },
    "tags": []
   },
   "outputs": [
    {
     "data": {
      "text/plain": [
       "0.8477760736196319"
      ]
     },
     "execution_count": 58,
     "metadata": {},
     "output_type": "execute_result"
    }
   ],
   "source": [
    "accuracy_score(voting.predict(xtest),ytest)"
   ]
  },
  {
   "cell_type": "code",
   "execution_count": 59,
   "id": "214540f9",
   "metadata": {
    "execution": {
     "iopub.execute_input": "2024-03-05T12:46:56.653383Z",
     "iopub.status.busy": "2024-03-05T12:46:56.652901Z",
     "iopub.status.idle": "2024-03-05T12:46:57.135033Z",
     "shell.execute_reply": "2024-03-05T12:46:57.133565Z"
    },
    "papermill": {
     "duration": 0.50806,
     "end_time": "2024-03-05T12:46:57.137741",
     "exception": false,
     "start_time": "2024-03-05T12:46:56.629681",
     "status": "completed"
    },
    "tags": []
   },
   "outputs": [
    {
     "name": "stdout",
     "output_type": "stream",
     "text": [
      "              precision    recall  f1-score   support\n",
      "\n",
      "           0       0.83      0.86      0.84      1252\n",
      "           1       0.86      0.84      0.85      1356\n",
      "\n",
      "    accuracy                           0.85      2608\n",
      "   macro avg       0.85      0.85      0.85      2608\n",
      "weighted avg       0.85      0.85      0.85      2608\n",
      "\n"
     ]
    }
   ],
   "source": [
    "print(classification_report(voting.predict(xtest),ytest))"
   ]
  },
  {
   "cell_type": "markdown",
   "id": "66a9f4da",
   "metadata": {
    "papermill": {
     "duration": 0.021586,
     "end_time": "2024-03-05T12:46:57.183575",
     "exception": false,
     "start_time": "2024-03-05T12:46:57.161989",
     "status": "completed"
    },
    "tags": []
   },
   "source": [
    "## Predicting Test Data for Submission"
   ]
  },
  {
   "cell_type": "code",
   "execution_count": 60,
   "id": "8271e326",
   "metadata": {
    "execution": {
     "iopub.execute_input": "2024-03-05T12:46:57.229060Z",
     "iopub.status.busy": "2024-03-05T12:46:57.228613Z",
     "iopub.status.idle": "2024-03-05T12:46:57.966746Z",
     "shell.execute_reply": "2024-03-05T12:46:57.965567Z"
    },
    "papermill": {
     "duration": 0.764234,
     "end_time": "2024-03-05T12:46:57.969383",
     "exception": false,
     "start_time": "2024-03-05T12:46:57.205149",
     "status": "completed"
    },
    "tags": []
   },
   "outputs": [
    {
     "data": {
      "text/html": [
       "<div>\n",
       "<style scoped>\n",
       "    .dataframe tbody tr th:only-of-type {\n",
       "        vertical-align: middle;\n",
       "    }\n",
       "\n",
       "    .dataframe tbody tr th {\n",
       "        vertical-align: top;\n",
       "    }\n",
       "\n",
       "    .dataframe thead th {\n",
       "        text-align: right;\n",
       "    }\n",
       "</style>\n",
       "<table border=\"1\" class=\"dataframe\">\n",
       "  <thead>\n",
       "    <tr style=\"text-align: right;\">\n",
       "      <th></th>\n",
       "      <th>PassengerId</th>\n",
       "      <th>Transported</th>\n",
       "    </tr>\n",
       "  </thead>\n",
       "  <tbody>\n",
       "    <tr>\n",
       "      <th>0</th>\n",
       "      <td>0013_01</td>\n",
       "      <td>1</td>\n",
       "    </tr>\n",
       "    <tr>\n",
       "      <th>1</th>\n",
       "      <td>0018_01</td>\n",
       "      <td>0</td>\n",
       "    </tr>\n",
       "    <tr>\n",
       "      <th>2</th>\n",
       "      <td>0019_01</td>\n",
       "      <td>1</td>\n",
       "    </tr>\n",
       "    <tr>\n",
       "      <th>3</th>\n",
       "      <td>0021_01</td>\n",
       "      <td>1</td>\n",
       "    </tr>\n",
       "    <tr>\n",
       "      <th>4</th>\n",
       "      <td>0023_01</td>\n",
       "      <td>1</td>\n",
       "    </tr>\n",
       "  </tbody>\n",
       "</table>\n",
       "</div>"
      ],
      "text/plain": [
       "  PassengerId  Transported\n",
       "0     0013_01            1\n",
       "1     0018_01            0\n",
       "2     0019_01            1\n",
       "3     0021_01            1\n",
       "4     0023_01            1"
      ]
     },
     "execution_count": 60,
     "metadata": {},
     "output_type": "execute_result"
    }
   ],
   "source": [
    "predictions = voting.predict(test_df)\n",
    "submisssion[\"Transported\"] = predictions\n",
    "submisssion.head()"
   ]
  },
  {
   "cell_type": "code",
   "execution_count": 61,
   "id": "20c7b6c0",
   "metadata": {
    "execution": {
     "iopub.execute_input": "2024-03-05T12:46:58.016442Z",
     "iopub.status.busy": "2024-03-05T12:46:58.015949Z",
     "iopub.status.idle": "2024-03-05T12:46:58.028211Z",
     "shell.execute_reply": "2024-03-05T12:46:58.027151Z"
    },
    "papermill": {
     "duration": 0.038533,
     "end_time": "2024-03-05T12:46:58.030341",
     "exception": false,
     "start_time": "2024-03-05T12:46:57.991808",
     "status": "completed"
    },
    "tags": []
   },
   "outputs": [
    {
     "data": {
      "text/plain": [
       "0        True\n",
       "1       False\n",
       "2        True\n",
       "3        True\n",
       "4        True\n",
       "        ...  \n",
       "4272     True\n",
       "4273    False\n",
       "4274     True\n",
       "4275     True\n",
       "4276     True\n",
       "Name: Transported, Length: 4277, dtype: bool"
      ]
     },
     "execution_count": 61,
     "metadata": {},
     "output_type": "execute_result"
    }
   ],
   "source": [
    "submisssion.Transported=submisssion.Transported.apply(lambda x: True if x==1 else False)\n",
    "submisssion.Transported"
   ]
  },
  {
   "cell_type": "code",
   "execution_count": 62,
   "id": "9d9c357e",
   "metadata": {
    "execution": {
     "iopub.execute_input": "2024-03-05T12:46:58.078901Z",
     "iopub.status.busy": "2024-03-05T12:46:58.078449Z",
     "iopub.status.idle": "2024-03-05T12:46:58.090850Z",
     "shell.execute_reply": "2024-03-05T12:46:58.089595Z"
    },
    "papermill": {
     "duration": 0.039409,
     "end_time": "2024-03-05T12:46:58.093462",
     "exception": false,
     "start_time": "2024-03-05T12:46:58.054053",
     "status": "completed"
    },
    "tags": []
   },
   "outputs": [],
   "source": [
    "submisssion.to_csv(\"submission.csv\",index=False)"
   ]
  },
  {
   "cell_type": "code",
   "execution_count": null,
   "id": "5cc4186f",
   "metadata": {
    "papermill": {
     "duration": 0.021668,
     "end_time": "2024-03-05T12:46:58.137395",
     "exception": false,
     "start_time": "2024-03-05T12:46:58.115727",
     "status": "completed"
    },
    "tags": []
   },
   "outputs": [],
   "source": []
  }
 ],
 "metadata": {
  "kaggle": {
   "accelerator": "none",
   "dataSources": [
    {
     "databundleVersionId": 3220602,
     "sourceId": 34377,
     "sourceType": "competition"
    }
   ],
   "dockerImageVersionId": 30664,
   "isGpuEnabled": false,
   "isInternetEnabled": true,
   "language": "python",
   "sourceType": "notebook"
  },
  "kernelspec": {
   "display_name": "Python 3",
   "language": "python",
   "name": "python3"
  },
  "language_info": {
   "codemirror_mode": {
    "name": "ipython",
    "version": 3
   },
   "file_extension": ".py",
   "mimetype": "text/x-python",
   "name": "python",
   "nbconvert_exporter": "python",
   "pygments_lexer": "ipython3",
   "version": "3.10.13"
  },
  "papermill": {
   "default_parameters": {},
   "duration": 67.15276,
   "end_time": "2024-03-05T12:46:59.283496",
   "environment_variables": {},
   "exception": null,
   "input_path": "__notebook__.ipynb",
   "output_path": "__notebook__.ipynb",
   "parameters": {},
   "start_time": "2024-03-05T12:45:52.130736",
   "version": "2.5.0"
  }
 },
 "nbformat": 4,
 "nbformat_minor": 5
}
